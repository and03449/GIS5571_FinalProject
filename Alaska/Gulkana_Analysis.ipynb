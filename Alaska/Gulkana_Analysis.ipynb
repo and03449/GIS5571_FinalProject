{
 "cells": [
  {
   "cell_type": "markdown",
   "metadata": {},
   "source": [
    "# Finding Change in Gulkana Glacier, Alaska"
   ]
  },
  {
   "cell_type": "markdown",
   "metadata": {},
   "source": [
    "## Import Packages"
   ]
  },
  {
   "cell_type": "code",
   "execution_count": 8,
   "metadata": {},
   "outputs": [],
   "source": [
    "import arcpy"
   ]
  },
  {
   "cell_type": "code",
   "execution_count": 9,
   "metadata": {},
   "outputs": [
    {
     "name": "stderr",
     "output_type": "stream",
     "text": [
      "'C:\\Program' is not recognized as an internal or external command,\n",
      "operable program or batch file.\n"
     ]
    },
    {
     "name": "stdout",
     "output_type": "stream",
     "text": [
      "Note: you may need to restart the kernel to use updated packages.\n"
     ]
    }
   ],
   "source": [
    "# pip install google_drive_downloader"
   ]
  },
  {
   "cell_type": "code",
   "execution_count": 10,
   "metadata": {},
   "outputs": [
    {
     "ename": "ModuleNotFoundError",
     "evalue": "No module named 'google_drive_downloader'",
     "output_type": "error",
     "traceback": [
      "\u001b[0;31m---------------------------------------------------------------------------\u001b[0m\n\u001b[0;31mModuleNotFoundError\u001b[0m                       Traceback (most recent call last)",
      "In  \u001b[0;34m[10]\u001b[0m:\nLine \u001b[0;34m1\u001b[0m:     \u001b[34mfrom\u001b[39;49;00m \u001b[04m\u001b[36mgoogle_drive_downloader\u001b[39;49;00m \u001b[34mimport\u001b[39;49;00m GoogleDriveDownloader \u001b[34mas\u001b[39;49;00m gdd\n",
      "\u001b[0;31mModuleNotFoundError\u001b[0m: No module named 'google_drive_downloader'\n\u001b[0;31m---------------------------------------------------------------------------\u001b[0m"
     ]
    }
   ],
   "source": [
    "# from google_drive_downloader import GoogleDriveDownloader as gdd\n",
    "\n",
    "# Ref https://github.com/ndrplz/google-drive-downloader"
   ]
  },
  {
   "cell_type": "markdown",
   "metadata": {},
   "source": [
    "## Import Data"
   ]
  },
  {
   "cell_type": "code",
   "execution_count": null,
   "metadata": {},
   "outputs": [],
   "source": [
    "# I tried using a Google Drive Downloader package to pull the data directly from the Drive\n",
    "\n",
    "# I could not get this to work with ArcGIS Pro, but it did work with Jupyter\n",
    "\n",
    "# Since it didn't work in Pro I just used the Planet Plug-in to import the data"
   ]
  },
  {
   "cell_type": "markdown",
   "metadata": {},
   "source": [
    "## Reclassify Rasters to 4 Classes for Visual: Not Ice, Two Ice Layers, Snow"
   ]
  },
  {
   "cell_type": "code",
   "execution_count": null,
   "metadata": {},
   "outputs": [],
   "source": [
    "# 4 Natural Breaks\n",
    "\n",
    "# 2017\n",
    "\n",
    "arcpy.ddd.Reclassify(r\"Alaska_2017\\composite.tif\", \"Value\", \"0 5994 1;5994 10547 2;10547 17569 3;17569 25793 4\", r\"C:\\Users\\tande\\Documents\\ArcGIS\\Projects\\GIS5571_Final\\GIS5571_Final.gdb\\Reclass_Alaska_2017\", \"NODATA\")\n",
    "\n",
    "#2018\n",
    "\n",
    "arcpy.ddd.Reclassify(r\"Alaska_2018\\composite.tif\", \"Value\", \"0 8539 1;8539 16279 2;16279 23867 3;23867 32423 4\", r\"C:\\Users\\tande\\Documents\\ArcGIS\\Projects\\GIS5571_Final\\GIS5571_Final.gdb\\Reclass_Alaska_2018\", \"NODATA\")\n",
    "\n",
    "#2019\n",
    "\n",
    "arcpy.ddd.Reclassify(r\"Alaska_2019\\composite.tif\", \"Value\", \"4672 8780 1;8780 12343 2;12343 16239 3;16239 27684 4\", r\"C:\\Users\\tande\\Documents\\ArcGIS\\Projects\\GIS5571_Final\\GIS5571_Final.gdb\\Reclass_Alaska_2019\", \"NODATA\")\n",
    "\n",
    "# 2020\n",
    "\n",
    "arcpy.ddd.Reclassify(r\"Alaska_2020\\composite.tif\", \"Value\", \"1779 8098 1;8098 13286 2;13286 19859 3;19859 27588 4\", r\"C:\\Users\\tande\\Documents\\ArcGIS\\Projects\\GIS5571_Final\\GIS5571_Final.gdb\\Reclass_Alaska_2020\", \"NODATA\")\n",
    "\n",
    "# 2021\n",
    "\n",
    "arcpy.ddd.Reclassify(r\"Alaska_2021\\composite.tif\", \"Value\", \"1866 8535 1;8535 12895 2;12895 19618 3;19618 29476 4\", r\"C:\\Users\\tande\\Documents\\ArcGIS\\Projects\\GIS5571_Final\\GIS5571_Final.gdb\\Reclass_Alaska_2021\", \"NODATA\")\n",
    "\n",
    "# 2022\n",
    "\n",
    "arcpy.ddd.Reclassify(r\"Alaska_2022\\composite.tif\", \"Value\", \"3481 9743 1;9743 15985 2;15985 23283 3;23283 33689 4\", r\"C:\\Users\\tande\\Documents\\ArcGIS\\Projects\\GIS5571_Final\\GIS5571_Final.gdb\\Reclass_Alaska_2022\", \"NODATA\")"
   ]
  },
  {
   "cell_type": "markdown",
   "metadata": {},
   "source": [
    "## Reclassify to 2 Classes: Ice (including snow), Not Ice"
   ]
  },
  {
   "cell_type": "code",
   "execution_count": null,
   "metadata": {},
   "outputs": [],
   "source": [
    "# 2017\n",
    "\n",
    "arcpy.ddd.Reclassify(\"Reclass_Alaska_2017\", \"Value\", \"1 1;2 2;3 2;4 2\", r\"C:\\Users\\tande\\Documents\\ArcGIS\\Projects\\GIS5571_Final\\GIS5571_Final.gdb\\Alaska_Reclass_17\", \"NODATA\")\\\n",
    "\n",
    "# 2018\n",
    "\n",
    "arcpy.ddd.Reclassify(\"Reclass_Alaska_2018\", \"Value\", \"1 1;2 2;3 2;4 2\", r\"C:\\Users\\tande\\Documents\\ArcGIS\\Projects\\GIS5571_Final\\GIS5571_Final.gdb\\Alaska_Reclass_18\", \"NODATA\")\n",
    "\n",
    "# 2019\n",
    "\n",
    "arcpy.ddd.Reclassify(\"Reclass_Alaska_2019\", \"Value\", \"1 1;2 2;3 2;4 2\", r\"C:\\Users\\tande\\Documents\\ArcGIS\\Projects\\GIS5571_Final\\GIS5571_Final.gdb\\Alaska_Reclass_19\", \"NODATA\")\n",
    "\n",
    "# 2020\n",
    "\n",
    "arcpy.ddd.Reclassify(\"Reclass_Alaska_2020\", \"Value\", \"1 1;2 2;3 2;4 2\", r\"C:\\Users\\tande\\Documents\\ArcGIS\\Projects\\GIS5571_Final\\GIS5571_Final.gdb\\Alaska_Reclass_20\", \"NODATA\")\n",
    "\n",
    "#2021\n",
    "\n",
    "arcpy.ddd.Reclassify(\"Reclass_Alaska_2021\", \"Value\", \"1 1;2 2;3 2;4 2\", r\"C:\\Users\\tande\\Documents\\ArcGIS\\Projects\\GIS5571_Final\\GIS5571_Final.gdb\\Alaska_Reclass_21\", \"NODATA\")\n",
    "\n",
    "#2022\n",
    "\n",
    "arcpy.ddd.Reclassify(\"Reclass_Alaska_2022\", \"Value\", \"1 1;2 2;3 2;4 2\", r\"C:\\Users\\tande\\Documents\\ArcGIS\\Projects\\GIS5571_Final\\GIS5571_Final.gdb\\Alaska_Reclass_22\", \"NODATA\")"
   ]
  },
  {
   "cell_type": "markdown",
   "metadata": {},
   "source": [
    "## Estimating Change Over Time With Calculated Fields"
   ]
  },
  {
   "cell_type": "markdown",
   "metadata": {},
   "source": [
    "### Calculate Percent Cell Type by Ice and Not Ice"
   ]
  },
  {
   "cell_type": "code",
   "execution_count": null,
   "metadata": {},
   "outputs": [],
   "source": [
    "# Should have used search/update cursor\n",
    "\n",
    "# 2017\n",
    "\n",
    "arcpy.management.CalculateField(\"Alaska_Reclass_17\", \"TotalCount_17\", \"855086 +  1262128\", \"PYTHON3\", '', \"DOUBLE\", \"NO_ENFORCE_DOMAINS\")\n",
    "arcpy.management.CalculateField(\"Alaska_Reclass_17\", \"Percent_17\", \"(!Count! / !TotalCount_17!) * 100\", \"PYTHON3\", '', \"DOUBLE\", \"NO_ENFORCE_DOMAINS\")\n",
    "\n",
    "# 2018\n",
    "\n",
    "arcpy.management.CalculateField(\"Alaska_Reclass_18\", \"TotalCount_18\", \"953925  +  1163289\", \"PYTHON3\", '', \"DOUBLE\", \"NO_ENFORCE_DOMAINS\")\\\n",
    "arcpy.management.CalculateField(\"Alaska_Reclass_18\", \"Percent_18\", \"(!Count! / !TotalCount_18!)*100\", \"PYTHON3\", '', \"DOUBLE\", \"NO_ENFORCE_DOMAINS\")\n",
    "\n",
    "# 2019\n",
    "arcpy.management.CalculateField(\"Alaska_Reclass_19\", \"TotalCount_19\", \"836965 +  1175049\", \"PYTHON3\", '', \"DOUBLE\", \"NO_ENFORCE_DOMAINS\")\n",
    "arcpy.management.CalculateField(\"Alaska_Reclass_19\", \"Percent_19\", \"(!Count! / !TotalCount_19!) * 100\", \"PYTHON3\", '', \"DOUBLE\", \"NO_ENFORCE_DOMAINS\")\n",
    "\n",
    "# 2020\n",
    "\n",
    "arcpy.management.CalculateField(\"Alaska_Reclass_20\", \"TotalCount_20\", \"953236 +  1058778\", \"PYTHON3\", '', \"DOUBLE\", \"NO_ENFORCE_DOMAINS\")\n",
    "arcpy.management.CalculateField(\"Alaska_Reclass_20\", \"Percent_20\", \"(!Count! / !TotalCount_20!)*100\", \"PYTHON3\", '', \"DOUBLE\", \"NO_ENFORCE_DOMAINS\")\n",
    "\n",
    "# 2021\n",
    "\n",
    "arcpy.management.CalculateField(\"Alaska_Reclass_21\", \"TotalCount_21\", \"973384 +  1038630\", \"PYTHON3\", '', \"DOUBLE\", \"NO_ENFORCE_DOMAINS\")\n",
    "arcpy.management.CalculateField(\"Alaska_Reclass_21\", \"Percent_21\", \"(!Count! / !TotalCount_21!)*100\", \"PYTHON3\", '', \"DOUBLE\", \"NO_ENFORCE_DOMAINS\")\n",
    "\n",
    "# 2022\n",
    "\n",
    "arcpy.management.CalculateField(\"Alaska_Reclass_22\", \"TotalCount_22\", \"968817 +  1043197\", \"PYTHON3\", '', \"DOUBLE\", \"NO_ENFORCE_DOMAINS\")\n",
    "arcpy.management.CalculateField(\"Alaska_Reclass_22\", \"Percent_22\", \"(!Count! / !TotalCount_22!)*100\", \"PYTHON3\", '', \"DOUBLE\", \"NO_ENFORCE_DOMAINS\")"
   ]
  },
  {
   "cell_type": "markdown",
   "metadata": {},
   "source": [
    "### Join All Tables To a Single Table"
   ]
  },
  {
   "cell_type": "code",
   "execution_count": null,
   "metadata": {},
   "outputs": [],
   "source": [
    "arcpy.management.JoinField(\"Alaska_Reclass_17\", \"Value\", \"Alaska_Reclass_18\", \"Value\", \"Percent_18\", \"NOT_USE_FM\", None)\n",
    "arcpy.management.JoinField(\"Alaska_Reclass_17\", \"Value\", \"Alaska_Reclass_19\", \"Value\", \"Percent_19\", \"NOT_USE_FM\", None)\n",
    "arcpy.management.JoinField(\"Alaska_Reclass_17\", \"Value\", \"Alaska_Reclass_20\", \"Value\", \"Percent_20\", \"NOT_USE_FM\", None)\n",
    "arcpy.management.JoinField(\"Alaska_Reclass_17\", \"Value\", \"Alaska_Reclass_21\", \"Value\", \"Percent_21\", \"NOT_USE_FM\", None)\n",
    "arcpy.management.JoinField(\"Alaska_Reclass_17\", \"Value\", \"Alaska_Reclass_22\", \"Value\", \"Percent_22\", \"NOT_USE_FM\", None)"
   ]
  },
  {
   "cell_type": "markdown",
   "metadata": {},
   "source": [
    "### Convert Joined Table to New Table"
   ]
  },
  {
   "cell_type": "code",
   "execution_count": null,
   "metadata": {},
   "outputs": [],
   "source": [
    "arcpy.conversion.TableToTable(\"Alaska_Reclass_17\", r\"C:\\Users\\tande\\Documents\\ArcGIS\\Projects\\GIS5571_Final\\GIS5571_Final.gdb\", \"Alaska_CalculateField_Join\", '', 'Value \"Value\" false true false 4 Long 0 0,First,#,Alaska_Reclass_17,Value,-1,-1;Count \"Count\" false true false 8 Double 0 0,First,#,Alaska_Reclass_17,Count,-1,-1;TotalCount_17 \"TotalCount_17\" true true false 8 Double 0 0,First,#,Alaska_Reclass_17,TotalCount_17,-1,-1;Percent_17 \"Percent_17\" true true false 8 Double 0 0,First,#,Alaska_Reclass_17,Percent_17,-1,-1;Percent_18 \"Percent_18\" true true false 8 Double 0 0,First,#,Alaska_Reclass_17,Percent_18,-1,-1;Percent_19 \"Percent_19\" true true false 8 Double 0 0,First,#,Alaska_Reclass_17,Percent_19,-1,-1;Percent_20 \"Percent_20\" true true false 8 Double 0 0,First,#,Alaska_Reclass_17,Percent_20,-1,-1;Percent_21 \"Percent_21\" true true false 8 Double 0 0,First,#,Alaska_Reclass_17,Percent_21,-1,-1;Percent_22 \"Percent_22\" true true false 8 Double 0 0,First,#,Alaska_Reclass_17,Percent_22,-1,-1', '')"
   ]
  },
  {
   "cell_type": "markdown",
   "metadata": {},
   "source": [
    "### Create Bar Chart for Visual of Change Over Time Using Calculated Fields"
   ]
  },
  {
   "cell_type": "markdown",
   "metadata": {},
   "source": [
    "## Estimating Change Over Time With Compute Change Raster"
   ]
  },
  {
   "cell_type": "markdown",
   "metadata": {},
   "source": [
    "### Compute Change Between Rasters"
   ]
  },
  {
   "cell_type": "code",
   "execution_count": null,
   "metadata": {},
   "outputs": [],
   "source": [
    "# 2017 to 2018\n",
    "\n",
    "out_raster_dataset = arcpy.ia.ComputeChangeRaster(\"Alaska_Reclass_17\", \"Alaska_Reclass_18\", \"CATEGORICAL_DIFFERENCE\", \"1;2\", \"1;2\", \"ALL\", \"AVERAGE\", None, None); out_raster_dataset.save(r\"C:\\Users\\tande\\Documents\\ArcGIS\\Projects\\GIS5571_Final\\Alaska_Reclass_1718_ComputeChange.crf\")\n",
    "\n",
    "#2018 to 2019\n",
    "\n",
    "out_raster_dataset = arcpy.ia.ComputeChangeRaster(\"Alaska_Reclass_18\", \"Alaska_Reclass_19\", \"CATEGORICAL_DIFFERENCE\", \"1;2\", \"1;2\", \"ALL\", \"AVERAGE\", None, None); out_raster_dataset.save(r\"C:\\Users\\tande\\Documents\\ArcGIS\\Projects\\GIS5571_Final\\Alaska_Reclass_1819_ComputeChange.crf\")\n",
    "\n",
    "# 2019 to 2020\n",
    "\n",
    "out_raster_dataset = arcpy.ia.ComputeChangeRaster(\"Alaska_Reclass_19\", \"Alaska_Reclass_20\", \"CATEGORICAL_DIFFERENCE\", \"1;2\", \"1;2\", \"ALL\", \"AVERAGE\", None, None); out_raster_dataset.save(r\"C:\\Users\\tande\\Documents\\ArcGIS\\Projects\\GIS5571_Final\\Alaska_Reclass_1920_ComputeChange.crf\")\n",
    "\n",
    "# 2020 to 2021\n",
    "\n",
    "out_raster_dataset = arcpy.ia.ComputeChangeRaster(\"Alaska_Reclass_20\", \"Alaska_Reclass_21\", \"CATEGORICAL_DIFFERENCE\", \"1;2\", \"1;2\", \"ALL\", \"AVERAGE\", None, None); out_raster_dataset.save(r\"C:\\Users\\tande\\Documents\\ArcGIS\\Projects\\GIS5571_Final\\Alaska_Reclass_2021_ComputeChange.crf\")\n",
    "\n",
    "# 2021 to 2022\n",
    "\n",
    "out_raster_dataset = arcpy.ia.ComputeChangeRaster(\"Alaska_Reclass_21\", \"Alaska_Reclass_22\", \"CATEGORICAL_DIFFERENCE\", \"1;2\", \"1;2\", \"ALL\", \"AVERAGE\", None, None); out_raster_dataset.save(r\"C:\\Users\\tande\\Documents\\ArcGIS\\Projects\\GIS5571_Final\\Alaska_Reclass_2122_ComputeChange.crf\")\n",
    "\n",
    "# Ref https://pro.arcgis.com/en/pro-app/latest/help/analysis/image-analyst/the-change-detection-wizard.htm"
   ]
  },
  {
   "cell_type": "markdown",
   "metadata": {},
   "source": [
    "### Calculate Percent Cell Type by Ice and Not Ice & Percent Change"
   ]
  },
  {
   "cell_type": "code",
   "execution_count": null,
   "metadata": {},
   "outputs": [],
   "source": [
    "# Should have used search/update cursor\n",
    "\n",
    "# 2017 to 2018\n",
    "\n",
    "arcpy.management.CalculateField(\"Alaska_Reclass_1718_ComputeChange.crf\", \"Total_1718\", \"69577 +  377780 +  785509 +  884348\", \"PYTHON3\", '', \"DOUBLE\", \"NO_ENFORCE_DOMAINS\")\n",
    "arcpy.management.CalculateField(\"Alaska_Reclass_1718_ComputeChange.crf\", \"Perc_1718\", \"(!Count! / !Total_1718!)*100\", \"PYTHON3\", '', \"DOUBLE\", \"NO_ENFORCE_DOMAINS\")\n",
    "arcpy.management.CalculateField(\"Alaska_Reclass_1718_ComputeChange.crf\", \"Cha_1718\", \"17.843260057799998 -  3.28625259421\", \"PYTHON3\", '', \"DOUBLE\", \"NO_ENFORCE_DOMAINS\")\n",
    "\n",
    "# 2018 to 2019\n",
    "\n",
    "arcpy.management.CalculateField(\"Alaska_Reclass_1819_ComputeChange.crf\", \"Total_1819\", \"68662 +  185622 +  768303 +  989427\", \"PYTHON3\", '', \"DOUBLE\", \"NO_ENFORCE_DOMAINS\")\n",
    "arcpy.management.CalculateField(\"Alaska_Reclass_1819_ComputeChange.crf\", \"Perc_1819\", \"(!Count! / !Total_1819!)*100\", \"PYTHON3\", '', \"DOUBLE\", \"NO_ENFORCE_DOMAINS\")\n",
    "arcpy.management.CalculateField(\"Alaska_Reclass_1819_ComputeChange.crf\", \"Cha_1819\", \"9.2256813322400006 -  3.4126005087400002\", \"PYTHON3\", '', \"DOUBLE\", \"NO_ENFORCE_DOMAINS\")\n",
    "\n",
    "# 2019 to 2020\n",
    "\n",
    "arcpy.management.CalculateField(\"Alaska_Reclass_1920_ComputeChange.crf\", \"Total_1920\", \"21832 +  243645 +  815133 +  931404\", \"PYTHON3\", '', \"DOUBLE\", \"NO_ENFORCE_DOMAINS\")\n",
    "arcpy.management.CalculateField(\"Alaska_Reclass_1920_ComputeChange.crf\", \"Perc_1920\", \"(!Count! / !Total_1920!)*100\", \"PYTHON3\", '', \"DOUBLE\", \"NO_ENFORCE_DOMAINS\")\n",
    "arcpy.management.CalculateField(\"Alaska_Reclass_1920_ComputeChange.crf\", \"Cha_1920\", \"1.08508191295 -  12.109508184299999\", \"PYTHON3\", '', \"DOUBLE\", \"NO_ENFORCE_DOMAINS\")\n",
    "\n",
    "# 2020 to 2021\n",
    "\n",
    "arcpy.management.CalculateField(\"Alaska_Reclass_2021_ComputeChange.crf\", \"Total_2021\", \"52122 +  137516 +  901114 +  921262\", \"PYTHON3\", '', \"DOUBLE\", \"NO_ENFORCE_DOMAINS\")\n",
    "arcpy.management.CalculateField(\"Alaska_Reclass_2021_ComputeChange.crf\", \"Perc_2021\", \"(!Count! / !Total_2021!)*100\", \"PYTHON3\", '', \"DOUBLE\", \"NO_ENFORCE_DOMAINS\")\n",
    "arcpy.management.CalculateField(\"Alaska_Reclass_2021_ComputeChange.crf\", \"Cha_2021\", \"6.8347436946300002 -  2.5905386344200001\", \"PYTHON3\", '', \"DOUBLE\", \"NO_ENFORCE_DOMAINS\")\n",
    "\n",
    "# 2021 to 2022\n",
    "\n",
    "arcpy.management.CalculateField(\"Alaska_Reclass_2122_ComputeChange.crf\", \"Total_2122\", \"94982 +  99549 +  873835 +  943648\", \"PYTHON3\", '', \"DOUBLE\", \"NO_ENFORCE_DOMAINS\")\n",
    "arcpy.management.CalculateField(\"Alaska_Reclass_2122_ComputeChange.crf\", \"Perc_2122\", \"(!Count! / !Total_2122!)*100\", \"PYTHON3\", '', \"DOUBLE\", \"NO_ENFORCE_DOMAINS\")\n",
    "arcpy.management.CalculateField(\"Alaska_Reclass_2122_ComputeChange.crf\", \"Cha_2122\", \"4.94772899195 -  4.7207424998\", \"PYTHON3\", '', \"DOUBLE\", \"NO_ENFORCE_DOMAINS\")\n",
    "\n",
    "# Ref https://pro.arcgis.com/en/pro-app/latest/help/analysis/image-analyst/pixel-value-change-detection.htm"
   ]
  },
  {
   "cell_type": "markdown",
   "metadata": {},
   "source": [
    "### Convert .crf File to Table"
   ]
  },
  {
   "cell_type": "code",
   "execution_count": null,
   "metadata": {},
   "outputs": [],
   "source": [
    "arcpy.conversion.TableToTable(\"Alaska_Reclass_1718_ComputeChange.crf\", r\"C:\\Users\\tande\\Documents\\ArcGIS\\Projects\\GIS5571_Final\\GIS5571_Final.gdb\", \"Alaska_Reclass_1718_ComputeChange\", '', 'Value \"Value\" false true false 10 Long 0 10,First,#,Alaska_Reclass_1718_ComputeChange.crf,Value,-1,-1;Classvalue \"Classvalue\" true true false 10 Long 0 10,First,#,Alaska_Reclass_1718_ComputeChange.crf,Classvalue,-1,-1;Class_name \"Class_name\" true true false 254 Text 0 0,First,#,Alaska_Reclass_1718_ComputeChange.crf,Class_name,0,254;Class_From \"Class_From\" true true false 254 Text 0 0,First,#,Alaska_Reclass_1718_ComputeChange.crf,Class_From,0,254;Class_To \"Class_To\" true true false 254 Text 0 0,First,#,Alaska_Reclass_1718_ComputeChange.crf,Class_To,0,254;Red \"Red\" true true false 10 Long 0 10,First,#,Alaska_Reclass_1718_ComputeChange.crf,Red,-1,-1;Green \"Green\" true true false 10 Long 0 10,First,#,Alaska_Reclass_1718_ComputeChange.crf,Green,-1,-1;Blue \"Blue\" true true false 10 Long 0 10,First,#,Alaska_Reclass_1718_ComputeChange.crf,Blue,-1,-1;Alpha \"Alpha\" true true false 10 Long 0 10,First,#,Alaska_Reclass_1718_ComputeChange.crf,Alpha,-1,-1;Count \"Count\" false true false 19 Double 0 0,First,#,Alaska_Reclass_1718_ComputeChange.crf,Count,-1,-1;Area \"Area\" true true false 19 Double 0 0,First,#,Alaska_Reclass_1718_ComputeChange.crf,Area,-1,-1;Total_1718 \"Total_1718\" true true false 19 Double 0 0,First,#,Alaska_Reclass_1718_ComputeChange.crf,Total_1718,-1,-1;Perc_1718 \"Perc_1718\" true true false 19 Double 0 0,First,#,Alaska_Reclass_1718_ComputeChange.crf,Perc_1718,-1,-1;Cha_1718 \"Cha_1718\" true true false 19 Double 0 0,First,#,Alaska_Reclass_1718_ComputeChange.crf,Cha_1718,-1,-1', '')\n",
    "arcpy.conversion.TableToTable(\"Alaska_Reclass_1819_ComputeChange.crf\", r\"C:\\Users\\tande\\Documents\\ArcGIS\\Projects\\GIS5571_Final\\GIS5571_Final.gdb\", \"Alaska_Reclass_1819_ComputeChange\", '', 'Value \"Value\" false true false 10 Long 0 10,First,#,Alaska_Reclass_1819_ComputeChange.crf,Value,-1,-1;Classvalue \"Classvalue\" true true false 10 Long 0 10,First,#,Alaska_Reclass_1819_ComputeChange.crf,Classvalue,-1,-1;Class_name \"Class_name\" true true false 254 Text 0 0,First,#,Alaska_Reclass_1819_ComputeChange.crf,Class_name,0,254;Class_From \"Class_From\" true true false 254 Text 0 0,First,#,Alaska_Reclass_1819_ComputeChange.crf,Class_From,0,254;Class_To \"Class_To\" true true false 254 Text 0 0,First,#,Alaska_Reclass_1819_ComputeChange.crf,Class_To,0,254;Red \"Red\" true true false 10 Long 0 10,First,#,Alaska_Reclass_1819_ComputeChange.crf,Red,-1,-1;Green \"Green\" true true false 10 Long 0 10,First,#,Alaska_Reclass_1819_ComputeChange.crf,Green,-1,-1;Blue \"Blue\" true true false 10 Long 0 10,First,#,Alaska_Reclass_1819_ComputeChange.crf,Blue,-1,-1;Alpha \"Alpha\" true true false 10 Long 0 10,First,#,Alaska_Reclass_1819_ComputeChange.crf,Alpha,-1,-1;Count \"Count\" false true false 19 Double 0 0,First,#,Alaska_Reclass_1819_ComputeChange.crf,Count,-1,-1;Area \"Area\" true true false 19 Double 0 0,First,#,Alaska_Reclass_1819_ComputeChange.crf,Area,-1,-1;Total_1819 \"Total_1819\" true true false 19 Double 0 0,First,#,Alaska_Reclass_1819_ComputeChange.crf,Total_1819,-1,-1;Perc_1819 \"Perc_1819\" true true false 19 Double 0 0,First,#,Alaska_Reclass_1819_ComputeChange.crf,Perc_1819,-1,-1;Cha_1819 \"Cha_1819\" true true false 19 Double 0 0,First,#,Alaska_Reclass_1819_ComputeChange.crf,Cha_1819,-1,-1', '')\n",
    "arcpy.conversion.TableToTable(\"Alaska_Reclass_1920_ComputeChange.crf\", r\"C:\\Users\\tande\\Documents\\ArcGIS\\Projects\\GIS5571_Final\\GIS5571_Final.gdb\", \"Alaska_Reclass_1920_ComputeChange\", '', 'Value \"Value\" false true false 10 Long 0 10,First,#,Alaska_Reclass_1920_ComputeChange.crf,Value,-1,-1;Classvalue \"Classvalue\" true true false 10 Long 0 10,First,#,Alaska_Reclass_1920_ComputeChange.crf,Classvalue,-1,-1;Class_name \"Class_name\" true true false 254 Text 0 0,First,#,Alaska_Reclass_1920_ComputeChange.crf,Class_name,0,254;Class_From \"Class_From\" true true false 254 Text 0 0,First,#,Alaska_Reclass_1920_ComputeChange.crf,Class_From,0,254;Class_To \"Class_To\" true true false 254 Text 0 0,First,#,Alaska_Reclass_1920_ComputeChange.crf,Class_To,0,254;Red \"Red\" true true false 10 Long 0 10,First,#,Alaska_Reclass_1920_ComputeChange.crf,Red,-1,-1;Green \"Green\" true true false 10 Long 0 10,First,#,Alaska_Reclass_1920_ComputeChange.crf,Green,-1,-1;Blue \"Blue\" true true false 10 Long 0 10,First,#,Alaska_Reclass_1920_ComputeChange.crf,Blue,-1,-1;Alpha \"Alpha\" true true false 10 Long 0 10,First,#,Alaska_Reclass_1920_ComputeChange.crf,Alpha,-1,-1;Count \"Count\" false true false 19 Double 0 0,First,#,Alaska_Reclass_1920_ComputeChange.crf,Count,-1,-1;Area \"Area\" true true false 19 Double 0 0,First,#,Alaska_Reclass_1920_ComputeChange.crf,Area,-1,-1;Total_1920 \"Total_1920\" true true false 19 Double 0 0,First,#,Alaska_Reclass_1920_ComputeChange.crf,Total_1920,-1,-1;Perc_1920 \"Perc_1920\" true true false 19 Double 0 0,First,#,Alaska_Reclass_1920_ComputeChange.crf,Perc_1920,-1,-1;Cha_1920 \"Cha_1920\" true true false 19 Double 0 0,First,#,Alaska_Reclass_1920_ComputeChange.crf,Cha_1920,-1,-1', '')\n",
    "arcpy.conversion.TableToTable(\"Alaska_Reclass_2021_ComputeChange.crf\", r\"C:\\Users\\tande\\Documents\\ArcGIS\\Projects\\GIS5571_Final\\GIS5571_Final.gdb\", \"Alaska_Reclass_2021_ComputeChange\", '', 'Value \"Value\" false true false 10 Long 0 10,First,#,Alaska_Reclass_2021_ComputeChange.crf,Value,-1,-1;Classvalue \"Classvalue\" true true false 10 Long 0 10,First,#,Alaska_Reclass_2021_ComputeChange.crf,Classvalue,-1,-1;Class_name \"Class_name\" true true false 254 Text 0 0,First,#,Alaska_Reclass_2021_ComputeChange.crf,Class_name,0,254;Class_From \"Class_From\" true true false 254 Text 0 0,First,#,Alaska_Reclass_2021_ComputeChange.crf,Class_From,0,254;Class_To \"Class_To\" true true false 254 Text 0 0,First,#,Alaska_Reclass_2021_ComputeChange.crf,Class_To,0,254;Red \"Red\" true true false 10 Long 0 10,First,#,Alaska_Reclass_2021_ComputeChange.crf,Red,-1,-1;Green \"Green\" true true false 10 Long 0 10,First,#,Alaska_Reclass_2021_ComputeChange.crf,Green,-1,-1;Blue \"Blue\" true true false 10 Long 0 10,First,#,Alaska_Reclass_2021_ComputeChange.crf,Blue,-1,-1;Alpha \"Alpha\" true true false 10 Long 0 10,First,#,Alaska_Reclass_2021_ComputeChange.crf,Alpha,-1,-1;Count \"Count\" false true false 19 Double 0 0,First,#,Alaska_Reclass_2021_ComputeChange.crf,Count,-1,-1;Area \"Area\" true true false 19 Double 0 0,First,#,Alaska_Reclass_2021_ComputeChange.crf,Area,-1,-1;Total_2021 \"Total_2021\" true true false 19 Double 0 0,First,#,Alaska_Reclass_2021_ComputeChange.crf,Total_2021,-1,-1;Perc_2021 \"Perc_2021\" true true false 19 Double 0 0,First,#,Alaska_Reclass_2021_ComputeChange.crf,Perc_2021,-1,-1;Cha_2021 \"Cha_2021\" true true false 19 Double 0 0,First,#,Alaska_Reclass_2021_ComputeChange.crf,Cha_2021,-1,-1', '')\n",
    "arcpy.conversion.TableToTable(\"Alaska_Reclass_2122_ComputeChange.crf\", r\"C:\\Users\\tande\\Documents\\ArcGIS\\Projects\\GIS5571_Final\\GIS5571_Final.gdb\", \"Alaska_Reclass_2122_ComputeChange\", '', 'Value \"Value\" false true false 10 Long 0 10,First,#,Alaska_Reclass_2122_ComputeChange.crf,Value,-1,-1;Classvalue \"Classvalue\" true true false 10 Long 0 10,First,#,Alaska_Reclass_2122_ComputeChange.crf,Classvalue,-1,-1;Class_name \"Class_name\" true true false 254 Text 0 0,First,#,Alaska_Reclass_2122_ComputeChange.crf,Class_name,0,254;Class_From \"Class_From\" true true false 254 Text 0 0,First,#,Alaska_Reclass_2122_ComputeChange.crf,Class_From,0,254;Class_To \"Class_To\" true true false 254 Text 0 0,First,#,Alaska_Reclass_2122_ComputeChange.crf,Class_To,0,254;Red \"Red\" true true false 10 Long 0 10,First,#,Alaska_Reclass_2122_ComputeChange.crf,Red,-1,-1;Green \"Green\" true true false 10 Long 0 10,First,#,Alaska_Reclass_2122_ComputeChange.crf,Green,-1,-1;Blue \"Blue\" true true false 10 Long 0 10,First,#,Alaska_Reclass_2122_ComputeChange.crf,Blue,-1,-1;Alpha \"Alpha\" true true false 10 Long 0 10,First,#,Alaska_Reclass_2122_ComputeChange.crf,Alpha,-1,-1;Count \"Count\" false true false 19 Double 0 0,First,#,Alaska_Reclass_2122_ComputeChange.crf,Count,-1,-1;Area \"Area\" true true false 19 Double 0 0,First,#,Alaska_Reclass_2122_ComputeChange.crf,Area,-1,-1;Total_2122 \"Total_2122\" true true false 19 Double 0 0,First,#,Alaska_Reclass_2122_ComputeChange.crf,Total_2122,-1,-1;Perc_2122 \"Perc_2122\" true true false 19 Double 0 0,First,#,Alaska_Reclass_2122_ComputeChange.crf,Perc_2122,-1,-1;Cha_2122 \"Cha_2122\" true true false 19 Double 0 0,First,#,Alaska_Reclass_2122_ComputeChange.crf,Cha_2122,-1,-1', '')"
   ]
  },
  {
   "cell_type": "markdown",
   "metadata": {},
   "source": [
    "### Join All Tables to a Single Table"
   ]
  },
  {
   "cell_type": "code",
   "execution_count": null,
   "metadata": {},
   "outputs": [],
   "source": [
    "arcpy.management.JoinField(\"Alaska_Reclass_1718_ComputeChange\", \"Class_name\", \"Alaska_Reclass_1819_ComputeChange\", \"Class_name\", \"Perc_1819;Cha_1819\", \"NOT_USE_FM\", None)\n",
    "arcpy.management.JoinField(\"Alaska_Reclass_1718_ComputeChange\", \"Class_name\", \"Alaska_Reclass_1920_ComputeChange\", \"Class_name\", \"Perc_1920;Cha_1920\", \"NOT_USE_FM\", None)\n",
    "arcpy.management.JoinField(\"Alaska_Reclass_1718_ComputeChange\", \"Class_name\", \"Alaska_Reclass_2021_ComputeChange\", \"Class_name\", \"Perc_2021;Cha_2021\", \"NOT_USE_FM\", None)\n",
    "arcpy.management.JoinField(\"Alaska_Reclass_1718_ComputeChange\", \"Class_name\", \"Alaska_Reclass_2122_ComputeChange\", \"Class_name\", \"Perc_2122;Cha_2122\", \"NOT_USE_FM\", None)"
   ]
  },
  {
   "cell_type": "markdown",
   "metadata": {},
   "source": [
    "### Create Bar Chart for Visual of Change Over Time Using Compute Change"
   ]
  },
  {
   "cell_type": "markdown",
   "metadata": {},
   "source": [
    "### Reclassify Back to Two Classes: Ice, Not Ice"
   ]
  },
  {
   "cell_type": "code",
   "execution_count": null,
   "metadata": {},
   "outputs": [],
   "source": [
    "arcpy.ddd.Reclassify(\"Alaska_Reclass_1718_ComputeChange.crf\", \"Class_To\", \"1 1;2 2\", r\"C:\\Users\\tande\\Documents\\ArcGIS\\Projects\\GIS5571_Final\\GIS5571_Final.gdb\\Alaska_Reclass_Change_1718\", \"NODATA\")\n",
    "arcpy.ddd.Reclassify(\"Alaska_Reclass_1819_ComputeChange.crf\", \"Class_To\", \"1 1;2 2\", r\"C:\\Users\\tande\\Documents\\ArcGIS\\Projects\\GIS5571_Final\\GIS5571_Final.gdb\\Alaska_Reclass_Change_1819\", \"NODATA\")\n",
    "arcpy.ddd.Reclassify(\"Alaska_Reclass_1920_ComputeChange.crf\", \"Class_To\", \"1 1;2 2\", r\"C:\\Users\\tande\\Documents\\ArcGIS\\Projects\\GIS5571_Final\\GIS5571_Final.gdb\\Alaska_Reclass_Change_1920\", \"NODATA\")\n",
    "arcpy.ddd.Reclassify(\"Alaska_Reclass_2021_ComputeChange.crf\", \"Class_To\", \"1 1;2 2\", r\"C:\\Users\\tande\\Documents\\ArcGIS\\Projects\\GIS5571_Final\\GIS5571_Final.gdb\\Alaska_Reclass_Change_2021\", \"NODATA\")\n",
    "arcpy.ddd.Reclassify(\"Alaska_Reclass_2122_ComputeChange.crf\", \"Class_To\", \"1 1;2 2\", r\"C:\\Users\\tande\\Documents\\ArcGIS\\Projects\\GIS5571_Final\\GIS5571_Final.gdb\\Alaska_Reclass_Change_2122\", \"NODATA\")"
   ]
  },
  {
   "cell_type": "markdown",
   "metadata": {},
   "source": [
    "### Calculate Percent Cell Type by Ice and Not Ice"
   ]
  },
  {
   "cell_type": "code",
   "execution_count": null,
   "metadata": {},
   "outputs": [],
   "source": [
    "arcpy.management.CalculateField(\"Alaska_Reclass_Change_1718\", \"Total_1718\", \"953925 +  1163289\", \"PYTHON3\", '', \"DOUBLE\", \"NO_ENFORCE_DOMAINS\")\n",
    "arcpy.management.CalculateField(\"Alaska_Reclass_Change_1718\", \"Perc_1718\", \"(!Count! / !Total_1718!)*100\", \"PYTHON3\", '', \"DOUBLE\", \"NO_ENFORCE_DOMAINS\")\n",
    "\n",
    "arcpy.management.CalculateField(\"Alaska_Reclass_Change_1819\", \"Total_1819\", \"836965 +  1175049\", \"PYTHON3\", '', \"DOUBLE\", \"NO_ENFORCE_DOMAINS\")\n",
    "arcpy.management.CalculateField(\"Alaska_Reclass_Change_1819\", \"Perc_1819\", \"(!Count! / !Total_1819!)*100\", \"PYTHON3\", '', \"DOUBLE\", \"NO_ENFORCE_DOMAINS\")\n",
    "\n",
    "arcpy.management.CalculateField(\"Alaska_Reclass_Change_1920\", \"Total_1920\", \"953236 +  1058778\", \"PYTHON3\", '', \"DOUBLE\", \"NO_ENFORCE_DOMAINS\")\n",
    "arcpy.management.CalculateField(\"Alaska_Reclass_Change_1920\", \"Perc_1920\", \"(!Count! / !Total_1920!)*100\", \"PYTHON3\", '', \"DOUBLE\", \"NO_ENFORCE_DOMAINS\")\n",
    "\n",
    "arcpy.management.CalculateField(\"Alaska_Reclass_Change_2021\", \"Total_2021\", \"973384 +  1038630\", \"PYTHON3\", '', \"DOUBLE\", \"NO_ENFORCE_DOMAINS\")\n",
    "arcpy.management.CalculateField(\"Alaska_Reclass_Change_2021\", \"Perc_2021\", \"(!Count! / !Total_2021!)*100\", \"PYTHON3\", '', \"DOUBLE\", \"NO_ENFORCE_DOMAINS\")\n",
    "\n",
    "arcpy.management.CalculateField(\"Alaska_Reclass_Change_2122\", \"Total_2122\", \"968817 +  1043197\", \"PYTHON3\", '', \"DOUBLE\", \"NO_ENFORCE_DOMAINS\")\n",
    "arcpy.management.CalculateField(\"Alaska_Reclass_Change_2122\", \"Perc_2122\", \"(!Count! / !Total_2122!)*100\", \"PYTHON3\", '', \"DOUBLE\", \"NO_ENFORCE_DOMAINS\")\n"
   ]
  },
  {
   "cell_type": "markdown",
   "metadata": {},
   "source": [
    "### Join All Tables to a Single Table"
   ]
  },
  {
   "cell_type": "code",
   "execution_count": null,
   "metadata": {},
   "outputs": [],
   "source": [
    "arcpy.management.JoinField(\"Alaska_Reclass_Change_1718\", \"Class_To\", \"Alaska_Reclass_Change_1819\", \"Class_To\", \"Perc_1819\", \"NOT_USE_FM\", None)\n",
    "arcpy.management.JoinField(\"Alaska_Reclass_Change_1718\", \"Class_To\", \"Alaska_Reclass_Change_1920\", \"Class_To\", \"Perc_1920\", \"NOT_USE_FM\", None)\n",
    "arcpy.management.JoinField(\"Alaska_Reclass_Change_1718\", \"Class_To\", \"Alaska_Reclass_Change_2021\", \"Class_To\", \"Perc_2021\", \"NOT_USE_FM\", None)\n",
    "arcpy.management.JoinField(\"Alaska_Reclass_Change_1718\", \"Class_To\", \"Alaska_Reclass_Change_2122\", \"Class_To\", \"Perc_2122\", \"NOT_USE_FM\", None)"
   ]
  },
  {
   "cell_type": "markdown",
   "metadata": {},
   "source": [
    "### Convert Joined Table to New Table"
   ]
  },
  {
   "cell_type": "code",
   "execution_count": null,
   "metadata": {},
   "outputs": [],
   "source": [
    "arcpy.conversion.TableToTable(\"Alaska_Reclass_Change_1718\", r\"C:\\Users\\tande\\Documents\\ArcGIS\\Projects\\GIS5571_Final\\GIS5571_Final.gdb\", \"Alaska_ComputeChange_Join\", '', 'Value \"Value\" false true false 4 Long 0 0,First,#,Alaska_Reclass_Change_1718,Value,-1,-1;Count \"Count\" false true false 8 Double 0 0,First,#,Alaska_Reclass_Change_1718,Count,-1,-1;Class_To \"Class_To\" true true false 1 Text 0 0,First,#,Alaska_Reclass_Change_1718,Class_To,0,1;Total_1718 \"Total_1718\" true true false 8 Double 0 0,First,#,Alaska_Reclass_Change_1718,Total_1718,-1,-1;Perc_1718 \"Perc_1718\" true true false 8 Double 0 0,First,#,Alaska_Reclass_Change_1718,Perc_1718,-1,-1;Perc_1819 \"Perc_1819\" true true false 8 Double 0 0,First,#,Alaska_Reclass_Change_1718,Perc_1819,-1,-1;Perc_1920 \"Perc_1920\" true true false 8 Double 0 0,First,#,Alaska_Reclass_Change_1718,Perc_1920,-1,-1;Perc_2021 \"Perc_2021\" true true false 8 Double 0 0,First,#,Alaska_Reclass_Change_1718,Perc_2021,-1,-1;Perc_2122 \"Perc_2122\" true true false 8 Double 0 0,First,#,Alaska_Reclass_Change_1718,Perc_2122,-1,-1', '')"
   ]
  },
  {
   "cell_type": "markdown",
   "metadata": {},
   "source": [
    "### Create Bar Chart for Visual of Change Over Time Using Compute Change"
   ]
  }
 ],
 "metadata": {
  "kernelspec": {
   "display_name": "ArcGISPro",
   "language": "Python",
   "name": "python3"
  },
  "language_info": {
   "file_extension": ".py",
   "name": "python",
   "version": "3"
  }
 },
 "nbformat": 4,
 "nbformat_minor": 2
}
