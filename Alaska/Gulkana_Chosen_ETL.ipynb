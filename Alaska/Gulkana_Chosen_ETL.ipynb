{
 "cells": [
  {
   "cell_type": "markdown",
   "metadata": {},
   "source": [
    "# Planet API"
   ]
  },
  {
   "cell_type": "code",
   "execution_count": 20,
   "metadata": {},
   "outputs": [],
   "source": [
    "# DO NOT RUN ALL CELLS\n",
    "\n",
    "# All cells can be run except those with a comment of \"# DO NOT RUN THIS CELL\""
   ]
  },
  {
   "cell_type": "markdown",
   "metadata": {},
   "source": [
    "## Import Packages"
   ]
  },
  {
   "cell_type": "code",
   "execution_count": 22,
   "metadata": {},
   "outputs": [],
   "source": [
    "import json\n",
    "import os\n",
    "import pathlib\n",
    "import time\n",
    "\n",
    "import requests\n",
    "from requests.auth import HTTPBasicAuth"
   ]
  },
  {
   "cell_type": "markdown",
   "metadata": {},
   "source": [
    "## Log In Info"
   ]
  },
  {
   "cell_type": "code",
   "execution_count": 69,
   "metadata": {},
   "outputs": [],
   "source": [
    "# API Key\n",
    "\n",
    "PLANET_API_KEY = '**ReplacewithAPIKeyFromGoogleDrive**'"
   ]
  },
  {
   "cell_type": "code",
   "execution_count": 25,
   "metadata": {},
   "outputs": [],
   "source": [
    "# Import base URLs \n",
    "\n",
    "orders_url = 'https://api.planet.com/compute/ops/orders/v2'\n",
    "data_url = 'https://api.planet.com/data/v1'"
   ]
  },
  {
   "cell_type": "code",
   "execution_count": 26,
   "metadata": {},
   "outputs": [
    {
     "name": "stdout",
     "output_type": "stream",
     "text": [
      "{\"_links\":{\"_self\":\"https://api.planet.com/compute/ops/orders/v2\",\"next\":\"https://api.planet.com/compute/ops/orders/v2?page_marker=2022-12-05T23%3A59%3A23.778355Z\"},\"orders\":[{\"_links\":{\"_self\":\"https://api.planet.com/compute/ops/orders/v2/3dd39cf6-9fa1-4e57-9843-9f540d92acc4\"},\"created_on\":\"2022-12-15T00:39:46.973Z\",\"delivery\":{\"archive_filename\":\"{{name}}_{{order_id}}.zip\",\"archive_type\":\"zip\"},\"error_hints\":[],\"id\":\"3dd39cf6-9fa1-4e57-9843-9f540d92acc4\",\"last_message\":\"Manifest delivery completed\",\"last_modified\":\"2022-12-15T00:53:22.141Z\",\"name\":\"Alaska_2020\",\"products\":[{\"item_ids\":[\"20200817_204636_103c\",\"20200817_193318_93_1063\",\"20200817_193316_87_1063\",\"20200817_202201_23_2277\"],\"item_type\":\"PSScene\",\"product_bundle\":\"analytic_udm2\"}],\"state\":\"success\",\"tools\":[{\"clip\":{\"aoi\":{\"coordinates\":[[[-145.44859629282018,63.29635255038565],[-145.44859629282018,63.25045403118733],[-145.37814550162204,63.25045403118733],[-145.37814550162204,63.29635255038565],[-145.44859629282018,63.29635255038565]]],\"type\":\"Polygon\"}}},{\"composite\":{}}]},{\"_links\":{\"_self\":\"https://api.planet.com/compute/ops/orders/v2/6a480c9b-6933-4201-837b-baa867d472a1\"},\"created_on\":\"2022-12-14T06:10:58.067Z\",\"delivery\":{\"archive_filename\":\"{{name}}_{{order_id}}.zip\",\"archive_type\":\"zip\"},\"error_hints\":[],\"id\":\"6a480c9b-6933-4201-837b-baa867d472a1\",\"last_message\":\"Manifest delivery completed\",\"last_modified\":\"2022-12-14T06:22:13.167Z\",\"name\":\"Alaska_2019\",\"products\":[{\"item_ids\":[\"20190808_203835_1006\",\"20190808_203834_1006\"],\"item_type\":\"PSScene\",\"product_bundle\":\"analytic_udm2\"}],\"state\":\"success\",\"tools\":[{\"clip\":{\"aoi\":{\"coordinates\":[[[-145.44859629282018,63.29635255038565],[-145.44859629282018,63.25045403118733],[-145.37814550162204,63.25045403118733],[-145.37814550162204,63.29635255038565],[-145.44859629282018,63.29635255038565]]],\"type\":\"Polygon\"}}},{\"composite\":{}}]},{\"_links\":{\"_self\":\"https://api.planet.com/compute/ops/orders/v2/81310fa6-a38b-4e09-bf03-1a2be174e1d0\"},\"created_on\":\"2022-12-14T02:41:43.711Z\",\"delivery\":{\"archive_filename\":\"{{name}}_{{order_id}}.zip\",\"archive_type\":\"zip\"},\"error_hints\":[],\"id\":\"81310fa6-a38b-4e09-bf03-1a2be174e1d0\",\"last_message\":\"Manifest delivery completed\",\"last_modified\":\"2022-12-14T02:51:22.514Z\",\"name\":\"Alaska_2018\",\"products\":[{\"item_ids\":[\"20180731_203403_1033\",\"20180731_203404_1033\"],\"item_type\":\"PSScene\",\"product_bundle\":\"analytic_udm2\"}],\"state\":\"success\",\"tools\":[{\"clip\":{\"aoi\":{\"coordinates\":[[[-145.44859629282018,63.29635255038565],[-145.44859629282018,63.25045403118733],[-145.37814550162204,63.25045403118733],[-145.37814550162204,63.29635255038565],[-145.44859629282018,63.29635255038565]]],\"type\":\"Polygon\"}}},{\"bandmath\":{\"b1\":\"b3\",\"b2\":\"b2\",\"b3\":\"b1\"}},{\"composite\":{}}]},{\"_links\":{\"_self\":\"https://api.planet.com/compute/ops/orders/v2/29f1dc27-c99d-4460-a704-ee49524fd0d2\"},\"created_on\":\"2022-12-14T00:31:47.441Z\",\"delivery\":{\"archive_filename\":\"{{name}}_{{order_id}}.zip\",\"archive_type\":\"zip\"},\"error_hints\":[],\"id\":\"29f1dc27-c99d-4460-a704-ee49524fd0d2\",\"last_message\":\"Manifest delivery completed\",\"last_modified\":\"2022-12-14T00:39:42.358Z\",\"name\":\"Alaska_2017\",\"products\":[{\"item_ids\":[\"20170722_201655_1041\",\"20170722_201654_1041\",\"20170722_201934_1011\",\"20170722_201933_1011\"],\"item_type\":\"PSScene\",\"product_bundle\":\"analytic_udm2\"}],\"state\":\"success\",\"tools\":[{\"clip\":{\"aoi\":{\"coordinates\":[[[-145.44859629282018,63.29635255038565],[-145.44859629282018,63.25045403118733],[-145.37814550162204,63.25045403118733],[-145.37814550162204,63.29635255038565],[-145.44859629282018,63.29635255038565]]],\"type\":\"Polygon\"}}},{\"bandmath\":{\"b1\":\"b3\",\"b2\":\"b2\",\"b3\":\"b1\"}},{\"composite\":{}}]},{\"_links\":{\"_self\":\"https://api.planet.com/compute/ops/orders/v2/f3d42101-0445-4c4e-826e-0d9dddd090c4\"},\"created_on\":\"2022-12-13T22:59:43.958Z\",\"delivery\":{\"archive_filename\":\"{{name}}_{{order_id}}.zip\",\"archive_type\":\"zip\"},\"error_hints\":[],\"id\":\"f3d42101-0445-4c4e-826e-0d9dddd090c4\",\"last_message\":\"Manifest delivery completed\",\"last_modified\":\"2022-12-13T23:05:03.195Z\",\"name\":\"Alaska_2017\",\"products\":[{\"item_ids\":[\"20170816_201742_1035\"],\"item_type\":\"PSScene\",\"product_bundle\":\"analytic_udm2\"}],\"state\":\"success\"},{\"_links\":{\"_self\":\"https://api.planet.com/compute/ops/orders/v2/e6b95d88-6d9b-467c-bbc0-b1c78b054a71\"},\"created_on\":\"2022-12-06T00:10:46.644Z\",\"delivery\":{\"archive_filename\":\"{{name}}_psscene_analytic_sr_udm2.zip\",\"archive_type\":\"zip\",\"single_archive\":true},\"error_hints\":[],\"id\":\"e6b95d88-6d9b-467c-bbc0-b1c78b054a71\",\"last_message\":\"Manifest delivery completed\",\"last_modified\":\"2022-12-06T00:36:36.143Z\",\"name\":\"Nov_14_2022\",\"notifications\":{\"email\":true},\"order_type\":\"partial\",\"products\":[{\"item_ids\":[\"20220410_204452_24_2403\",\"20220410_204449_95_2403\",\"20220410_204447_66_2403\",\"20220410_202923_44_249e\",\"20220410_202928_46_249e\",\"20220410_202925_95_249e\"],\"item_type\":\"PSScene\",\"product_bundle\":\"analytic_sr_udm2\"}],\"state\":\"success\",\"tools\":[{\"clip\":{\"aoi\":{\"coordinates\":[[[-143.634224,60.137913],[-143.154108,60.137913],[-143.154108,60.355052],[-143.634224,60.355052],[-143.634224,60.137913]]],\"type\":\"Polygon\"}}},{\"harmonize\":{\"target_sensor\":\"Sentinel-2\"}}]},{\"_links\":{\"_self\":\"https://api.planet.com/compute/ops/orders/v2/c25133e9-8d05-4f9a-8b81-9281fc06c1f7\"},\"created_on\":\"2022-12-06T00:10:05.916Z\",\"delivery\":{\"archive_filename\":\"{{name}}_psscene_analytic_sr_udm2.zip\",\"archive_type\":\"zip\",\"single_archive\":true},\"error_hints\":[],\"id\":\"c25133e9-8d05-4f9a-8b81-9281fc06c1f7\",\"last_message\":\"Manifest delivery completed\",\"last_modified\":\"2022-12-06T00:39:37.606Z\",\"name\":\"Sept_16_2022\",\"notifications\":{\"email\":true},\"order_type\":\"partial\",\"products\":[{\"item_ids\":[\"20220410_204452_24_2403\",\"20220410_204449_95_2403\",\"20220410_204447_66_2403\",\"20220410_202923_44_249e\",\"20220410_202928_46_249e\",\"20220410_202925_95_249e\"],\"item_type\":\"PSScene\",\"product_bundle\":\"analytic_sr_udm2\"}],\"state\":\"success\",\"tools\":[{\"clip\":{\"aoi\":{\"coordinates\":[[[-143.634224,60.137913],[-143.154108,60.137913],[-143.154108,60.355052],[-143.634224,60.355052],[-143.634224,60.137913]]],\"type\":\"Polygon\"}}},{\"harmonize\":{\"target_sensor\":\"Sentinel-2\"}}]},{\"_links\":{\"_self\":\"https://api.planet.com/compute/ops/orders/v2/e3e24351-5060-46bb-bbe5-fcef669f74a7\"},\"created_on\":\"2022-12-06T00:09:26.092Z\",\"delivery\":{\"archive_filename\":\"{{name}}_psscene_analytic_sr_udm2.zip\",\"archive_type\":\"zip\",\"single_archive\":true},\"error_hints\":[],\"id\":\"e3e24351-5060-46bb-bbe5-fcef669f74a7\",\"last_message\":\"Manifest delivery completed\",\"last_modified\":\"2022-12-06T00:34:18.468Z\",\"name\":\"July_3_2022\",\"notifications\":{\"email\":true},\"order_type\":\"partial\",\"products\":[{\"item_ids\":[\"20220410_204452_24_2403\",\"20220410_204449_95_2403\",\"20220410_204447_66_2403\",\"20220410_202923_44_249e\",\"20220410_202928_46_249e\",\"20220410_202925_95_249e\"],\"item_type\":\"PSScene\",\"product_bundle\":\"analytic_sr_udm2\"}],\"state\":\"success\",\"tools\":[{\"clip\":{\"aoi\":{\"coordinates\":[[[-143.634224,60.137913],[-143.154108,60.137913],[-143.154108,60.355052],[-143.634224,60.355052],[-143.634224,60.137913]]],\"type\":\"Polygon\"}}},{\"harmonize\":{\"target_sensor\":\"Sentinel-2\"}}]},{\"_links\":{\"_self\":\"https://api.planet.com/compute/ops/orders/v2/5997538c-2a63-4b75-acd5-55c072f2bd9c\"},\"created_on\":\"2022-12-06T00:08:51.845Z\",\"delivery\":{\"archive_filename\":\"{{name}}_psscene_analytic_sr_udm2.zip\",\"archive_type\":\"zip\",\"single_archive\":true},\"error_hints\":[],\"id\":\"5997538c-2a63-4b75-acd5-55c072f2bd9c\",\"last_message\":\"Manifest delivery completed\",\"last_modified\":\"2022-12-06T00:33:28.968Z\",\"name\":\"May_28_2022\",\"notifications\":{\"email\":true},\"order_type\":\"partial\",\"products\":[{\"item_ids\":[\"20220410_204452_24_2403\",\"20220410_204449_95_2403\",\"20220410_204447_66_2403\",\"20220410_202923_44_249e\",\"20220410_202928_46_249e\",\"20220410_202925_95_249e\"],\"item_type\":\"PSScene\",\"product_bundle\":\"analytic_sr_udm2\"}],\"state\":\"success\",\"tools\":[{\"clip\":{\"aoi\":{\"coordinates\":[[[-143.634224,60.137913],[-143.154108,60.137913],[-143.154108,60.355052],[-143.634224,60.355052],[-143.634224,60.137913]]],\"type\":\"Polygon\"}}},{\"harmonize\":{\"target_sensor\":\"Sentinel-2\"}}]},{\"_links\":{\"_self\":\"https://api.planet.com/compute/ops/orders/v2/1018bbad-4c1e-4906-b0c9-a90454d49c38\"},\"created_on\":\"2022-12-06T00:08:17.915Z\",\"delivery\":{\"archive_filename\":\"{{name}}_psscene_analytic_sr_udm2.zip\",\"archive_type\":\"zip\",\"single_archive\":true},\"error_hints\":[],\"id\":\"1018bbad-4c1e-4906-b0c9-a90454d49c38\",\"last_message\":\"Manifest delivery completed\",\"last_modified\":\"2022-12-06T00:34:38.127Z\",\"name\":\"Apr_10_2022\",\"notifications\":{\"email\":true},\"order_type\":\"partial\",\"products\":[{\"item_ids\":[\"20220410_204452_24_2403\",\"20220410_204449_95_2403\",\"20220410_204447_66_2403\",\"20220410_202923_44_249e\",\"20220410_202928_46_249e\",\"20220410_202925_95_249e\"],\"item_type\":\"PSScene\",\"product_bundle\":\"analytic_sr_udm2\"}],\"state\":\"success\",\"tools\":[{\"clip\":{\"aoi\":{\"coordinates\":[[[-143.634224,60.137913],[-143.154108,60.137913],[-143.154108,60.355052],[-143.634224,60.355052],[-143.634224,60.137913]]],\"type\":\"Polygon\"}}},{\"harmonize\":{\"target_sensor\":\"Sentinel-2\"}}]},{\"_links\":{\"_self\":\"https://api.planet.com/compute/ops/orders/v2/4f92327d-dce7-49e9-85aa-31d9698f7090\"},\"created_on\":\"2022-12-06T00:07:23.799Z\",\"delivery\":{\"archive_filename\":\"{{name}}_psscene_analytic_sr_udm2.zip\",\"archive_type\":\"zip\",\"single_archive\":true},\"error_hints\":[],\"id\":\"4f92327d-dce7-49e9-85aa-31d9698f7090\",\"last_message\":\"Manifest delivery completed\",\"last_modified\":\"2022-12-06T00:22:51.607Z\",\"name\":\"Nov_8_2021\",\"notifications\":{\"email\":true},\"order_type\":\"partial\",\"products\":[{\"item_ids\":[\"20211108_195119_52_2423\",\"20211108_195117_05_2423\",\"20211108_204449_17_227c\",\"20211108_204446_69_227c\",\"20211108_204444_21_227c\",\"20211108_200049_80_2427\",\"20211108_200047_33_2427\",\"20211108_200044_85_2427\"],\"item_type\":\"PSScene\",\"product_bundle\":\"analytic_sr_udm2\"}],\"state\":\"success\",\"tools\":[{\"clip\":{\"aoi\":{\"coordinates\":[[[-143.634224,60.137913],[-143.154108,60.137913],[-143.154108,60.355052],[-143.634224,60.355052],[-143.634224,60.137913]]],\"type\":\"Polygon\"}}},{\"harmonize\":{\"target_sensor\":\"Sentinel-2\"}}]},{\"_links\":{\"_self\":\"https://api.planet.com/compute/ops/orders/v2/fed32158-857c-4940-9e21-fc54b2e5ff46\"},\"created_on\":\"2022-12-06T00:06:40.782Z\",\"delivery\":{\"archive_filename\":\"{{name}}_psscene_analytic_sr_udm2.zip\",\"archive_type\":\"zip\",\"single_archive\":true},\"error_hints\":[],\"id\":\"fed32158-857c-4940-9e21-fc54b2e5ff46\",\"last_message\":\"Manifest delivery completed\",\"last_modified\":\"2022-12-06T00:31:16.339Z\",\"name\":\"Aug_22_2021\",\"notifications\":{\"email\":true},\"order_type\":\"partial\",\"products\":[{\"item_ids\":[\"20210207_210431_67_1059\",\"20210207_204928_41_227b\",\"20210207_204926_05_227b\",\"20210207_210429_67_1059\",\"20210207_210427_67_1059\"],\"item_type\":\"PSScene\",\"product_bundle\":\"analytic_sr_udm2\"}],\"state\":\"success\",\"tools\":[{\"clip\":{\"aoi\":{\"coordinates\":[[[-143.634224,60.137913],[-143.154108,60.137913],[-143.154108,60.355052],[-143.634224,60.355052],[-143.634224,60.137913]]],\"type\":\"Polygon\"}}},{\"harmonize\":{\"target_sensor\":\"Sentinel-2\"}}]},{\"_links\":{\"_self\":\"https://api.planet.com/compute/ops/orders/v2/c04dd348-4744-4be1-a6af-62e9620fea29\"},\"created_on\":\"2022-12-06T00:06:08.261Z\",\"delivery\":{\"archive_filename\":\"{{name}}_psscene_analytic_sr_udm2.zip\",\"archive_type\":\"zip\",\"single_archive\":true},\"error_hints\":[],\"id\":\"c04dd348-4744-4be1-a6af-62e9620fea29\",\"last_message\":\"Manifest delivery completed\",\"last_modified\":\"2022-12-06T00:28:08.700Z\",\"name\":\"May_24_2021\",\"notifications\":{\"email\":true},\"order_type\":\"partial\",\"products\":[{\"item_ids\":[\"20210207_210431_67_1059\",\"20210207_204928_41_227b\",\"20210207_204926_05_227b\",\"20210207_210429_67_1059\",\"20210207_210427_67_1059\"],\"item_type\":\"PSScene\",\"product_bundle\":\"analytic_sr_udm2\"}],\"state\":\"success\",\"tools\":[{\"clip\":{\"aoi\":{\"coordinates\":[[[-143.634224,60.137913],[-143.154108,60.137913],[-143.154108,60.355052],[-143.634224,60.355052],[-143.634224,60.137913]]],\"type\":\"Polygon\"}}},{\"harmonize\":{\"target_sensor\":\"Sentinel-2\"}}]},{\"_links\":{\"_self\":\"https://api.planet.com/compute/ops/orders/v2/e8527dde-d01e-40bb-8589-bb418b61da7a\"},\"created_on\":\"2022-12-06T00:05:15.363Z\",\"delivery\":{\"archive_filename\":\"{{name}}_psscene_analytic_sr_udm2.zip\",\"archive_type\":\"zip\",\"single_archive\":true},\"error_hints\":[],\"id\":\"e8527dde-d01e-40bb-8589-bb418b61da7a\",\"last_message\":\"Manifest delivery completed\",\"last_modified\":\"2022-12-06T00:32:13.046Z\",\"name\":\"Feb_7_2021\",\"notifications\":{\"email\":true},\"order_type\":\"partial\",\"products\":[{\"item_ids\":[\"20210207_210431_67_1059\",\"20210207_204928_41_227b\",\"20210207_204926_05_227b\",\"20210207_210429_67_1059\",\"20210207_210427_67_1059\"],\"item_type\":\"PSScene\",\"product_bundle\":\"analytic_sr_udm2\"}],\"state\":\"success\",\"tools\":[{\"clip\":{\"aoi\":{\"coordinates\":[[[-143.634224,60.137913],[-143.154108,60.137913],[-143.154108,60.355052],[-143.634224,60.355052],[-143.634224,60.137913]]],\"type\":\"Polygon\"}}},{\"harmonize\":{\"target_sensor\":\"Sentinel-2\"}}]},{\"_links\":{\"_self\":\"https://api.planet.com/compute/ops/orders/v2/0a875c85-3325-4513-8d63-8cbfb0a28aaf\"},\"created_on\":\"2022-12-06T00:04:30.022Z\",\"delivery\":{\"archive_filename\":\"{{name}}_psscene_analytic_sr_udm2.zip\",\"archive_type\":\"zip\",\"single_archive\":true},\"error_hints\":[],\"id\":\"0a875c85-3325-4513-8d63-8cbfb0a28aaf\",\"last_message\":\"Manifest delivery completed\",\"last_modified\":\"2022-12-06T00:21:58.442Z\",\"name\":\"Oct_13_2020\",\"notifications\":{\"email\":true},\"order_type\":\"partial\",\"products\":[{\"item_ids\":[\"20200201_204835_88_1061\",\"20200201_204833_87_1061\",\"20200201_204831_85_1061\",\"20200201_202929_1018\",\"20200201_202930_1018\",\"20200201_202928_1018\",\"20200201_202927_1018\",\"20200201_202926_1018\",\"20200201_201807_0e20\",\"20200201_201805_0e20\",\"20200201_201804_0e20\",\"20200201_201809_0e20\",\"20200201_201806_0e20\"],\"item_type\":\"PSScene\",\"product_bundle\":\"analytic_sr_udm2\"}],\"state\":\"success\",\"tools\":[{\"clip\":{\"aoi\":{\"coordinates\":[[[-143.634224,60.137913],[-143.154108,60.137913],[-143.154108,60.355052],[-143.634224,60.355052],[-143.634224,60.137913]]],\"type\":\"Polygon\"}}},{\"harmonize\":{\"target_sensor\":\"Sentinel-2\"}}]},{\"_links\":{\"_self\":\"https://api.planet.com/compute/ops/orders/v2/69269e05-2fae-4bae-852e-dd8a91601a0b\"},\"created_on\":\"2022-12-06T00:03:27.562Z\",\"delivery\":{\"archive_filename\":\"{{name}}_psscene_analytic_sr_udm2.zip\",\"archive_type\":\"zip\",\"single_archive\":true},\"error_hints\":[],\"id\":\"69269e05-2fae-4bae-852e-dd8a91601a0b\",\"last_message\":\"Manifest delivery completed\",\"last_modified\":\"2022-12-06T00:24:00.755Z\",\"name\":\"July_1_2020\",\"notifications\":{\"email\":true},\"order_type\":\"partial\",\"products\":[{\"item_ids\":[\"20200201_204835_88_1061\",\"20200201_204833_87_1061\",\"20200201_204831_85_1061\",\"20200201_202929_1018\",\"20200201_202930_1018\",\"20200201_202928_1018\",\"20200201_202927_1018\",\"20200201_202926_1018\",\"20200201_201807_0e20\",\"20200201_201805_0e20\",\"20200201_201804_0e20\",\"20200201_201809_0e20\",\"20200201_201806_0e20\"],\"item_type\":\"PSScene\",\"product_bundle\":\"analytic_sr_udm2\"}],\"state\":\"success\",\"tools\":[{\"clip\":{\"aoi\":{\"coordinates\":[[[-143.634224,60.137913],[-143.154108,60.137913],[-143.154108,60.355052],[-143.634224,60.355052],[-143.634224,60.137913]]],\"type\":\"Polygon\"}}},{\"harmonize\":{\"target_sensor\":\"Sentinel-2\"}}]},{\"_links\":{\"_self\":\"https://api.planet.com/compute/ops/orders/v2/e16eddc1-623f-44f6-9025-bc95a089308f\"},\"created_on\":\"2022-12-06T00:02:37.829Z\",\"delivery\":{\"archive_filename\":\"{{name}}_psscene_analytic_sr_udm2.zip\",\"archive_type\":\"zip\",\"single_archive\":true},\"error_hints\":[],\"id\":\"e16eddc1-623f-44f6-9025-bc95a089308f\",\"last_message\":\"Manifest delivery completed\",\"last_modified\":\"2022-12-06T00:25:34.129Z\",\"name\":\"Mar_5_2020\",\"notifications\":{\"email\":true},\"order_type\":\"partial\",\"products\":[{\"item_ids\":[\"20200201_204835_88_1061\",\"20200201_204833_87_1061\",\"20200201_204831_85_1061\",\"20200201_202929_1018\",\"20200201_202930_1018\",\"20200201_202928_1018\",\"20200201_202927_1018\",\"20200201_202926_1018\",\"20200201_201807_0e20\",\"20200201_201805_0e20\",\"20200201_201804_0e20\",\"20200201_201809_0e20\",\"20200201_201806_0e20\"],\"item_type\":\"PSScene\",\"product_bundle\":\"analytic_sr_udm2\"}],\"state\":\"success\",\"tools\":[{\"clip\":{\"aoi\":{\"coordinates\":[[[-143.634224,60.137913],[-143.154108,60.137913],[-143.154108,60.355052],[-143.634224,60.355052],[-143.634224,60.137913]]],\"type\":\"Polygon\"}}},{\"harmonize\":{\"target_sensor\":\"Sentinel-2\"}}]},{\"_links\":{\"_self\":\"https://api.planet.com/compute/ops/orders/v2/8d06b514-943b-472c-8efd-344cae41f982\"},\"created_on\":\"2022-12-06T00:01:29.001Z\",\"delivery\":{\"archive_filename\":\"{{name}}_psscene_analytic_sr_udm2.zip\",\"archive_type\":\"zip\",\"single_archive\":true},\"error_hints\":[],\"id\":\"8d06b514-943b-472c-8efd-344cae41f982\",\"last_message\":\"Manifest delivery completed\",\"last_modified\":\"2022-12-06T00:23:57.463Z\",\"name\":\"Feb_1_2020\",\"notifications\":{\"email\":true},\"order_type\":\"partial\",\"products\":[{\"item_ids\":[\"20200201_204835_88_1061\",\"20200201_204833_87_1061\",\"20200201_204831_85_1061\",\"20200201_202929_1018\",\"20200201_202930_1018\",\"20200201_202928_1018\",\"20200201_202927_1018\",\"20200201_202926_1018\",\"20200201_201807_0e20\",\"20200201_201805_0e20\",\"20200201_201804_0e20\",\"20200201_201809_0e20\",\"20200201_201806_0e20\"],\"item_type\":\"PSScene\",\"product_bundle\":\"analytic_sr_udm2\"}],\"state\":\"success\",\"tools\":[{\"clip\":{\"aoi\":{\"coordinates\":[[[-143.634224,60.137913],[-143.154108,60.137913],[-143.154108,60.355052],[-143.634224,60.355052],[-143.634224,60.137913]]],\"type\":\"Polygon\"}}},{\"harmonize\":{\"target_sensor\":\"Sentinel-2\"}}]},{\"_links\":{\"_self\":\"https://api.planet.com/compute/ops/orders/v2/b77fe451-b865-447c-b63b-6399a79cf524\"},\"created_on\":\"2022-12-06T00:00:18.091Z\",\"delivery\":{\"archive_filename\":\"{{name}}_psscene_analytic_sr_udm2.zip\",\"archive_type\":\"zip\",\"single_archive\":true},\"error_hints\":[],\"id\":\"b77fe451-b865-447c-b63b-6399a79cf524\",\"last_message\":\"Manifest delivery completed\",\"last_modified\":\"2022-12-06T00:09:26.403Z\",\"name\":\"Aug_15_2019\",\"notifications\":{\"email\":true},\"order_type\":\"partial\",\"products\":[{\"item_ids\":[\"20180331_201449_1003\",\"20180331_201221_0f35\",\"20180331_201223_0f35\",\"20180331_201222_0f35\",\"20180331_201220_0f35\",\"20180331_201445_1003\",\"20180331_201444_1003\",\"20180331_201446_1003\",\"20180331_201447_1003\",\"20180331_201338_101f\",\"20180331_201337_101f\"],\"item_type\":\"PSScene\",\"product_bundle\":\"analytic_sr_udm2\"}],\"state\":\"success\",\"tools\":[{\"clip\":{\"aoi\":{\"coordinates\":[[[-143.634224,60.137913],[-143.154108,60.137913],[-143.154108,60.355052],[-143.634224,60.355052],[-143.634224,60.137913]]],\"type\":\"Polygon\"}}},{\"harmonize\":{\"target_sensor\":\"Sentinel-2\"}}]},{\"_links\":{\"_self\":\"https://api.planet.com/compute/ops/orders/v2/b5827fd4-842d-4e5f-96b1-c37e3dbbe2ce\"},\"created_on\":\"2022-12-05T23:59:23.778Z\",\"delivery\":{\"archive_filename\":\"{{name}}_psscene_analytic_sr_udm2.zip\",\"archive_type\":\"zip\",\"single_archive\":true},\"error_hints\":[],\"id\":\"b5827fd4-842d-4e5f-96b1-c37e3dbbe2ce\",\"last_message\":\"Manifest delivery completed\",\"last_modified\":\"2022-12-06T00:09:30.587Z\",\"name\":\"June_10_2019\",\"notifications\":{\"email\":true},\"order_type\":\"partial\",\"products\":[{\"item_ids\":[\"20180331_201449_1003\",\"20180331_201221_0f35\",\"20180331_201223_0f35\",\"20180331_201222_0f35\",\"20180331_201220_0f35\",\"20180331_201445_1003\",\"20180331_201444_1003\",\"20180331_201446_1003\",\"20180331_201447_1003\",\"20180331_201338_101f\",\"20180331_201337_101f\"],\"item_type\":\"PSScene\",\"product_bundle\":\"analytic_sr_udm2\"}],\"state\":\"success\",\"tools\":[{\"clip\":{\"aoi\":{\"coordinates\":[[[-143.634224,60.137913],[-143.154108,60.137913],[-143.154108,60.355052],[-143.634224,60.355052],[-143.634224,60.137913]]],\"type\":\"Polygon\"}}},{\"harmonize\":{\"target_sensor\":\"Sentinel-2\"}}]}]}"
     ]
    },
    {
     "name": "stdout",
     "output_type": "stream",
     "text": [
      "\n"
     ]
    },
    {
     "name": "stderr",
     "output_type": "stream",
     "text": [
      "  % Total    % Received % Xferd  Average Speed   Time    Time     Time  Current\n",
      "                                 Dload  Upload   Total   Spent    Left  Speed\n",
      "\n",
      "  0     0    0     0    0     0      0      0 --:--:-- --:--:-- --:--:--     0\n",
      "100 19553    0 19553    0     0  91695      0 --:--:-- --:--:-- --:--:-- 94917\n"
     ]
    }
   ],
   "source": [
    "# Double checking authentication\n",
    "\n",
    "# If a pink box or a list of image IDs appear, it is working\n",
    "\n",
    "!curl -L -H \"Authorization: api-key $PLANET_API_KEY\" $orders_url\n",
    "\n",
    "# Ref https://developers.planet.com/docs/apis/data/api-mechanics/"
   ]
  },
  {
   "cell_type": "code",
   "execution_count": 27,
   "metadata": {},
   "outputs": [],
   "source": [
    "# Setting authentication \n",
    "\n",
    "auth = HTTPBasicAuth(PLANET_API_KEY, '')\n",
    "response = requests.get(data_url, auth=auth)"
   ]
  },
  {
   "cell_type": "markdown",
   "metadata": {},
   "source": [
    "## Filter the Image Search"
   ]
  },
  {
   "cell_type": "code",
   "execution_count": 28,
   "metadata": {},
   "outputs": [],
   "source": [
    "# Set the AOI\n",
    "\n",
    "geometry = {\n",
    "    \"type\":\"Polygon\",\n",
    "    \"coordinates\":[\n",
    "                  [\n",
    "            [\n",
    "              -145.44859629282018,\n",
    "              63.29635255038565\n",
    "            ],\n",
    "            [\n",
    "              -145.44859629282018,\n",
    "              63.25045403118733\n",
    "            ],\n",
    "            [\n",
    "              -145.37814550162204,\n",
    "              63.25045403118733\n",
    "            ],\n",
    "            [\n",
    "              -145.37814550162204,\n",
    "              63.29635255038565\n",
    "            ],\n",
    "            [\n",
    "              -145.44859629282018,\n",
    "              63.29635255038565\n",
    "            ]\n",
    "          ]\n",
    "        ]\n",
    "}\n",
    "\n",
    "# Ref https://geojson.io/#map=11.51/63.2765/-145.4083\n",
    "# Ref https://developers.planet.com/docs/planetschool/geojson-and-areas-of-interest-aois/"
   ]
  },
  {
   "cell_type": "code",
   "execution_count": 29,
   "metadata": {},
   "outputs": [],
   "source": [
    "# Set the geometry selected in AOI\n",
    "\n",
    "geometry_filter = {\n",
    "  \"type\": \"GeometryFilter\",\n",
    "  \"field_name\": \"geometry\",\n",
    "  \"config\": geometry\n",
    "}"
   ]
  },
  {
   "cell_type": "code",
   "execution_count": 30,
   "metadata": {},
   "outputs": [],
   "source": [
    "# Set the date range\n",
    "\n",
    "date_range_filter_17 = {\n",
    "  \"type\": \"DateRangeFilter\",\n",
    "  \"field_name\": \"acquired\",\n",
    "  \"config\": {\n",
    "    \"gte\":\"2017-07-22T00:00:00Z\",\n",
    "    \"lte\":\"2017-07-22T23:59:00Z\"\n",
    "  }\n",
    "}\n",
    "\n",
    "date_range_filter_18 = {\n",
    "  \"type\": \"DateRangeFilter\",\n",
    "  \"field_name\": \"acquired\",\n",
    "  \"config\": {\n",
    "    \"gte\":\"2018-07-31T00:00:00Z\",\n",
    "    \"lte\":\"2018-07-31T23:59:00Z\"\n",
    "  }\n",
    "}\n",
    "\n",
    "date_range_filter_19 = {\n",
    "  \"type\": \"DateRangeFilter\",\n",
    "  \"field_name\": \"acquired\",\n",
    "  \"config\": {\n",
    "    \"gte\":\"2019-08-08T00:00:00Z\",\n",
    "    \"lte\":\"2019-08-08T23:59:00Z\"\n",
    "  }\n",
    "}\n",
    "\n",
    "date_range_filter_20 = {\n",
    "  \"type\": \"DateRangeFilter\",\n",
    "  \"field_name\": \"acquired\",\n",
    "  \"config\": {\n",
    "    \"gte\":\"2020-08-17T00:00:00Z\",\n",
    "    \"lte\":\"2020-08-17T23:59:00Z\"\n",
    "  }\n",
    "}\n",
    "\n",
    "date_range_filter_21 = {\n",
    "  \"type\": \"DateRangeFilter\",\n",
    "  \"field_name\": \"acquired\",\n",
    "  \"config\": {\n",
    "    \"gte\":\"2021-08-02T00:00:00Z\",\n",
    "    \"lte\":\"2021-08-02T23:59:00Z\"\n",
    "  }\n",
    "}\n",
    "\n",
    "date_range_filter_22 = {\n",
    "  \"type\": \"DateRangeFilter\",\n",
    "  \"field_name\": \"acquired\",\n",
    "  \"config\": {\n",
    "    \"gte\":\"2022-07-29T00:00:00Z\",\n",
    "    \"lte\":\"2022-07-29T23:59:00Z\"\n",
    "  }\n",
    "}"
   ]
  },
  {
   "cell_type": "code",
   "execution_count": 31,
   "metadata": {},
   "outputs": [],
   "source": [
    "# Set cloud coverage range\n",
    "\n",
    "cloud_cover_filter = {\n",
    "  \"type\": \"RangeFilter\",\n",
    "  \"field_name\": \"cloud_cover\",\n",
    "  \"config\": {\n",
    "    \"lte\": 0.15\n",
    "  }\n",
    "}"
   ]
  },
  {
   "cell_type": "code",
   "execution_count": 32,
   "metadata": {},
   "outputs": [],
   "source": [
    "# Combine filters under an 'And' condition to ensure they are all applied\n",
    "\n",
    "combined_filter_17 = {\n",
    "  \"type\": \"AndFilter\",\n",
    "  \"config\": [geometry_filter, date_range_filter_17, cloud_cover_filter]\n",
    "}\n",
    "\n",
    "combined_filter_18 = {\n",
    "  \"type\": \"AndFilter\",\n",
    "  \"config\": [geometry_filter, date_range_filter_18, cloud_cover_filter]\n",
    "}\n",
    "\n",
    "combined_filter_19 = {\n",
    "  \"type\": \"AndFilter\",\n",
    "  \"config\": [geometry_filter, date_range_filter_19, cloud_cover_filter]\n",
    "}\n",
    "\n",
    "combined_filter_20 = {\n",
    "  \"type\": \"AndFilter\",\n",
    "  \"config\": [geometry_filter, date_range_filter_20, cloud_cover_filter]\n",
    "}\n",
    "\n",
    "combined_filter_21 = {\n",
    "  \"type\": \"AndFilter\",\n",
    "  \"config\": [geometry_filter, date_range_filter_21, cloud_cover_filter]\n",
    "}\n",
    "\n",
    "combined_filter_22 = {\n",
    "  \"type\": \"AndFilter\",\n",
    "  \"config\": [geometry_filter, date_range_filter_22, cloud_cover_filter]\n",
    "}\n",
    "\n",
    "# Ref for all filters: https://developers.planet.com/docs/apis/data/searches-filtering/#asset-filters"
   ]
  },
  {
   "cell_type": "markdown",
   "metadata": {},
   "source": [
    "## Search Results by Year"
   ]
  },
  {
   "cell_type": "code",
   "execution_count": 35,
   "metadata": {},
   "outputs": [],
   "source": [
    "# Setting the item_type\n",
    "\n",
    "item_type = \"PSScene\"\n",
    "\n",
    "# Ref https://developers.planet.com/docs/apis/data/items-assets/#item-types"
   ]
  },
  {
   "cell_type": "markdown",
   "metadata": {},
   "source": [
    "### 2017"
   ]
  },
  {
   "cell_type": "code",
   "execution_count": 36,
   "metadata": {},
   "outputs": [
    {
     "name": "stdout",
     "output_type": "stream",
     "text": [
      "['20170722_201655_1041', '20170722_201654_1041', '20170722_201934_1011', '20170722_201933_1011']\n"
     ]
    }
   ],
   "source": [
    "# setting the search request\n",
    "\n",
    "search_request = {\n",
    "  \"item_types\": [item_type], \n",
    "  \"filter\": combined_filter_17\n",
    "}\n",
    "\n",
    "# starting the search\n",
    "\n",
    "search_result = \\\n",
    "  requests.post(\n",
    "    'https://api.planet.com/data/v1/quick-search',\n",
    "    auth=HTTPBasicAuth(PLANET_API_KEY, ''),\n",
    "    json=search_request)\n",
    "\n",
    "# listing image IDs\n",
    "\n",
    "image_ids_17 = [feature['id'] for feature in search_result.json()['features']]\n",
    "print(image_ids_17)\n",
    "\n",
    "# Ref https://developers.planet.com/docs/apis/data/items-assets/#item-types\n",
    "# Ref https://developers.planet.com/docs/data/psscene/\n",
    "\n",
    "# Grouped scenes will have the same first IDs which is the date '2017_08_06'"
   ]
  },
  {
   "cell_type": "markdown",
   "metadata": {},
   "source": [
    "### 2018"
   ]
  },
  {
   "cell_type": "code",
   "execution_count": 37,
   "metadata": {},
   "outputs": [
    {
     "name": "stdout",
     "output_type": "stream",
     "text": [
      "['20180731_203403_1033', '20180731_203404_1033']\n"
     ]
    }
   ],
   "source": [
    "# setting the search request\n",
    "\n",
    "search_request = {\n",
    "  \"item_types\": [item_type], \n",
    "  \"filter\": combined_filter_18\n",
    "}\n",
    "\n",
    "# starting the search\n",
    "\n",
    "search_result = \\\n",
    "  requests.post(\n",
    "    'https://api.planet.com/data/v1/quick-search',\n",
    "    auth=HTTPBasicAuth(PLANET_API_KEY, ''),\n",
    "    json=search_request)\n",
    "\n",
    "# listing image IDs\n",
    "\n",
    "image_ids_18 = [feature['id'] for feature in search_result.json()['features']]\n",
    "print(image_ids_18)"
   ]
  },
  {
   "cell_type": "markdown",
   "metadata": {},
   "source": [
    "### 2019"
   ]
  },
  {
   "cell_type": "code",
   "execution_count": 38,
   "metadata": {},
   "outputs": [
    {
     "name": "stdout",
     "output_type": "stream",
     "text": [
      "['20190808_203835_1006', '20190808_203834_1006']\n"
     ]
    }
   ],
   "source": [
    "# setting the search request\n",
    "\n",
    "search_request = {\n",
    "  \"item_types\": [item_type], \n",
    "  \"filter\": combined_filter_19\n",
    "}\n",
    "\n",
    "# starting the search\n",
    "\n",
    "search_result = \\\n",
    "  requests.post(\n",
    "    'https://api.planet.com/data/v1/quick-search',\n",
    "    auth=HTTPBasicAuth(PLANET_API_KEY, ''),\n",
    "    json=search_request)\n",
    "\n",
    "# listing image IDs\n",
    "\n",
    "image_ids_19 = [feature['id'] for feature in search_result.json()['features']]\n",
    "print(image_ids_19)"
   ]
  },
  {
   "cell_type": "markdown",
   "metadata": {},
   "source": [
    "### 2020"
   ]
  },
  {
   "cell_type": "code",
   "execution_count": 39,
   "metadata": {},
   "outputs": [
    {
     "name": "stdout",
     "output_type": "stream",
     "text": [
      "['20200817_204636_103c', '20200817_193318_93_1063', '20200817_193316_87_1063', '20200817_202201_23_2277']\n"
     ]
    }
   ],
   "source": [
    "# setting the search request\n",
    "\n",
    "search_request = {\n",
    "  \"item_types\": [item_type], \n",
    "  \"filter\": combined_filter_20\n",
    "}\n",
    "\n",
    "# starting the search\n",
    "\n",
    "search_result = \\\n",
    "  requests.post(\n",
    "    'https://api.planet.com/data/v1/quick-search',\n",
    "    auth=HTTPBasicAuth(PLANET_API_KEY, ''),\n",
    "    json=search_request)\n",
    "\n",
    "# listing image IDs\n",
    "\n",
    "image_ids_20 = [feature['id'] for feature in search_result.json()['features']]\n",
    "print(image_ids_20)"
   ]
  },
  {
   "cell_type": "markdown",
   "metadata": {},
   "source": [
    "### 2021"
   ]
  },
  {
   "cell_type": "code",
   "execution_count": 40,
   "metadata": {},
   "outputs": [
    {
     "name": "stdout",
     "output_type": "stream",
     "text": [
      "['20210802_211006_79_2405', '20210802_211004_49_2405']\n"
     ]
    }
   ],
   "source": [
    "# setting the search request\n",
    "\n",
    "search_request = {\n",
    "  \"item_types\": [item_type], \n",
    "  \"filter\": combined_filter_21\n",
    "}\n",
    "\n",
    "# starting the search\n",
    "\n",
    "search_result = \\\n",
    "  requests.post(\n",
    "    'https://api.planet.com/data/v1/quick-search',\n",
    "    auth=HTTPBasicAuth(PLANET_API_KEY, ''),\n",
    "    json=search_request)\n",
    "\n",
    "# listing image IDs\n",
    "\n",
    "image_ids_21 = [feature['id'] for feature in search_result.json()['features']]\n",
    "print(image_ids_21)"
   ]
  },
  {
   "cell_type": "markdown",
   "metadata": {},
   "source": [
    "### 2022"
   ]
  },
  {
   "cell_type": "code",
   "execution_count": 41,
   "metadata": {},
   "outputs": [
    {
     "name": "stdout",
     "output_type": "stream",
     "text": [
      "['20220729_204013_93_2446', '20220729_203819_69_2483', '20220729_203817_20_2483', '20220729_201047_69_2455', '20220729_201045_42_2455']\n"
     ]
    }
   ],
   "source": [
    "# setting the search request\n",
    "\n",
    "search_request = {\n",
    "  \"item_types\": [item_type], \n",
    "  \"filter\": combined_filter_22\n",
    "}\n",
    "\n",
    "# starting the search\n",
    "\n",
    "search_result = \\\n",
    "  requests.post(\n",
    "    'https://api.planet.com/data/v1/quick-search',\n",
    "    auth=HTTPBasicAuth(PLANET_API_KEY, ''),\n",
    "    json=search_request)\n",
    "\n",
    "# listing image IDs\n",
    "\n",
    "image_ids_22 = [feature['id'] for feature in search_result.json()['features']]\n",
    "print(image_ids_22)"
   ]
  },
  {
   "cell_type": "markdown",
   "metadata": {},
   "source": [
    "## Preview the Search before Ordering"
   ]
  },
  {
   "cell_type": "code",
   "execution_count": 43,
   "metadata": {},
   "outputs": [
    {
     "ename": "TypeError",
     "evalue": "can only concatenate str (not \"list\") to str",
     "output_type": "error",
     "traceback": [
      "\u001b[0;31m---------------------------------------------------------------------------\u001b[0m\n\u001b[0;31mTypeError\u001b[0m                                 Traceback (most recent call last)",
      "In  \u001b[0;34m[43]\u001b[0m:\nLine \u001b[0;34m5\u001b[0m:     thumbnail_search_17 = thumbnail_base + image_ids_17 + API_key_URL\n",
      "\u001b[0;31mTypeError\u001b[0m: can only concatenate str (not \"list\") to str\n\u001b[0;31m---------------------------------------------------------------------------\u001b[0m"
     ]
    }
   ],
   "source": [
    "#'https://tiles.planet.com/data/v1/item-types/PSScene/items/20170816_201742_1035/thumb?api_key=**ReplacewithAPIKeyONLY**'\n",
    "\n",
    "thumbnail_base = 'https://tiles.planet.com/data/v1/item-types/PSScene/items/'\n",
    "API_key_URL = '/thumb?api_key=**ReplacewithAPIKeyFromGoogleDrive**'\n",
    "thumbnail_search_17 = thumbnail_base + image_ids_17 + API_key_URL\n",
    "thumbnail_search_18 = thumbnail_base + image_ids_18 + API_key_URL\n",
    "thumbnail_search_19 = thumbnail_base + image_ids_19 + API_key_URL\n",
    "thumbnail_search_20 = thumbnail_base + image_ids_20 + API_key_URL\n",
    "thumbnail_search_21 = thumbnail_base + image_ids_21 + API_key_URL\n",
    "thumbnail_search_22 = thumbnail_base + image_ids_22 + API_key_URL\n",
    "\n",
    "# If I had more time/experience I would automate this so the IDs from above would\n",
    "# autopopulate into the URL so I could review the thumbnails to choose the best images\n",
    "\n",
    "# This step is not necessary at the moment but worth developing later\n",
    "\n",
    "# Ref https://developers.planet.com/docs/apis/data/item-previews/"
   ]
  },
  {
   "cell_type": "markdown",
   "metadata": {},
   "source": [
    "## Placing the Order"
   ]
  },
  {
   "cell_type": "code",
   "execution_count": 44,
   "metadata": {},
   "outputs": [],
   "source": [
    "# set content type to json\n",
    "\n",
    "headers = {'content-type': 'application/json'}"
   ]
  },
  {
   "cell_type": "markdown",
   "metadata": {},
   "source": [
    "### 2017"
   ]
  },
  {
   "cell_type": "code",
   "execution_count": 45,
   "metadata": {},
   "outputs": [
    {
     "data": {
      "text/plain": [
       "{'name': 'Alaska_17', 'products': [{'item_ids': ['20170722_201655_1041', '20170722_201654_1041', '20170722_201934_1011', '20170722_201933_1011'], 'item_type': 'PSScene', 'product_bundle': 'analytic_udm2'}], 'tools': [{'clip': {'aoi': {'type': 'Polygon', 'coordinates': [[[-145.44859629282018, 63.29635255038565], [-145.44859629282018, 63.25045403118733], [-145.37814550162204, 63.25045403118733], [-145.37814550162204, 63.29635255038565], [-145.44859629282018, 63.29635255038565]]]}}}, {'composite': {}}], 'delivery': {'archive_type': 'zip', 'archive_filename': '{{name}}_{{order_id}}.zip'}}"
      ]
     },
     "execution_count": 45,
     "metadata": {},
     "output_type": "execute_result"
    }
   ],
   "source": [
    "# defining the product\n",
    "\n",
    "product_17 = [\n",
    "    {\n",
    "      \"item_ids\": image_ids_17,\n",
    "      \"item_type\": 'PSScene' ,\n",
    "      \"product_bundle\": 'analytic_udm2'\n",
    "    }\n",
    "]\n",
    "\n",
    "\n",
    "request_17 = {  \n",
    "    \"name\": \"Alaska_2017\",\n",
    "    \"products\": product_17,\n",
    "    \"tools\": [\n",
    "        {\"clip\": \n",
    "             {\"aoi\": geometry}\n",
    "        },\n",
    "        {\"composite\": {}\n",
    "        }\n",
    "    ],\n",
    "    \"delivery\": \n",
    "        {\"archive_type\": \"zip\",\n",
    "         \"archive_filename\": \"{{name}}_{{order_id}}.zip\"}\n",
    "}\n",
    "request_17\n",
    "\n",
    "# Ref https://developers.planet.com/apis/orders/product-bundles-reference/\n",
    "# Ref https://developers.planet.com/apis/orders/delivery/\n",
    "# Ref https://developers.planet.com/apis/orders/tools/#merge"
   ]
  },
  {
   "cell_type": "code",
   "execution_count": 46,
   "metadata": {},
   "outputs": [],
   "source": [
    "def place_order(request_17, auth):\n",
    "    response = requests.post(orders_url, data=json.dumps(request_17), auth=auth, headers=headers)\n",
    "    print(response.json())\n",
    "    order_id = response.json()['id']\n",
    "    print(order_id)\n",
    "    order_url = orders_url + '/' + order_id\n",
    "    return order_url\n",
    "\n",
    "# Ref https://github.com/planetlabs/notebooks"
   ]
  },
  {
   "cell_type": "code",
   "execution_count": 26,
   "metadata": {},
   "outputs": [
    {
     "name": "stdout",
     "output_type": "stream",
     "text": [
      "{'_links': {'_self': 'https://api.planet.com/compute/ops/orders/v2/f3d42101-0445-4c4e-826e-0d9dddd090c4'}, 'created_on': '2022-12-13T22:59:43.958Z', 'delivery': {'archive_filename': '{{name}}_{{order_id}}.zip', 'archive_type': 'zip'}, 'error_hints': [], 'id': 'f3d42101-0445-4c4e-826e-0d9dddd090c4', 'last_message': 'Preparing order', 'last_modified': '2022-12-13T22:59:43.958Z', 'name': 'Alaska_2017', 'products': [{'item_ids': ['20170816_201742_1035'], 'item_type': 'PSScene', 'product_bundle': 'analytic_udm2'}], 'state': 'queued'}\n",
      "f3d42101-0445-4c4e-826e-0d9dddd090c4\n"
     ]
    }
   ],
   "source": [
    "# placing the order\n",
    "\n",
    "# DO NOT RUN THIS CELL\n",
    "\n",
    "order_url = place_order(request_17, auth)\n",
    "\n",
    "# I am delivering these files to my Planet account\n",
    "\n",
    "# I attempted to deliver them to a Google Cloud Storage account but unfortunately failed\n",
    "\n",
    "# I will place zip files in my shared Google Drive Account"
   ]
  },
  {
   "cell_type": "markdown",
   "metadata": {},
   "source": [
    "### 2018"
   ]
  },
  {
   "cell_type": "code",
   "execution_count": 47,
   "metadata": {},
   "outputs": [
    {
     "data": {
      "text/plain": [
       "{'name': 'Alaska_18', 'products': [{'item_ids': ['20180731_203403_1033', '20180731_203404_1033'], 'item_type': 'PSScene', 'product_bundle': 'analytic_udm2'}], 'tools': [{'clip': {'aoi': {'type': 'Polygon', 'coordinates': [[[-145.44859629282018, 63.29635255038565], [-145.44859629282018, 63.25045403118733], [-145.37814550162204, 63.25045403118733], [-145.37814550162204, 63.29635255038565], [-145.44859629282018, 63.29635255038565]]]}}}, {'composite': {}}], 'delivery': {'archive_type': 'zip', 'archive_filename': '{{name}}_{{order_id}}.zip'}}"
      ]
     },
     "execution_count": 47,
     "metadata": {},
     "output_type": "execute_result"
    }
   ],
   "source": [
    "# defining the product\n",
    "\n",
    "product_18 = [\n",
    "    {\n",
    "      \"item_ids\": image_ids_18,\n",
    "      \"item_type\": 'PSScene' ,\n",
    "      \"product_bundle\": 'analytic_udm2'\n",
    "    }\n",
    "]\n",
    "\n",
    "\n",
    "request_18 = {  \n",
    "    \"name\": \"Alaska_2018\",\n",
    "    \"products\": product_18,\n",
    "    \"tools\": [\n",
    "        {\"clip\": \n",
    "             {\"aoi\": geometry}\n",
    "        },\n",
    "        {\"composite\": {}\n",
    "        }\n",
    "    ],\n",
    "    \"delivery\": \n",
    "        {\"archive_type\": \"zip\",\n",
    "         \"archive_filename\": \"{{name}}_{{order_id}}.zip\"}\n",
    "}\n",
    "request_18"
   ]
  },
  {
   "cell_type": "code",
   "execution_count": 48,
   "metadata": {},
   "outputs": [],
   "source": [
    "def place_order(request_18, auth):\n",
    "    response = requests.post(orders_url, data=json.dumps(request_18), auth=auth, headers=headers)\n",
    "    print(response.json())\n",
    "    order_id = response.json()['id']\n",
    "    print(order_id)\n",
    "    order_url = orders_url + '/' + order_id\n",
    "    return order_url"
   ]
  },
  {
   "cell_type": "code",
   "execution_count": null,
   "metadata": {},
   "outputs": [],
   "source": [
    "# placing the order\n",
    "\n",
    "# DO NOT RUN THIS CELL\n",
    "\n",
    "order_url = place_order(request_18, auth)"
   ]
  },
  {
   "cell_type": "markdown",
   "metadata": {},
   "source": [
    "### 2019"
   ]
  },
  {
   "cell_type": "code",
   "execution_count": 49,
   "metadata": {},
   "outputs": [
    {
     "data": {
      "text/plain": [
       "{'name': 'Alaska_19', 'products': [{'item_ids': ['20190808_203835_1006', '20190808_203834_1006'], 'item_type': 'PSScene', 'product_bundle': 'analytic_udm2'}], 'tools': [{'clip': {'aoi': {'type': 'Polygon', 'coordinates': [[[-145.44859629282018, 63.29635255038565], [-145.44859629282018, 63.25045403118733], [-145.37814550162204, 63.25045403118733], [-145.37814550162204, 63.29635255038565], [-145.44859629282018, 63.29635255038565]]]}}}, {'composite': {}}], 'delivery': {'archive_type': 'zip', 'archive_filename': '{{name}}_{{order_id}}.zip'}}"
      ]
     },
     "execution_count": 49,
     "metadata": {},
     "output_type": "execute_result"
    }
   ],
   "source": [
    "# defining the product\n",
    "\n",
    "product_19 = [\n",
    "    {\n",
    "      \"item_ids\": image_ids_19,\n",
    "      \"item_type\": 'PSScene' ,\n",
    "      \"product_bundle\": 'analytic_udm2'\n",
    "    }\n",
    "]\n",
    "\n",
    "\n",
    "request_19 = {  \n",
    "    \"name\": \"Alaska_2019\",\n",
    "    \"products\": product_19,\n",
    "    \"tools\": [\n",
    "        {\"clip\": \n",
    "             {\"aoi\": geometry}\n",
    "        },\n",
    "        {\"composite\": {}\n",
    "        }\n",
    "    ],\n",
    "    \"delivery\": \n",
    "        {\"archive_type\": \"zip\",\n",
    "         \"archive_filename\": \"{{name}}_{{order_id}}.zip\"}\n",
    "}\n",
    "request_19"
   ]
  },
  {
   "cell_type": "code",
   "execution_count": 50,
   "metadata": {},
   "outputs": [],
   "source": [
    "def place_order(request_19, auth):\n",
    "    response = requests.post(orders_url, data=json.dumps(request_19), auth=auth, headers=headers)\n",
    "    print(response.json())\n",
    "    order_id = response.json()['id']\n",
    "    print(order_id)\n",
    "    order_url = orders_url + '/' + order_id\n",
    "    return order_url"
   ]
  },
  {
   "cell_type": "code",
   "execution_count": null,
   "metadata": {},
   "outputs": [],
   "source": [
    "# placing the order\n",
    "\n",
    "# DO NOT RUN THIS CELL\n",
    "\n",
    "order_url = place_order(request_19, auth)"
   ]
  },
  {
   "cell_type": "markdown",
   "metadata": {},
   "source": [
    "### 2020"
   ]
  },
  {
   "cell_type": "code",
   "execution_count": 56,
   "metadata": {},
   "outputs": [
    {
     "data": {
      "text/plain": [
       "{'name': 'Alaska_2020', 'products': [{'item_ids': ['20200817_204636_103c', '20200817_193318_93_1063', '20200817_193316_87_1063', '20200817_202201_23_2277'], 'item_type': 'PSScene', 'product_bundle': 'analytic_udm2'}], 'tools': [{'clip': {'aoi': {'type': 'Polygon', 'coordinates': [[[-145.44859629282018, 63.29635255038565], [-145.44859629282018, 63.25045403118733], [-145.37814550162204, 63.25045403118733], [-145.37814550162204, 63.29635255038565], [-145.44859629282018, 63.29635255038565]]]}}}, {'composite': {}}], 'delivery': {'archive_type': 'zip', 'archive_filename': '{{name}}_{{order_id}}.zip'}}"
      ]
     },
     "execution_count": 56,
     "metadata": {},
     "output_type": "execute_result"
    }
   ],
   "source": [
    "# defining the product\n",
    "\n",
    "product_20 = [\n",
    "    {\n",
    "      \"item_ids\": image_ids_20,\n",
    "      \"item_type\": 'PSScene' ,\n",
    "      \"product_bundle\": 'analytic_udm2'\n",
    "    }\n",
    "]\n",
    "\n",
    "\n",
    "request_20 = {  \n",
    "    \"name\": \"Alaska_2020\",\n",
    "    \"products\": product_20,\n",
    "    \"tools\": [\n",
    "        {\"clip\": \n",
    "             {\"aoi\": geometry}\n",
    "        },\n",
    "        {\"composite\": {}\n",
    "        }\n",
    "    ],\n",
    "    \"delivery\": \n",
    "        {\"archive_type\": \"zip\",\n",
    "         \"archive_filename\": \"{{name}}_{{order_id}}.zip\"}\n",
    "}\n",
    "request_20"
   ]
  },
  {
   "cell_type": "code",
   "execution_count": 57,
   "metadata": {},
   "outputs": [],
   "source": [
    "def place_order(request_20, auth):\n",
    "    response = requests.post(orders_url, data=json.dumps(request_20), auth=auth, headers=headers)\n",
    "    print(response.json())\n",
    "    order_id = response.json()['id']\n",
    "    print(order_id)\n",
    "    order_url = orders_url + '/' + order_id\n",
    "    return order_url"
   ]
  },
  {
   "cell_type": "code",
   "execution_count": 58,
   "metadata": {},
   "outputs": [
    {
     "name": "stdout",
     "output_type": "stream",
     "text": [
      "{'_links': {'_self': 'https://api.planet.com/compute/ops/orders/v2/b997c00c-53ee-4d80-ad89-98bb53f4ced5'}, 'created_on': '2022-12-15T01:13:40.836Z', 'delivery': {'archive_filename': '{{name}}_{{order_id}}.zip', 'archive_type': 'zip'}, 'error_hints': [], 'id': 'b997c00c-53ee-4d80-ad89-98bb53f4ced5', 'last_message': 'Preparing order', 'last_modified': '2022-12-15T01:13:40.836Z', 'name': 'Alaska_2020', 'products': [{'item_ids': ['20200817_204636_103c', '20200817_193318_93_1063', '20200817_193316_87_1063', '20200817_202201_23_2277'], 'item_type': 'PSScene', 'product_bundle': 'analytic_udm2'}], 'state': 'queued', 'tools': [{'clip': {'aoi': {'coordinates': [[[-145.44859629282018, 63.29635255038565], [-145.44859629282018, 63.25045403118733], [-145.37814550162204, 63.25045403118733], [-145.37814550162204, 63.29635255038565], [-145.44859629282018, 63.29635255038565]]], 'type': 'Polygon'}}}, {'composite': {}}]}\n",
      "b997c00c-53ee-4d80-ad89-98bb53f4ced5\n"
     ]
    }
   ],
   "source": [
    "# placing the order\n",
    "\n",
    "# DO NOT RUN THIS CELL\n",
    "\n",
    "order_url = place_order(request_20, auth)"
   ]
  },
  {
   "cell_type": "markdown",
   "metadata": {},
   "source": [
    "### 2021"
   ]
  },
  {
   "cell_type": "code",
   "execution_count": 60,
   "metadata": {},
   "outputs": [
    {
     "data": {
      "text/plain": [
       "{'name': 'Alaska_2021', 'products': [{'item_ids': ['20210802_211006_79_2405', '20210802_211004_49_2405'], 'item_type': 'PSScene', 'product_bundle': 'analytic_udm2'}], 'tools': [{'clip': {'aoi': {'type': 'Polygon', 'coordinates': [[[-145.44859629282018, 63.29635255038565], [-145.44859629282018, 63.25045403118733], [-145.37814550162204, 63.25045403118733], [-145.37814550162204, 63.29635255038565], [-145.44859629282018, 63.29635255038565]]]}}}, {'composite': {}}], 'delivery': {'archive_type': 'zip', 'archive_filename': '{{name}}_{{order_id}}.zip'}}"
      ]
     },
     "execution_count": 60,
     "metadata": {},
     "output_type": "execute_result"
    }
   ],
   "source": [
    "# defining the product\n",
    "\n",
    "product_21 = [\n",
    "    {\n",
    "      \"item_ids\": image_ids_21,\n",
    "      \"item_type\": 'PSScene' ,\n",
    "      \"product_bundle\": 'analytic_udm2'\n",
    "    }\n",
    "]\n",
    "\n",
    "\n",
    "request_21 = {  \n",
    "    \"name\": \"Alaska_2021\",\n",
    "    \"products\": product_21,\n",
    "    \"tools\": [\n",
    "        {\"clip\": \n",
    "             {\"aoi\": geometry}\n",
    "        },\n",
    "        {\"composite\": {}\n",
    "        }\n",
    "    ],\n",
    "    \"delivery\": \n",
    "        {\"archive_type\": \"zip\",\n",
    "         \"archive_filename\": \"{{name}}_{{order_id}}.zip\"}\n",
    "}\n",
    "request_21"
   ]
  },
  {
   "cell_type": "code",
   "execution_count": 61,
   "metadata": {},
   "outputs": [],
   "source": [
    "def place_order(request_21, auth):\n",
    "    response = requests.post(orders_url, data=json.dumps(request_21), auth=auth, headers=headers)\n",
    "    print(response.json())\n",
    "    order_id = response.json()['id']\n",
    "    print(order_id)\n",
    "    order_url = orders_url + '/' + order_id\n",
    "    return order_url"
   ]
  },
  {
   "cell_type": "code",
   "execution_count": 62,
   "metadata": {},
   "outputs": [
    {
     "name": "stdout",
     "output_type": "stream",
     "text": [
      "{'_links': {'_self': 'https://api.planet.com/compute/ops/orders/v2/ab0e9526-1307-4da1-8c34-01d622adb793'}, 'created_on': '2022-12-15T01:14:19.274Z', 'delivery': {'archive_filename': '{{name}}_{{order_id}}.zip', 'archive_type': 'zip'}, 'error_hints': [], 'id': 'ab0e9526-1307-4da1-8c34-01d622adb793', 'last_message': 'Preparing order', 'last_modified': '2022-12-15T01:14:19.274Z', 'name': 'Alaska_2021', 'products': [{'item_ids': ['20210802_211006_79_2405', '20210802_211004_49_2405'], 'item_type': 'PSScene', 'product_bundle': 'analytic_udm2'}], 'state': 'queued', 'tools': [{'clip': {'aoi': {'coordinates': [[[-145.44859629282018, 63.29635255038565], [-145.44859629282018, 63.25045403118733], [-145.37814550162204, 63.25045403118733], [-145.37814550162204, 63.29635255038565], [-145.44859629282018, 63.29635255038565]]], 'type': 'Polygon'}}}, {'composite': {}}]}\n",
      "ab0e9526-1307-4da1-8c34-01d622adb793\n"
     ]
    }
   ],
   "source": [
    "# placing the order\n",
    "\n",
    "# DO NOT RUN THIS CELL\n",
    "\n",
    "order_url = place_order(request_21, auth)"
   ]
  },
  {
   "cell_type": "markdown",
   "metadata": {},
   "source": [
    "### 2022"
   ]
  },
  {
   "cell_type": "code",
   "execution_count": 64,
   "metadata": {},
   "outputs": [
    {
     "data": {
      "text/plain": [
       "{'name': 'Alaska_2022', 'products': [{'item_ids': ['20220729_204013_93_2446', '20220729_203819_69_2483', '20220729_203817_20_2483', '20220729_201047_69_2455', '20220729_201045_42_2455'], 'item_type': 'PSScene', 'product_bundle': 'analytic_udm2'}], 'tools': [{'clip': {'aoi': {'type': 'Polygon', 'coordinates': [[[-145.44859629282018, 63.29635255038565], [-145.44859629282018, 63.25045403118733], [-145.37814550162204, 63.25045403118733], [-145.37814550162204, 63.29635255038565], [-145.44859629282018, 63.29635255038565]]]}}}, {'composite': {}}], 'delivery': {'archive_type': 'zip', 'archive_filename': '{{name}}_{{order_id}}.zip'}}"
      ]
     },
     "execution_count": 64,
     "metadata": {},
     "output_type": "execute_result"
    }
   ],
   "source": [
    "# defining the product\n",
    "\n",
    "product_22 = [\n",
    "    {\n",
    "      \"item_ids\": image_ids_22,\n",
    "      \"item_type\": 'PSScene' ,\n",
    "      \"product_bundle\": 'analytic_udm2'\n",
    "    }\n",
    "]\n",
    "\n",
    "\n",
    "request_22 = {  \n",
    "    \"name\": \"Alaska_2022\",\n",
    "    \"products\": product_22,\n",
    "    \"tools\": [\n",
    "        {\"clip\": \n",
    "             {\"aoi\": geometry}\n",
    "        },\n",
    "        {\"composite\": {}\n",
    "        }\n",
    "    ],\n",
    "    \"delivery\": \n",
    "        {\"archive_type\": \"zip\",\n",
    "         \"archive_filename\": \"{{name}}_{{order_id}}.zip\"}\n",
    "}\n",
    "request_22"
   ]
  },
  {
   "cell_type": "code",
   "execution_count": 65,
   "metadata": {},
   "outputs": [],
   "source": [
    "def place_order(request_22, auth):\n",
    "    response = requests.post(orders_url, data=json.dumps(request_22), auth=auth, headers=headers)\n",
    "    print(response.json())\n",
    "    order_id = response.json()['id']\n",
    "    print(order_id)\n",
    "    order_url = orders_url + '/' + order_id\n",
    "    return order_url"
   ]
  },
  {
   "cell_type": "code",
   "execution_count": 66,
   "metadata": {},
   "outputs": [
    {
     "name": "stdout",
     "output_type": "stream",
     "text": [
      "{'_links': {'_self': 'https://api.planet.com/compute/ops/orders/v2/b43d632d-9f19-4b19-a575-3f3273b6cf62'}, 'created_on': '2022-12-15T01:15:42.167Z', 'delivery': {'archive_filename': '{{name}}_{{order_id}}.zip', 'archive_type': 'zip'}, 'error_hints': [], 'id': 'b43d632d-9f19-4b19-a575-3f3273b6cf62', 'last_message': 'Preparing order', 'last_modified': '2022-12-15T01:15:42.167Z', 'name': 'Alaska_2022', 'products': [{'item_ids': ['20220729_204013_93_2446', '20220729_203819_69_2483', '20220729_203817_20_2483', '20220729_201047_69_2455', '20220729_201045_42_2455'], 'item_type': 'PSScene', 'product_bundle': 'analytic_udm2'}], 'state': 'queued', 'tools': [{'clip': {'aoi': {'coordinates': [[[-145.44859629282018, 63.29635255038565], [-145.44859629282018, 63.25045403118733], [-145.37814550162204, 63.25045403118733], [-145.37814550162204, 63.29635255038565], [-145.44859629282018, 63.29635255038565]]], 'type': 'Polygon'}}}, {'composite': {}}]}\n",
      "b43d632d-9f19-4b19-a575-3f3273b6cf62\n"
     ]
    }
   ],
   "source": [
    "# placing the order\n",
    "\n",
    "# DO NOT RUN THIS CELL\n",
    "\n",
    "order_url = place_order(request_22, auth)"
   ]
  }
 ],
 "metadata": {
  "kernelspec": {
   "display_name": "ArcGISPro",
   "language": "Python",
   "name": "python3"
  },
  "language_info": {
   "file_extension": ".py",
   "name": "python",
   "version": "3"
  }
 },
 "nbformat": 4,
 "nbformat_minor": 2
}
