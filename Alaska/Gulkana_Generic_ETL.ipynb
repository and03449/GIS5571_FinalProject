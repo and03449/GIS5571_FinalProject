{
 "cells": [
  {
   "cell_type": "markdown",
   "metadata": {},
   "source": [
    "# Planet API"
   ]
  },
  {
   "cell_type": "code",
   "execution_count": 20,
   "metadata": {},
   "outputs": [],
   "source": [
    "# DO NOT RUN ALL CELLS\n",
    "\n",
    "# All cells can be run except those with a comment of \"# DO NOT RUN THIS CELL\""
   ]
  },
  {
   "cell_type": "markdown",
   "metadata": {},
   "source": [
    "## Import Packages"
   ]
  },
  {
   "cell_type": "code",
   "execution_count": 2,
   "metadata": {},
   "outputs": [],
   "source": [
    "import json\n",
    "import os\n",
    "import pathlib\n",
    "import time\n",
    "\n",
    "import requests\n",
    "from requests.auth import HTTPBasicAuth"
   ]
  },
  {
   "cell_type": "markdown",
   "metadata": {},
   "source": [
    "## Log In Info"
   ]
  },
  {
   "cell_type": "code",
   "execution_count": 3,
   "metadata": {},
   "outputs": [],
   "source": [
    "# API Key\n",
    "\n",
    "PLANET_API_KEY = '**ReplacewithAPIKeyFromGoogleDrive**'"
   ]
  },
  {
   "cell_type": "code",
   "execution_count": 4,
   "metadata": {},
   "outputs": [],
   "source": [
    "# Import base URLs \n",
    "\n",
    "orders_url = 'https://api.planet.com/compute/ops/orders/v2'\n",
    "data_url = 'https://api.planet.com/data/v1'"
   ]
  },
  {
   "cell_type": "code",
   "execution_count": 5,
   "metadata": {},
   "outputs": [
    {
     "name": "stdout",
     "output_type": "stream",
     "text": [
      "{\"_links\":{\"_self\":\"https://api.planet.com/compute/ops/orders/v2\",\"next\":\"https://api.planet.com/compute/ops/orders/v2?page_marker=2022-12-05T23%3A53%3A31.786093Z\"},\"orders\":[{\"_links\":{\"_self\":\"https://api.planet.com/compute/ops/orders/v2/e6b95d88-6d9b-467c-bbc0-b1c78b054a71\"},\"created_on\":\"2022-12-06T00:10:46.644Z\",\"delivery\":{\"archive_filename\":\"{{name}}_psscene_analytic_sr_udm2.zip\",\"archive_type\":\"zip\",\"single_archive\":true},\"error_hints\":[],\"id\":\"e6b95d88-6d9b-467c-bbc0-b1c78b054a71\",\"last_message\":\"Manifest delivery completed\",\"last_modified\":\"2022-12-06T00:36:36.143Z\",\"name\":\"Nov_14_2022\",\"notifications\":{\"email\":true},\"order_type\":\"partial\",\"products\":[{\"item_ids\":[\"20220410_204452_24_2403\",\"20220410_204449_95_2403\",\"20220410_204447_66_2403\",\"20220410_202923_44_249e\",\"20220410_202928_46_249e\",\"20220410_202925_95_249e\"],\"item_type\":\"PSScene\",\"product_bundle\":\"analytic_sr_udm2\"}],\"state\":\"success\",\"tools\":[{\"clip\":{\"aoi\":{\"coordinates\":[[[-143.634224,60.137913],[-143.154108,60.137913],[-143.154108,60.355052],[-143.634224,60.355052],[-143.634224,60.137913]]],\"type\":\"Polygon\"}}},{\"harmonize\":{\"target_sensor\":\"Sentinel-2\"}}]},{\"_links\":{\"_self\":\"https://api.planet.com/compute/ops/orders/v2/c25133e9-8d05-4f9a-8b81-9281fc06c1f7\"},\"created_on\":\"2022-12-06T00:10:05.916Z\",\"delivery\":{\"archive_filename\":\"{{name}}_psscene_analytic_sr_udm2.zip\",\"archive_type\":\"zip\",\"single_archive\":true},\"error_hints\":[],\"id\":\"c25133e9-8d05-4f9a-8b81-9281fc06c1f7\",\"last_message\":\"Manifest delivery completed\",\"last_modified\":\"2022-12-06T00:39:37.606Z\",\"name\":\"Sept_16_2022\",\"notifications\":{\"email\":true},\"order_type\":\"partial\",\"products\":[{\"item_ids\":[\"20220410_204452_24_2403\",\"20220410_204449_95_2403\",\"20220410_204447_66_2403\",\"20220410_202923_44_249e\",\"20220410_202928_46_249e\",\"20220410_202925_95_249e\"],\"item_type\":\"PSScene\",\"product_bundle\":\"analytic_sr_udm2\"}],\"state\":\"success\",\"tools\":[{\"clip\":{\"aoi\":{\"coordinates\":[[[-143.634224,60.137913],[-143.154108,60.137913],[-143.154108,60.355052],[-143.634224,60.355052],[-143.634224,60.137913]]],\"type\":\"Polygon\"}}},{\"harmonize\":{\"target_sensor\":\"Sentinel-2\"}}]},{\"_links\":{\"_self\":\"https://api.planet.com/compute/ops/orders/v2/e3e24351-5060-46bb-bbe5-fcef669f74a7\"},\"created_on\":\"2022-12-06T00:09:26.092Z\",\"delivery\":{\"archive_filename\":\"{{name}}_psscene_analytic_sr_udm2.zip\",\"archive_type\":\"zip\",\"single_archive\":true},\"error_hints\":[],\"id\":\"e3e24351-5060-46bb-bbe5-fcef669f74a7\",\"last_message\":\"Manifest delivery completed\",\"last_modified\":\"2022-12-06T00:34:18.468Z\",\"name\":\"July_3_2022\",\"notifications\":{\"email\":true},\"order_type\":\"partial\",\"products\":[{\"item_ids\":[\"20220410_204452_24_2403\",\"20220410_204449_95_2403\",\"20220410_204447_66_2403\",\"20220410_202923_44_249e\",\"20220410_202928_46_249e\",\"20220410_202925_95_249e\"],\"item_type\":\"PSScene\",\"product_bundle\":\"analytic_sr_udm2\"}],\"state\":\"success\",\"tools\":[{\"clip\":{\"aoi\":{\"coordinates\":[[[-143.634224,60.137913],[-143.154108,60.137913],[-143.154108,60.355052],[-143.634224,60.355052],[-143.634224,60.137913]]],\"type\":\"Polygon\"}}},{\"harmonize\":{\"target_sensor\":\"Sentinel-2\"}}]},{\"_links\":{\"_self\":\"https://api.planet.com/compute/ops/orders/v2/5997538c-2a63-4b75-acd5-55c072f2bd9c\"},\"created_on\":\"2022-12-06T00:08:51.845Z\",\"delivery\":{\"archive_filename\":\"{{name}}_psscene_analytic_sr_udm2.zip\",\"archive_type\":\"zip\",\"single_archive\":true},\"error_hints\":[],\"id\":\"5997538c-2a63-4b75-acd5-55c072f2bd9c\",\"last_message\":\"Manifest delivery completed\",\"last_modified\":\"2022-12-06T00:33:28.968Z\",\"name\":\"May_28_2022\",\"notifications\":{\"email\":true},\"order_type\":\"partial\",\"products\":[{\"item_ids\":[\"20220410_204452_24_2403\",\"20220410_204449_95_2403\",\"20220410_204447_66_2403\",\"20220410_202923_44_249e\",\"20220410_202928_46_249e\",\"20220410_202925_95_249e\"],\"item_type\":\"PSScene\",\"product_bundle\":\"analytic_sr_udm2\"}],\"state\":\"success\",\"tools\":[{\"clip\":{\"aoi\":{\"coordinates\":[[[-143.634224,60.137913],[-143.154108,60.137913],[-143.154108,60.355052],[-143.634224,60.355052],[-143.634224,60.137913]]],\"type\":\"Polygon\"}}},{\"harmonize\":{\"target_sensor\":\"Sentinel-2\"}}]},{\"_links\":{\"_self\":\"https://api.planet.com/compute/ops/orders/v2/1018bbad-4c1e-4906-b0c9-a90454d49c38\"},\"created_on\":\"2022-12-06T00:08:17.915Z\",\"delivery\":{\"archive_filename\":\"{{name}}_psscene_analytic_sr_udm2.zip\",\"archive_type\":\"zip\",\"single_archive\":true},\"error_hints\":[],\"id\":\"1018bbad-4c1e-4906-b0c9-a90454d49c38\",\"last_message\":\"Manifest delivery completed\",\"last_modified\":\"2022-12-06T00:34:38.127Z\",\"name\":\"Apr_10_2022\",\"notifications\":{\"email\":true},\"order_type\":\"partial\",\"products\":[{\"item_ids\":[\"20220410_204452_24_2403\",\"20220410_204449_95_2403\",\"20220410_204447_66_2403\",\"20220410_202923_44_249e\",\"20220410_202928_46_249e\",\"20220410_202925_95_249e\"],\"item_type\":\"PSScene\",\"product_bundle\":\"analytic_sr_udm2\"}],\"state\":\"success\",\"tools\":[{\"clip\":{\"aoi\":{\"coordinates\":[[[-143.634224,60.137913],[-143.154108,60.137913],[-143.154108,60.355052],[-143.634224,60.355052],[-143.634224,60.137913]]],\"type\":\"Polygon\"}}},{\"harmonize\":{\"target_sensor\":\"Sentinel-2\"}}]},{\"_links\":{\"_self\":\"https://api.planet.com/compute/ops/orders/v2/4f92327d-dce7-49e9-85aa-31d9698f7090\"},\"created_on\":\"2022-12-06T00:07:23.799Z\",\"delivery\":{\"archive_filename\":\"{{name}}_psscene_analytic_sr_udm2.zip\",\"archive_type\":\"zip\",\"single_archive\":true},\"error_hints\":[],\"id\":\"4f92327d-dce7-49e9-85aa-31d9698f7090\",\"last_message\":\"Manifest delivery completed\",\"last_modified\":\"2022-12-06T00:22:51.607Z\",\"name\":\"Nov_8_2021\",\"notifications\":{\"email\":true},\"order_type\":\"partial\",\"products\":[{\"item_ids\":[\"20211108_195119_52_2423\",\"20211108_195117_05_2423\",\"20211108_204449_17_227c\",\"20211108_204446_69_227c\",\"20211108_204444_21_227c\",\"20211108_200049_80_2427\",\"20211108_200047_33_2427\",\"20211108_200044_85_2427\"],\"item_type\":\"PSScene\",\"product_bundle\":\"analytic_sr_udm2\"}],\"state\":\"success\",\"tools\":[{\"clip\":{\"aoi\":{\"coordinates\":[[[-143.634224,60.137913],[-143.154108,60.137913],[-143.154108,60.355052],[-143.634224,60.355052],[-143.634224,60.137913]]],\"type\":\"Polygon\"}}},{\"harmonize\":{\"target_sensor\":\"Sentinel-2\"}}]},{\"_links\":{\"_self\":\"https://api.planet.com/compute/ops/orders/v2/fed32158-857c-4940-9e21-fc54b2e5ff46\"},\"created_on\":\"2022-12-06T00:06:40.782Z\",\"delivery\":{\"archive_filename\":\"{{name}}_psscene_analytic_sr_udm2.zip\",\"archive_type\":\"zip\",\"single_archive\":true},\"error_hints\":[],\"id\":\"fed32158-857c-4940-9e21-fc54b2e5ff46\",\"last_message\":\"Manifest delivery completed\",\"last_modified\":\"2022-12-06T00:31:16.339Z\",\"name\":\"Aug_22_2021\",\"notifications\":{\"email\":true},\"order_type\":\"partial\",\"products\":[{\"item_ids\":[\"20210207_210431_67_1059\",\"20210207_204928_41_227b\",\"20210207_204926_05_227b\",\"20210207_210429_67_1059\",\"20210207_210427_67_1059\"],\"item_type\":\"PSScene\",\"product_bundle\":\"analytic_sr_udm2\"}],\"state\":\"success\",\"tools\":[{\"clip\":{\"aoi\":{\"coordinates\":[[[-143.634224,60.137913],[-143.154108,60.137913],[-143.154108,60.355052],[-143.634224,60.355052],[-143.634224,60.137913]]],\"type\":\"Polygon\"}}},{\"harmonize\":{\"target_sensor\":\"Sentinel-2\"}}]},{\"_links\":{\"_self\":\"https://api.planet.com/compute/ops/orders/v2/c04dd348-4744-4be1-a6af-62e9620fea29\"},\"created_on\":\"2022-12-06T00:06:08.261Z\",\"delivery\":{\"archive_filename\":\"{{name}}_psscene_analytic_sr_udm2.zip\",\"archive_type\":\"zip\",\"single_archive\":true},\"error_hints\":[],\"id\":\"c04dd348-4744-4be1-a6af-62e9620fea29\",\"last_message\":\"Manifest delivery completed\",\"last_modified\":\"2022-12-06T00:28:08.700Z\",\"name\":\"May_24_2021\",\"notifications\":{\"email\":true},\"order_type\":\"partial\",\"products\":[{\"item_ids\":[\"20210207_210431_67_1059\",\"20210207_204928_41_227b\",\"20210207_204926_05_227b\",\"20210207_210429_67_1059\",\"20210207_210427_67_1059\"],\"item_type\":\"PSScene\",\"product_bundle\":\"analytic_sr_udm2\"}],\"state\":\"success\",\"tools\":[{\"clip\":{\"aoi\":{\"coordinates\":[[[-143.634224,60.137913],[-143.154108,60.137913],[-143.154108,60.355052],[-143.634224,60.355052],[-143.634224,60.137913]]],\"type\":\"Polygon\"}}},{\"harmonize\":{\"target_sensor\":\"Sentinel-2\"}}]},{\"_links\":{\"_self\":\"https://api.planet.com/compute/ops/orders/v2/e8527dde-d01e-40bb-8589-bb418b61da7a\"},\"created_on\":\"2022-12-06T00:05:15.363Z\",\"delivery\":{\"archive_filename\":\"{{name}}_psscene_analytic_sr_udm2.zip\",\"archive_type\":\"zip\",\"single_archive\":true},\"error_hints\":[],\"id\":\"e8527dde-d01e-40bb-8589-bb418b61da7a\",\"last_message\":\"Manifest delivery completed\",\"last_modified\":\"2022-12-06T00:32:13.046Z\",\"name\":\"Feb_7_2021\",\"notifications\":{\"email\":true},\"order_type\":\"partial\",\"products\":[{\"item_ids\":[\"20210207_210431_67_1059\",\"20210207_204928_41_227b\",\"20210207_204926_05_227b\",\"20210207_210429_67_1059\",\"20210207_210427_67_1059\"],\"item_type\":\"PSScene\",\"product_bundle\":\"analytic_sr_udm2\"}],\"state\":\"success\",\"tools\":[{\"clip\":{\"aoi\":{\"coordinates\":[[[-143.634224,60.137913],[-143.154108,60.137913],[-143.154108,60.355052],[-143.634224,60.355052],[-143.634224,60.137913]]],\"type\":\"Polygon\"}}},{\"harmonize\":{\"target_sensor\":\"Sentinel-2\"}}]},{\"_links\":{\"_self\":\"https://api.planet.com/compute/ops/orders/v2/0a875c85-3325-4513-8d63-8cbfb0a28aaf\"},\"created_on\":\"2022-12-06T00:04:30.022Z\",\"delivery\":{\"archive_filename\":\"{{name}}_psscene_analytic_sr_udm2.zip\",\"archive_type\":\"zip\",\"single_archive\":true},\"error_hints\":[],\"id\":\"0a875c85-3325-4513-8d63-8cbfb0a28aaf\",\"last_message\":\"Manifest delivery completed\",\"last_modified\":\"2022-12-06T00:21:58.442Z\",\"name\":\"Oct_13_2020\",\"notifications\":{\"email\":true},\"order_type\":\"partial\",\"products\":[{\"item_ids\":[\"20200201_204835_88_1061\",\"20200201_204833_87_1061\",\"20200201_204831_85_1061\",\"20200201_202929_1018\",\"20200201_202930_1018\",\"20200201_202928_1018\",\"20200201_202927_1018\",\"20200201_202926_1018\",\"20200201_201807_0e20\",\"20200201_201805_0e20\",\"20200201_201804_0e20\",\"20200201_201809_0e20\",\"20200201_201806_0e20\"],\"item_type\":\"PSScene\",\"product_bundle\":\"analytic_sr_udm2\"}],\"state\":\"success\",\"tools\":[{\"clip\":{\"aoi\":{\"coordinates\":[[[-143.634224,60.137913],[-143.154108,60.137913],[-143.154108,60.355052],[-143.634224,60.355052],[-143.634224,60.137913]]],\"type\":\"Polygon\"}}},{\"harmonize\":{\"target_sensor\":\"Sentinel-2\"}}]},{\"_links\":{\"_self\":\"https://api.planet.com/compute/ops/orders/v2/69269e05-2fae-4bae-852e-dd8a91601a0b\"},\"created_on\":\"2022-12-06T00:03:27.562Z\",\"delivery\":{\"archive_filename\":\"{{name}}_psscene_analytic_sr_udm2.zip\",\"archive_type\":\"zip\",\"single_archive\":true},\"error_hints\":[],\"id\":\"69269e05-2fae-4bae-852e-dd8a91601a0b\",\"last_message\":\"Manifest delivery completed\",\"last_modified\":\"2022-12-06T00:24:00.755Z\",\"name\":\"July_1_2020\",\"notifications\":{\"email\":true},\"order_type\":\"partial\",\"products\":[{\"item_ids\":[\"20200201_204835_88_1061\",\"20200201_204833_87_1061\",\"20200201_204831_85_1061\",\"20200201_202929_1018\",\"20200201_202930_1018\",\"20200201_202928_1018\",\"20200201_202927_1018\",\"20200201_202926_1018\",\"20200201_201807_0e20\",\"20200201_201805_0e20\",\"20200201_201804_0e20\",\"20200201_201809_0e20\",\"20200201_201806_0e20\"],\"item_type\":\"PSScene\",\"product_bundle\":\"analytic_sr_udm2\"}],\"state\":\"success\",\"tools\":[{\"clip\":{\"aoi\":{\"coordinates\":[[[-143.634224,60.137913],[-143.154108,60.137913],[-143.154108,60.355052],[-143.634224,60.355052],[-143.634224,60.137913]]],\"type\":\"Polygon\"}}},{\"harmonize\":{\"target_sensor\":\"Sentinel-2\"}}]},{\"_links\":{\"_self\":\"https://api.planet.com/compute/ops/orders/v2/e16eddc1-623f-44f6-9025-bc95a089308f\"},\"created_on\":\"2022-12-06T00:02:37.829Z\",\"delivery\":{\"archive_filename\":\"{{name}}_psscene_analytic_sr_udm2.zip\",\"archive_type\":\"zip\",\"single_archive\":true},\"error_hints\":[],\"id\":\"e16eddc1-623f-44f6-9025-bc95a089308f\",\"last_message\":\"Manifest delivery completed\",\"last_modified\":\"2022-12-06T00:25:34.129Z\",\"name\":\"Mar_5_2020\",\"notifications\":{\"email\":true},\"order_type\":\"partial\",\"products\":[{\"item_ids\":[\"20200201_204835_88_1061\",\"20200201_204833_87_1061\",\"20200201_204831_85_1061\",\"20200201_202929_1018\",\"20200201_202930_1018\",\"20200201_202928_1018\",\"20200201_202927_1018\",\"20200201_202926_1018\",\"20200201_201807_0e20\",\"20200201_201805_0e20\",\"20200201_201804_0e20\",\"20200201_201809_0e20\",\"20200201_201806_0e20\"],\"item_type\":\"PSScene\",\"product_bundle\":\"analytic_sr_udm2\"}],\"state\":\"success\",\"tools\":[{\"clip\":{\"aoi\":{\"coordinates\":[[[-143.634224,60.137913],[-143.154108,60.137913],[-143.154108,60.355052],[-143.634224,60.355052],[-143.634224,60.137913]]],\"type\":\"Polygon\"}}},{\"harmonize\":{\"target_sensor\":\"Sentinel-2\"}}]},{\"_links\":{\"_self\":\"https://api.planet.com/compute/ops/orders/v2/8d06b514-943b-472c-8efd-344cae41f982\"},\"created_on\":\"2022-12-06T00:01:29.001Z\",\"delivery\":{\"archive_filename\":\"{{name}}_psscene_analytic_sr_udm2.zip\",\"archive_type\":\"zip\",\"single_archive\":true},\"error_hints\":[],\"id\":\"8d06b514-943b-472c-8efd-344cae41f982\",\"last_message\":\"Manifest delivery completed\",\"last_modified\":\"2022-12-06T00:23:57.463Z\",\"name\":\"Feb_1_2020\",\"notifications\":{\"email\":true},\"order_type\":\"partial\",\"products\":[{\"item_ids\":[\"20200201_204835_88_1061\",\"20200201_204833_87_1061\",\"20200201_204831_85_1061\",\"20200201_202929_1018\",\"20200201_202930_1018\",\"20200201_202928_1018\",\"20200201_202927_1018\",\"20200201_202926_1018\",\"20200201_201807_0e20\",\"20200201_201805_0e20\",\"20200201_201804_0e20\",\"20200201_201809_0e20\",\"20200201_201806_0e20\"],\"item_type\":\"PSScene\",\"product_bundle\":\"analytic_sr_udm2\"}],\"state\":\"success\",\"tools\":[{\"clip\":{\"aoi\":{\"coordinates\":[[[-143.634224,60.137913],[-143.154108,60.137913],[-143.154108,60.355052],[-143.634224,60.355052],[-143.634224,60.137913]]],\"type\":\"Polygon\"}}},{\"harmonize\":{\"target_sensor\":\"Sentinel-2\"}}]},{\"_links\":{\"_self\":\"https://api.planet.com/compute/ops/orders/v2/b77fe451-b865-447c-b63b-6399a79cf524\"},\"created_on\":\"2022-12-06T00:00:18.091Z\",\"delivery\":{\"archive_filename\":\"{{name}}_psscene_analytic_sr_udm2.zip\",\"archive_type\":\"zip\",\"single_archive\":true},\"error_hints\":[],\"id\":\"b77fe451-b865-447c-b63b-6399a79cf524\",\"last_message\":\"Manifest delivery completed\",\"last_modified\":\"2022-12-06T00:09:26.403Z\",\"name\":\"Aug_15_2019\",\"notifications\":{\"email\":true},\"order_type\":\"partial\",\"products\":[{\"item_ids\":[\"20180331_201449_1003\",\"20180331_201221_0f35\",\"20180331_201223_0f35\",\"20180331_201222_0f35\",\"20180331_201220_0f35\",\"20180331_201445_1003\",\"20180331_201444_1003\",\"20180331_201446_1003\",\"20180331_201447_1003\",\"20180331_201338_101f\",\"20180331_201337_101f\"],\"item_type\":\"PSScene\",\"product_bundle\":\"analytic_sr_udm2\"}],\"state\":\"success\",\"tools\":[{\"clip\":{\"aoi\":{\"coordinates\":[[[-143.634224,60.137913],[-143.154108,60.137913],[-143.154108,60.355052],[-143.634224,60.355052],[-143.634224,60.137913]]],\"type\":\"Polygon\"}}},{\"harmonize\":{\"target_sensor\":\"Sentinel-2\"}}]},{\"_links\":{\"_self\":\"https://api.planet.com/compute/ops/orders/v2/b5827fd4-842d-4e5f-96b1-c37e3dbbe2ce\"},\"created_on\":\"2022-12-05T23:59:23.778Z\",\"delivery\":{\"archive_filename\":\"{{name}}_psscene_analytic_sr_udm2.zip\",\"archive_type\":\"zip\",\"single_archive\":true},\"error_hints\":[],\"id\":\"b5827fd4-842d-4e5f-96b1-c37e3dbbe2ce\",\"last_message\":\"Manifest delivery completed\",\"last_modified\":\"2022-12-06T00:09:30.587Z\",\"name\":\"June_10_2019\",\"notifications\":{\"email\":true},\"order_type\":\"partial\",\"products\":[{\"item_ids\":[\"20180331_201449_1003\",\"20180331_201221_0f35\",\"20180331_201223_0f35\",\"20180331_201222_0f35\",\"20180331_201220_0f35\",\"20180331_201445_1003\",\"20180331_201444_1003\",\"20180331_201446_1003\",\"20180331_201447_1003\",\"20180331_201338_101f\",\"20180331_201337_101f\"],\"item_type\":\"PSScene\",\"product_bundle\":\"analytic_sr_udm2\"}],\"state\":\"success\",\"tools\":[{\"clip\":{\"aoi\":{\"coordinates\":[[[-143.634224,60.137913],[-143.154108,60.137913],[-143.154108,60.355052],[-143.634224,60.355052],[-143.634224,60.137913]]],\"type\":\"Polygon\"}}},{\"harmonize\":{\"target_sensor\":\"Sentinel-2\"}}]},{\"_links\":{\"_self\":\"https://api.planet.com/compute/ops/orders/v2/0ac87edf-3c94-4814-bb9d-d12244fe4901\"},\"created_on\":\"2022-12-05T23:57:56.535Z\",\"delivery\":{\"archive_filename\":\"{{name}}_psscene_analytic_sr_udm2.zip\",\"archive_type\":\"zip\",\"single_archive\":true},\"error_hints\":[],\"id\":\"0ac87edf-3c94-4814-bb9d-d12244fe4901\",\"last_message\":\"Manifest delivery completed\",\"last_modified\":\"2022-12-06T00:08:53.767Z\",\"name\":\"Feb_1_2019\",\"notifications\":{\"email\":true},\"order_type\":\"partial\",\"products\":[{\"item_ids\":[\"20180331_201449_1003\",\"20180331_201221_0f35\",\"20180331_201223_0f35\",\"20180331_201222_0f35\",\"20180331_201220_0f35\",\"20180331_201445_1003\",\"20180331_201444_1003\",\"20180331_201446_1003\",\"20180331_201447_1003\",\"20180331_201338_101f\",\"20180331_201337_101f\"],\"item_type\":\"PSScene\",\"product_bundle\":\"analytic_sr_udm2\"}],\"state\":\"success\",\"tools\":[{\"clip\":{\"aoi\":{\"coordinates\":[[[-143.634224,60.137913],[-143.154108,60.137913],[-143.154108,60.355052],[-143.634224,60.355052],[-143.634224,60.137913]]],\"type\":\"Polygon\"}}},{\"harmonize\":{\"target_sensor\":\"Sentinel-2\"}}]},{\"_links\":{\"_self\":\"https://api.planet.com/compute/ops/orders/v2/72878b77-30b8-4c5d-8265-0c2ce1a87584\"},\"created_on\":\"2022-12-05T23:56:55.920Z\",\"delivery\":{\"archive_filename\":\"{{name}}_psscene_analytic_sr_udm2.zip\",\"archive_type\":\"zip\",\"single_archive\":true},\"error_hints\":[],\"id\":\"72878b77-30b8-4c5d-8265-0c2ce1a87584\",\"last_message\":\"Manifest delivery completed\",\"last_modified\":\"2022-12-06T00:13:28.072Z\",\"name\":\"July_5_2018\",\"notifications\":{\"email\":true},\"order_type\":\"partial\",\"products\":[{\"item_ids\":[\"20180331_201449_1003\",\"20180331_201221_0f35\",\"20180331_201223_0f35\",\"20180331_201222_0f35\",\"20180331_201220_0f35\",\"20180331_201445_1003\",\"20180331_201444_1003\",\"20180331_201446_1003\",\"20180331_201447_1003\",\"20180331_201338_101f\",\"20180331_201337_101f\"],\"item_type\":\"PSScene\",\"product_bundle\":\"analytic_sr_udm2\"}],\"state\":\"success\",\"tools\":[{\"clip\":{\"aoi\":{\"coordinates\":[[[-143.634224,60.137913],[-143.154108,60.137913],[-143.154108,60.355052],[-143.634224,60.355052],[-143.634224,60.137913]]],\"type\":\"Polygon\"}}},{\"harmonize\":{\"target_sensor\":\"Sentinel-2\"}}]},{\"_links\":{\"_self\":\"https://api.planet.com/compute/ops/orders/v2/a5c77a97-d520-40c9-90c2-93ab2bd28265\"},\"created_on\":\"2022-12-05T23:55:20.203Z\",\"delivery\":{\"archive_filename\":\"{{name}}_psscene_analytic_sr_udm2.zip\",\"archive_type\":\"zip\",\"single_archive\":true},\"error_hints\":[],\"id\":\"a5c77a97-d520-40c9-90c2-93ab2bd28265\",\"last_message\":\"Manifest delivery completed\",\"last_modified\":\"2022-12-06T00:11:28.455Z\",\"name\":\"May_16_2018\",\"notifications\":{\"email\":true},\"order_type\":\"partial\",\"products\":[{\"item_ids\":[\"20180331_201449_1003\",\"20180331_201221_0f35\",\"20180331_201223_0f35\",\"20180331_201222_0f35\",\"20180331_201220_0f35\",\"20180331_201445_1003\",\"20180331_201444_1003\",\"20180331_201446_1003\",\"20180331_201447_1003\",\"20180331_201338_101f\",\"20180331_201337_101f\"],\"item_type\":\"PSScene\",\"product_bundle\":\"analytic_sr_udm2\"}],\"state\":\"success\",\"tools\":[{\"clip\":{\"aoi\":{\"coordinates\":[[[-143.634224,60.137913],[-143.154108,60.137913],[-143.154108,60.355052],[-143.634224,60.355052],[-143.634224,60.137913]]],\"type\":\"Polygon\"}}},{\"harmonize\":{\"target_sensor\":\"Sentinel-2\"}}]},{\"_links\":{\"_self\":\"https://api.planet.com/compute/ops/orders/v2/e5bc456d-55d8-4ab5-816a-eb9c20a14fb8\"},\"created_on\":\"2022-12-05T23:54:36.321Z\",\"delivery\":{\"archive_filename\":\"{{name}}_psscene_analytic_sr_udm2.zip\",\"archive_type\":\"zip\",\"single_archive\":true},\"error_hints\":[],\"id\":\"e5bc456d-55d8-4ab5-816a-eb9c20a14fb8\",\"last_message\":\"Manifest delivery completed\",\"last_modified\":\"2022-12-06T00:10:16.327Z\",\"name\":\"Mar_31_2018\",\"notifications\":{\"email\":true},\"order_type\":\"partial\",\"products\":[{\"item_ids\":[\"20180331_201449_1003\",\"20180331_201221_0f35\",\"20180331_201223_0f35\",\"20180331_201222_0f35\",\"20180331_201220_0f35\",\"20180331_201445_1003\",\"20180331_201444_1003\",\"20180331_201446_1003\",\"20180331_201447_1003\",\"20180331_201338_101f\",\"20180331_201337_101f\"],\"item_type\":\"PSScene\",\"product_bundle\":\"analytic_sr_udm2\"}],\"state\":\"success\",\"tools\":[{\"clip\":{\"aoi\":{\"coordinates\":[[[-143.634224,60.137913],[-143.154108,60.137913],[-143.154108,60.355052],[-143.634224,60.355052],[-143.634224,60.137913]]],\"type\":\"Polygon\"}}},{\"harmonize\":{\"target_sensor\":\"Sentinel-2\"}}]},{\"_links\":{\"_self\":\"https://api.planet.com/compute/ops/orders/v2/5938191e-dc4f-4623-8b35-2b1d71d10584\"},\"created_on\":\"2022-12-05T23:53:31.786Z\",\"delivery\":{\"archive_filename\":\"{{name}}_psscene_analytic_sr_udm2.zip\",\"archive_type\":\"zip\",\"single_archive\":true},\"error_hints\":[],\"id\":\"5938191e-dc4f-4623-8b35-2b1d71d10584\",\"last_message\":\"Manifest delivery completed\",\"last_modified\":\"2022-12-06T00:08:46.715Z\",\"name\":\"Nov_1_2017\",\"notifications\":{\"email\":true},\"order_type\":\"partial\",\"products\":[{\"item_ids\":[\"20170526_200057_1003\",\"20170526_200056_1003\",\"20170526_200054_1003\",\"20170526_200053_1003\",\"20170526_200055_1003\",\"20170204_200502_0e3a\",\"20170204_200503_0e3a\",\"20170204_200500_0e3a\",\"20170204_200459_0e3a\",\"20170204_200458_0e3a\",\"20170204_200309_0e0d\",\"20170204_200308_0e0d\",\"20170204_200305_0e0d\",\"20170204_200307_0e0d\",\"20170204_200306_0e0d\"],\"item_type\":\"PSScene\",\"product_bundle\":\"analytic_sr_udm2\"}],\"state\":\"success\",\"tools\":[{\"clip\":{\"aoi\":{\"coordinates\":[[[-143.634224,60.137913],[-143.154108,60.137913],[-143.154108,60.355052],[-143.634224,60.355052],[-143.634224,60.137913]]],\"type\":\"Polygon\"}}},{\"harmonize\":{\"target_sensor\":\"Sentinel-2\"}}]}]}"
     ]
    },
    {
     "name": "stdout",
     "output_type": "stream",
     "text": [
      "\n"
     ]
    },
    {
     "name": "stderr",
     "output_type": "stream",
     "text": [
      "  % Total    % Received % Xferd  Average Speed   Time    Time     Time  Current\n",
      "                                 Dload  Upload   Total   Spent    Left  Speed\n",
      "\n",
      "  0     0    0     0    0     0      0      0 --:--:-- --:--:-- --:--:--     0\n",
      "100 20986    0 20986    0     0  21771      0 --:--:-- --:--:-- --:--:-- 33523\n"
     ]
    }
   ],
   "source": [
    "# Double checking authentication\n",
    "\n",
    "# If a pink box or a list of image IDs appear, it is working\n",
    "\n",
    "!curl -L -H \"Authorization: api-key $PLANET_API_KEY\" $orders_url\n",
    "\n",
    "# Ref https://developers.planet.com/docs/apis/data/api-mechanics/"
   ]
  },
  {
   "cell_type": "code",
   "execution_count": 24,
   "metadata": {},
   "outputs": [],
   "source": [
    "# Setting authentication \n",
    "\n",
    "auth = HTTPBasicAuth(PLANET_API_KEY, '')\n",
    "response = requests.get(data_url, auth=auth)"
   ]
  },
  {
   "cell_type": "markdown",
   "metadata": {},
   "source": [
    "## Filter the Image Search"
   ]
  },
  {
   "cell_type": "code",
   "execution_count": 6,
   "metadata": {},
   "outputs": [],
   "source": [
    "# Set the AOI\n",
    "\n",
    "geometry = {\n",
    "    \"type\":\"Polygon\",\n",
    "    \"coordinates\":[\n",
    "                  [\n",
    "            [\n",
    "              -145.44859629282018,\n",
    "              63.29635255038565\n",
    "            ],\n",
    "            [\n",
    "              -145.44859629282018,\n",
    "              63.25045403118733\n",
    "            ],\n",
    "            [\n",
    "              -145.37814550162204,\n",
    "              63.25045403118733\n",
    "            ],\n",
    "            [\n",
    "              -145.37814550162204,\n",
    "              63.29635255038565\n",
    "            ],\n",
    "            [\n",
    "              -145.44859629282018,\n",
    "              63.29635255038565\n",
    "            ]\n",
    "          ]\n",
    "        ]\n",
    "}\n",
    "\n",
    "# Ref https://geojson.io/#map=11.51/63.2765/-145.4083\n",
    "# Ref https://developers.planet.com/docs/planetschool/geojson-and-areas-of-interest-aois/"
   ]
  },
  {
   "cell_type": "code",
   "execution_count": 7,
   "metadata": {},
   "outputs": [],
   "source": [
    "# Set the geometry selected in AOI\n",
    "\n",
    "geometry_filter = {\n",
    "  \"type\": \"GeometryFilter\",\n",
    "  \"field_name\": \"geometry\",\n",
    "  \"config\": geometry\n",
    "}"
   ]
  },
  {
   "cell_type": "code",
   "execution_count": 88,
   "metadata": {},
   "outputs": [],
   "source": [
    "# Set the date range\n",
    "\n",
    "date_range_filter_17 = {\n",
    "  \"type\": \"DateRangeFilter\",\n",
    "  \"field_name\": \"acquired\",\n",
    "  \"config\": {\n",
    "    \"gte\":\"2017-07-20T00:00:00Z\",\n",
    "    \"lte\":\"2017-08-31T23:59:00Z\"\n",
    "  }\n",
    "}\n",
    "\n",
    "date_range_filter_18 = {\n",
    "  \"type\": \"DateRangeFilter\",\n",
    "  \"field_name\": \"acquired\",\n",
    "  \"config\": {\n",
    "    \"gte\":\"2018-07-20T00:00:00Z\",\n",
    "    \"lte\":\"2018-08-31T23:59:00Z\"\n",
    "  }\n",
    "}\n",
    "\n",
    "date_range_filter_19 = {\n",
    "  \"type\": \"DateRangeFilter\",\n",
    "  \"field_name\": \"acquired\",\n",
    "  \"config\": {\n",
    "    \"gte\":\"2019-07-20T00:00:00Z\",\n",
    "    \"lte\":\"2019-08-31T23:59:00Z\"\n",
    "  }\n",
    "}\n",
    "\n",
    "date_range_filter_20 = {\n",
    "  \"type\": \"DateRangeFilter\",\n",
    "  \"field_name\": \"acquired\",\n",
    "  \"config\": {\n",
    "    \"gte\":\"2020-07-20T00:00:00Z\",\n",
    "    \"lte\":\"2020-08-31T23:59:00Z\"\n",
    "  }\n",
    "}\n",
    "\n",
    "date_range_filter_21 = {\n",
    "  \"type\": \"DateRangeFilter\",\n",
    "  \"field_name\": \"acquired\",\n",
    "  \"config\": {\n",
    "    \"gte\":\"2021-07-20T00:00:00Z\",\n",
    "    \"lte\":\"2021-08-31T23:59:00Z\"\n",
    "  }\n",
    "}\n",
    "\n",
    "date_range_filter_22 = {\n",
    "  \"type\": \"DateRangeFilter\",\n",
    "  \"field_name\": \"acquired\",\n",
    "  \"config\": {\n",
    "    \"gte\":\"2022-07-20T00:00:00Z\",\n",
    "    \"lte\":\"2022-08-31T23:59:00Z\"\n",
    "  }\n",
    "}\n",
    "\n",
    "# I have chosen this date range because this is usually when the glacier is most visible"
   ]
  },
  {
   "cell_type": "code",
   "execution_count": 89,
   "metadata": {},
   "outputs": [],
   "source": [
    "# Set cloud coverage range\n",
    "\n",
    "cloud_cover_filter = {\n",
    "  \"type\": \"RangeFilter\",\n",
    "  \"field_name\": \"cloud_cover\",\n",
    "  \"config\": {\n",
    "    \"lte\": 0.15\n",
    "  }\n",
    "}"
   ]
  },
  {
   "cell_type": "code",
   "execution_count": 90,
   "metadata": {},
   "outputs": [],
   "source": [
    "# Combine filters under an 'And' condition to ensure they are all applied\n",
    "\n",
    "combined_filter_17 = {\n",
    "  \"type\": \"AndFilter\",\n",
    "  \"config\": [geometry_filter, date_range_filter_17, cloud_cover_filter]\n",
    "}\n",
    "\n",
    "combined_filter_18 = {\n",
    "  \"type\": \"AndFilter\",\n",
    "  \"config\": [geometry_filter, date_range_filter_18, cloud_cover_filter]\n",
    "}\n",
    "\n",
    "combined_filter_19 = {\n",
    "  \"type\": \"AndFilter\",\n",
    "  \"config\": [geometry_filter, date_range_filter_19, cloud_cover_filter]\n",
    "}\n",
    "\n",
    "combined_filter_20 = {\n",
    "  \"type\": \"AndFilter\",\n",
    "  \"config\": [geometry_filter, date_range_filter_20, cloud_cover_filter]\n",
    "}\n",
    "\n",
    "combined_filter_21 = {\n",
    "  \"type\": \"AndFilter\",\n",
    "  \"config\": [geometry_filter, date_range_filter_21, cloud_cover_filter]\n",
    "}\n",
    "\n",
    "combined_filter_22 = {\n",
    "  \"type\": \"AndFilter\",\n",
    "  \"config\": [geometry_filter, date_range_filter_22, cloud_cover_filter]\n",
    "}\n",
    "\n",
    "# Ref for all filters: https://developers.planet.com/docs/apis/data/searches-filtering/#asset-filters"
   ]
  },
  {
   "cell_type": "markdown",
   "metadata": {},
   "source": [
    "## Search Results by Year"
   ]
  },
  {
   "cell_type": "code",
   "execution_count": null,
   "metadata": {},
   "outputs": [],
   "source": [
    "# Setting the item_type\n",
    "\n",
    "item_type = \"PSScene\"\n",
    "\n",
    "# Ref https://developers.planet.com/docs/apis/data/items-assets/#item-types"
   ]
  },
  {
   "cell_type": "markdown",
   "metadata": {},
   "source": [
    "### 2017"
   ]
  },
  {
   "cell_type": "code",
   "execution_count": 91,
   "metadata": {},
   "outputs": [
    {
     "name": "stdout",
     "output_type": "stream",
     "text": [
      "['20170806_202038_0f17', '20170806_202037_0f17', '20170806_202313_0f28', '20170806_202314_0f28', '20170831_202130_1005', '20170828_200620_0f3b', '20170828_200621_0f3b', '20170825_202129_1035', '20170819_201941_1006', '20170819_201940_1006', '20170818_202217_100a', '20170818_202216_100a', '20170816_201742_1035', '20170816_201903_0f22', '20170815_202047_101b', '20170810_200845_100d', '20170810_200844_100d', '20170809_201800_1015', '20170809_201801_1015', '20170809_201902_100a', '20170809_201901_100a', '20170807_201829_1023', '20170807_201828_1023', '20170807_201850_1009', '20170807_201851_1009', '20170805_201941_1034', '20170805_201942_1034', '20170805_202133_0f4e', '20170805_202132_0f4e', '20170804_201802_1028', '20170804_201801_1028', '20170804_202341_0e0e', '20170804_202340_0e0e', '20170801_201912_0f52', '20170730_202141_0e0d', '20170730_201935_1018', '20170730_201950_102d', '20170730_201949_102d', '20170729_202215_1008', '20170729_202214_1008', '20170729_201956_100c', '20170729_201955_100c', '20170723_201959_103c', '20170723_202142_101b', '20170723_202141_101b', '20170722_201655_1041', '20170722_201654_1041', '20170722_201934_1011', '20170722_201933_1011', '20170720_201957_101f', '20170720_201958_101f']\n"
     ]
    }
   ],
   "source": [
    "# setting the search request\n",
    "\n",
    "search_request = {\n",
    "  \"item_types\": [item_type], \n",
    "  \"filter\": combined_filter_17\n",
    "}\n",
    "\n",
    "# starting the search\n",
    "\n",
    "search_result = \\\n",
    "  requests.post(\n",
    "    'https://api.planet.com/data/v1/quick-search',\n",
    "    auth=HTTPBasicAuth(PLANET_API_KEY, ''),\n",
    "    json=search_request)\n",
    "\n",
    "# listing image IDs\n",
    "\n",
    "image_ids_17 = [feature['id'] for feature in search_result.json()['features']]\n",
    "print(image_ids_17)\n",
    "\n",
    "# Ref https://developers.planet.com/docs/apis/data/items-assets/#item-types\n",
    "# Ref https://developers.planet.com/docs/data/psscene/\n",
    "\n",
    "# Grouped scenes will have the same first IDs which is the date '2017_08_06'"
   ]
  },
  {
   "cell_type": "markdown",
   "metadata": {},
   "source": [
    "### 2018"
   ]
  },
  {
   "cell_type": "code",
   "execution_count": null,
   "metadata": {},
   "outputs": [],
   "source": [
    "# setting the search request\n",
    "\n",
    "search_request = {\n",
    "  \"item_types\": [item_type], \n",
    "  \"filter\": combined_filter_18\n",
    "}\n",
    "\n",
    "# starting the search\n",
    "\n",
    "search_result = \\\n",
    "  requests.post(\n",
    "    'https://api.planet.com/data/v1/quick-search',\n",
    "    auth=HTTPBasicAuth(PLANET_API_KEY, ''),\n",
    "    json=search_request)\n",
    "\n",
    "# listing image IDs\n",
    "\n",
    "image_ids_18 = [feature['id'] for feature in search_result.json()['features']]\n",
    "print(image_ids_18)"
   ]
  },
  {
   "cell_type": "markdown",
   "metadata": {},
   "source": [
    "### 2019"
   ]
  },
  {
   "cell_type": "code",
   "execution_count": null,
   "metadata": {},
   "outputs": [],
   "source": [
    "# setting the search request\n",
    "\n",
    "search_request = {\n",
    "  \"item_types\": [item_type], \n",
    "  \"filter\": combined_filter_19\n",
    "}\n",
    "\n",
    "# starting the search\n",
    "\n",
    "search_result = \\\n",
    "  requests.post(\n",
    "    'https://api.planet.com/data/v1/quick-search',\n",
    "    auth=HTTPBasicAuth(PLANET_API_KEY, ''),\n",
    "    json=search_request)\n",
    "\n",
    "# listing image IDs\n",
    "\n",
    "image_ids_19 = [feature['id'] for feature in search_result.json()['features']]\n",
    "print(image_ids_19)"
   ]
  },
  {
   "cell_type": "markdown",
   "metadata": {},
   "source": [
    "### 2020"
   ]
  },
  {
   "cell_type": "code",
   "execution_count": null,
   "metadata": {},
   "outputs": [],
   "source": [
    "# setting the search request\n",
    "\n",
    "search_request = {\n",
    "  \"item_types\": [item_type], \n",
    "  \"filter\": combined_filter_20\n",
    "}\n",
    "\n",
    "# starting the search\n",
    "\n",
    "search_result = \\\n",
    "  requests.post(\n",
    "    'https://api.planet.com/data/v1/quick-search',\n",
    "    auth=HTTPBasicAuth(PLANET_API_KEY, ''),\n",
    "    json=search_request)\n",
    "\n",
    "# listing image IDs\n",
    "\n",
    "image_ids_20 = [feature['id'] for feature in search_result.json()['features']]\n",
    "print(image_ids_20)"
   ]
  },
  {
   "cell_type": "markdown",
   "metadata": {},
   "source": [
    "### 2021"
   ]
  },
  {
   "cell_type": "code",
   "execution_count": null,
   "metadata": {},
   "outputs": [],
   "source": [
    "# setting the search request\n",
    "\n",
    "search_request = {\n",
    "  \"item_types\": [item_type], \n",
    "  \"filter\": combined_filter_21\n",
    "}\n",
    "\n",
    "# starting the search\n",
    "\n",
    "search_result = \\\n",
    "  requests.post(\n",
    "    'https://api.planet.com/data/v1/quick-search',\n",
    "    auth=HTTPBasicAuth(PLANET_API_KEY, ''),\n",
    "    json=search_request)\n",
    "\n",
    "# listing image IDs\n",
    "\n",
    "image_ids_21 = [feature['id'] for feature in search_result.json()['features']]\n",
    "print(image_ids_21)"
   ]
  },
  {
   "cell_type": "markdown",
   "metadata": {},
   "source": [
    "### 2022"
   ]
  },
  {
   "cell_type": "code",
   "execution_count": null,
   "metadata": {},
   "outputs": [],
   "source": [
    "# setting the search request\n",
    "\n",
    "search_request = {\n",
    "  \"item_types\": [item_type], \n",
    "  \"filter\": combined_filter_22\n",
    "}\n",
    "\n",
    "# starting the search\n",
    "\n",
    "search_result = \\\n",
    "  requests.post(\n",
    "    'https://api.planet.com/data/v1/quick-search',\n",
    "    auth=HTTPBasicAuth(PLANET_API_KEY, ''),\n",
    "    json=search_request)\n",
    "\n",
    "# listing image IDs\n",
    "\n",
    "image_ids_22 = [feature['id'] for feature in search_result.json()['features']]\n",
    "print(image_ids_22)"
   ]
  },
  {
   "cell_type": "markdown",
   "metadata": {},
   "source": [
    "## Preview the Search before Ordering"
   ]
  },
  {
   "cell_type": "code",
   "execution_count": 1,
   "metadata": {},
   "outputs": [
    {
     "ename": "NameError",
     "evalue": "name 'image_ids' is not defined",
     "output_type": "error",
     "traceback": [
      "\u001b[0;31m---------------------------------------------------------------------------\u001b[0m\n\u001b[0;31mNameError\u001b[0m                                 Traceback (most recent call last)",
      "In  \u001b[0;34m[1]\u001b[0m:\nLine \u001b[0;34m5\u001b[0m:     thumbnail_search = thumbnail_base + image_ids + API_key_URL\n",
      "\u001b[0;31mNameError\u001b[0m: name 'image_ids' is not defined\n\u001b[0;31m---------------------------------------------------------------------------\u001b[0m"
     ]
    }
   ],
   "source": [
    "'https://tiles.planet.com/data/v1/item-types/PSScene/items/20170816_201742_1035/thumb?api_key=**ReplacewithAPIKeyONLY**'\n",
    "\n",
    "thumbnail_base = r'https://tiles.planet.com/data/v1/item-types/PSScene/items/'\n",
    "API_key_URL = r'/thumb?api_key=**ReplacewithAPIKeyFromGoogleDrive**'\n",
    "thumbnail_search_17 = thumbnail_base + image_ids_17 + API_key_URL\n",
    "thumbnail_search_18 = thumbnail_base + image_ids_18 + API_key_URL\n",
    "thumbnail_search_19 = thumbnail_base + image_ids_19 + API_key_URL\n",
    "thumbnail_search_20 = thumbnail_base + image_ids_20 + API_key_URL\n",
    "thumbnail_search_21 = thumbnail_base + image_ids_21 + API_key_URL\n",
    "thumbnail_search_22 = thumbnail_base + image_ids_22 + API_key_URL\n",
    "\n",
    "# If I had more time/experience I would automate this so the IDs from above would\n",
    "# autopopulate into the URL so I could review the thumbnails to choose the best images\n",
    "\n",
    "# This step is not necessary at the moment but worth developing later\n",
    "\n",
    "# Ref https://developers.planet.com/docs/apis/data/item-previews/"
   ]
  },
  {
   "cell_type": "markdown",
   "metadata": {},
   "source": [
    "## Placing the Order"
   ]
  },
  {
   "cell_type": "code",
   "execution_count": 18,
   "metadata": {},
   "outputs": [],
   "source": [
    "# set content type to json\n",
    "\n",
    "headers = {'content-type': 'application/json'}"
   ]
  },
  {
   "cell_type": "markdown",
   "metadata": {},
   "source": [
    "### 2017"
   ]
  },
  {
   "cell_type": "code",
   "execution_count": 21,
   "metadata": {},
   "outputs": [
    {
     "data": {
      "text/plain": [
       "{'name': 'Alaska_2017', 'products': [{'item_ids': ['20170816_201742_1035'], 'item_type': 'PSScene', 'product_bundle': 'analytic_udm2'}], 'delivery': {'archive_type': 'zip', 'archive_filename': '{{name}}_{{order_id}}.zip'}}"
      ]
     },
     "execution_count": 21,
     "metadata": {},
     "output_type": "execute_result"
    }
   ],
   "source": [
    "# defining the product\n",
    "\n",
    "product_17 = [\n",
    "    {\n",
    "      \"item_ids\": image_ids_17,\n",
    "      \"item_type\": 'PSScene' ,\n",
    "      \"product_bundle\": 'analytic_udm2'\n",
    "    }\n",
    "]\n",
    "\n",
    "\n",
    "request_17 = {  \n",
    "    \"name\": \"Alaska_2017\",\n",
    "    \"products\": product_17,\n",
    "    \"tools\": [\n",
    "        {\"clip\": \n",
    "             {\"aoi\": geometry}\n",
    "        },\n",
    "        {\"composite\": {}\n",
    "        }\n",
    "    ],\n",
    "    \"delivery\": \n",
    "        {\"archive_type\": \"zip\",\n",
    "         \"archive_filename\": \"{{name}}_{{order_id}}.zip\"}\n",
    "}\n",
    "request_17\n",
    "\n",
    "# Ref https://developers.planet.com/apis/orders/product-bundles-reference/\n",
    "# Ref https://developers.planet.com/apis/orders/delivery/\n",
    "# Ref https://developers.planet.com/apis/orders/tools/#merge"
   ]
  },
  {
   "cell_type": "code",
   "execution_count": 25,
   "metadata": {},
   "outputs": [],
   "source": [
    "def place_order(request_17, auth):\n",
    "    response = requests.post(orders_url, data=json.dumps(request_17), auth=auth, headers=headers)\n",
    "    print(response.json())\n",
    "    order_id = response.json()['id']\n",
    "    print(order_id)\n",
    "    order_url = orders_url + '/' + order_id\n",
    "    return order_url\n",
    "\n",
    "# Ref https://github.com/planetlabs/notebooks"
   ]
  },
  {
   "cell_type": "code",
   "execution_count": 26,
   "metadata": {},
   "outputs": [
    {
     "name": "stdout",
     "output_type": "stream",
     "text": [
      "{'_links': {'_self': 'https://api.planet.com/compute/ops/orders/v2/f3d42101-0445-4c4e-826e-0d9dddd090c4'}, 'created_on': '2022-12-13T22:59:43.958Z', 'delivery': {'archive_filename': '{{name}}_{{order_id}}.zip', 'archive_type': 'zip'}, 'error_hints': [], 'id': 'f3d42101-0445-4c4e-826e-0d9dddd090c4', 'last_message': 'Preparing order', 'last_modified': '2022-12-13T22:59:43.958Z', 'name': 'Alaska_2017', 'products': [{'item_ids': ['20170816_201742_1035'], 'item_type': 'PSScene', 'product_bundle': 'analytic_udm2'}], 'state': 'queued'}\n",
      "f3d42101-0445-4c4e-826e-0d9dddd090c4\n"
     ]
    }
   ],
   "source": [
    "# placing the order\n",
    "\n",
    "# DO NOT RUN THIS CELL\n",
    "\n",
    "order_url = place_order(request_17, auth)\n",
    "\n",
    "# I am delivering these files to my Planet account\n",
    "\n",
    "# I attempted to deliver them to a Google Cloud Storage account but unfortunately failed\n",
    "\n",
    "# I will place zip files in my shared Google Drive Account"
   ]
  },
  {
   "cell_type": "markdown",
   "metadata": {},
   "source": [
    "### 2018"
   ]
  },
  {
   "cell_type": "code",
   "execution_count": null,
   "metadata": {},
   "outputs": [],
   "source": [
    "# defining the product\n",
    "\n",
    "product_18 = [\n",
    "    {\n",
    "      \"item_ids\": image_ids_18,\n",
    "      \"item_type\": 'PSScene' ,\n",
    "      \"product_bundle\": 'analytic_udm2'\n",
    "    }\n",
    "]\n",
    "\n",
    "\n",
    "request_18 = {  \n",
    "    \"name\": \"Alaska_2018\",\n",
    "    \"products\": product_18,\n",
    "    \"tools\": [\n",
    "        {\"clip\": \n",
    "             {\"aoi\": geometry}\n",
    "        },\n",
    "        {\"composite\": {}\n",
    "        }\n",
    "    ],\n",
    "    \"delivery\": \n",
    "        {\"archive_type\": \"zip\",\n",
    "         \"archive_filename\": \"{{name}}_{{order_id}}.zip\"}\n",
    "}\n",
    "request_18"
   ]
  },
  {
   "cell_type": "code",
   "execution_count": null,
   "metadata": {},
   "outputs": [],
   "source": [
    "def place_order(request_18, auth):\n",
    "    response = requests.post(orders_url, data=json.dumps(request_18), auth=auth, headers=headers)\n",
    "    print(response.json())\n",
    "    order_id = response.json()['id']\n",
    "    print(order_id)\n",
    "    order_url = orders_url + '/' + order_id\n",
    "    return order_url"
   ]
  },
  {
   "cell_type": "code",
   "execution_count": null,
   "metadata": {},
   "outputs": [],
   "source": [
    "# placing the order\n",
    "\n",
    "# DO NOT RUN THIS CELL\n",
    "\n",
    "order_url = place_order(request_18, auth)"
   ]
  },
  {
   "cell_type": "markdown",
   "metadata": {},
   "source": [
    "### 2019"
   ]
  },
  {
   "cell_type": "code",
   "execution_count": null,
   "metadata": {},
   "outputs": [],
   "source": [
    "# defining the product\n",
    "\n",
    "product_19 = [\n",
    "    {\n",
    "      \"item_ids\": image_ids_19,\n",
    "      \"item_type\": 'PSScene' ,\n",
    "      \"product_bundle\": 'analytic_udm2'\n",
    "    }\n",
    "]\n",
    "\n",
    "\n",
    "request_19 = {  \n",
    "    \"name\": \"Alaska_2019\",\n",
    "    \"products\": product_19,\n",
    "    \"tools\": [\n",
    "        {\"clip\": \n",
    "             {\"aoi\": geometry}\n",
    "        },\n",
    "        {\"composite\": {}\n",
    "        }\n",
    "    ],\n",
    "    \"delivery\": \n",
    "        {\"archive_type\": \"zip\",\n",
    "         \"archive_filename\": \"{{name}}_{{order_id}}.zip\"}\n",
    "}\n",
    "request_19"
   ]
  },
  {
   "cell_type": "code",
   "execution_count": null,
   "metadata": {},
   "outputs": [],
   "source": [
    "def place_order(request_19, auth):\n",
    "    response = requests.post(orders_url, data=json.dumps(request_19), auth=auth, headers=headers)\n",
    "    print(response.json())\n",
    "    order_id = response.json()['id']\n",
    "    print(order_id)\n",
    "    order_url = orders_url + '/' + order_id\n",
    "    return order_url"
   ]
  },
  {
   "cell_type": "code",
   "execution_count": null,
   "metadata": {},
   "outputs": [],
   "source": [
    "# placing the order\n",
    "\n",
    "# DO NOT RUN THIS CELL\n",
    "\n",
    "order_url = place_order(request_19, auth)"
   ]
  },
  {
   "cell_type": "markdown",
   "metadata": {},
   "source": [
    "### 2020"
   ]
  },
  {
   "cell_type": "code",
   "execution_count": null,
   "metadata": {},
   "outputs": [],
   "source": [
    "# defining the product\n",
    "\n",
    "product_20 = [\n",
    "    {\n",
    "      \"item_ids\": image_ids_20,\n",
    "      \"item_type\": 'PSScene' ,\n",
    "      \"product_bundle\": 'analytic_udm2'\n",
    "    }\n",
    "]\n",
    "\n",
    "\n",
    "request_20 = {  \n",
    "    \"name\": \"Alaska_2020\",\n",
    "    \"products\": product_20,\n",
    "    \"tools\": [\n",
    "        {\"clip\": \n",
    "             {\"aoi\": geometry}\n",
    "        },\n",
    "        {\"composite\": {}\n",
    "        }\n",
    "    ],\n",
    "    \"delivery\": \n",
    "        {\"archive_type\": \"zip\",\n",
    "         \"archive_filename\": \"{{name}}_{{order_id}}.zip\"}\n",
    "}\n",
    "request_20"
   ]
  },
  {
   "cell_type": "code",
   "execution_count": null,
   "metadata": {},
   "outputs": [],
   "source": [
    "def place_order(request_20, auth):\n",
    "    response = requests.post(orders_url, data=json.dumps(request_20), auth=auth, headers=headers)\n",
    "    print(response.json())\n",
    "    order_id = response.json()['id']\n",
    "    print(order_id)\n",
    "    order_url = orders_url + '/' + order_id\n",
    "    return order_url"
   ]
  },
  {
   "cell_type": "code",
   "execution_count": null,
   "metadata": {},
   "outputs": [],
   "source": [
    "# placing the order\n",
    "\n",
    "# DO NOT RUN THIS CELL\n",
    "\n",
    "order_url = place_order(request_20, auth)"
   ]
  },
  {
   "cell_type": "markdown",
   "metadata": {},
   "source": [
    "### 2021"
   ]
  },
  {
   "cell_type": "code",
   "execution_count": null,
   "metadata": {},
   "outputs": [],
   "source": [
    "# defining the product\n",
    "\n",
    "product_21 = [\n",
    "    {\n",
    "      \"item_ids\": image_ids_21,\n",
    "      \"item_type\": 'PSScene' ,\n",
    "      \"product_bundle\": 'analytic_udm2'\n",
    "    }\n",
    "]\n",
    "\n",
    "\n",
    "request_21 = {  \n",
    "    \"name\": \"Alaska_2021\",\n",
    "    \"products\": product_21,\n",
    "    \"tools\": [\n",
    "        {\"clip\": \n",
    "             {\"aoi\": geometry}\n",
    "        },\n",
    "        {\"composite\": {}\n",
    "        }\n",
    "    ],\n",
    "    \"delivery\": \n",
    "        {\"archive_type\": \"zip\",\n",
    "         \"archive_filename\": \"{{name}}_{{order_id}}.zip\"}\n",
    "}\n",
    "request_21"
   ]
  },
  {
   "cell_type": "code",
   "execution_count": null,
   "metadata": {},
   "outputs": [],
   "source": [
    "def place_order(request_21, auth):\n",
    "    response = requests.post(orders_url, data=json.dumps(request_21), auth=auth, headers=headers)\n",
    "    print(response.json())\n",
    "    order_id = response.json()['id']\n",
    "    print(order_id)\n",
    "    order_url = orders_url + '/' + order_id\n",
    "    return order_url"
   ]
  },
  {
   "cell_type": "code",
   "execution_count": null,
   "metadata": {},
   "outputs": [],
   "source": [
    "# placing the order\n",
    "\n",
    "# DO NOT RUN THIS CELL\n",
    "\n",
    "order_url = place_order(request_21, auth)"
   ]
  },
  {
   "cell_type": "markdown",
   "metadata": {},
   "source": [
    "### 2022"
   ]
  },
  {
   "cell_type": "code",
   "execution_count": null,
   "metadata": {},
   "outputs": [],
   "source": [
    "# defining the product\n",
    "\n",
    "product_22 = [\n",
    "    {\n",
    "      \"item_ids\": image_ids_22,\n",
    "      \"item_type\": 'PSScene' ,\n",
    "      \"product_bundle\": 'analytic_udm2'\n",
    "    }\n",
    "]\n",
    "\n",
    "\n",
    "request_21 = {  \n",
    "    \"name\": \"Alaska_2022\",\n",
    "    \"products\": product_22,\n",
    "    \"tools\": [\n",
    "        {\"clip\": \n",
    "             {\"aoi\": geometry}\n",
    "        },\n",
    "        {\"composite\": {}\n",
    "        }\n",
    "    ],\n",
    "    \"delivery\": \n",
    "        {\"archive_type\": \"zip\",\n",
    "         \"archive_filename\": \"{{name}}_{{order_id}}.zip\"}\n",
    "}\n",
    "request_22"
   ]
  },
  {
   "cell_type": "code",
   "execution_count": null,
   "metadata": {},
   "outputs": [],
   "source": [
    "def place_order(request_22, auth):\n",
    "    response = requests.post(orders_url, data=json.dumps(request_22), auth=auth, headers=headers)\n",
    "    print(response.json())\n",
    "    order_id = response.json()['id']\n",
    "    print(order_id)\n",
    "    order_url = orders_url + '/' + order_id\n",
    "    return order_url"
   ]
  },
  {
   "cell_type": "code",
   "execution_count": null,
   "metadata": {},
   "outputs": [],
   "source": [
    "# placing the order\n",
    "\n",
    "# DO NOT RUN THIS CELL\n",
    "\n",
    "order_url = place_order(request_22, auth)"
   ]
  }
 ],
 "metadata": {
  "kernelspec": {
   "display_name": "ArcGISPro",
   "language": "Python",
   "name": "python3"
  },
  "language_info": {
   "file_extension": ".py",
   "name": "python",
   "version": "3"
  }
 },
 "nbformat": 4,
 "nbformat_minor": 2
}
