{
 "cells": [
  {
   "cell_type": "markdown",
   "metadata": {},
   "source": [
    "# Finding Change in Vanjokull Glacier, Iceland"
   ]
  },
  {
   "cell_type": "markdown",
   "metadata": {},
   "source": [
    "## Import Packages"
   ]
  },
  {
   "cell_type": "code",
   "execution_count": 1,
   "metadata": {},
   "outputs": [],
   "source": [
    "import arcpy"
   ]
  },
  {
   "cell_type": "code",
   "execution_count": null,
   "metadata": {},
   "outputs": [],
   "source": [
    "# pip install google_drive_downloader"
   ]
  },
  {
   "cell_type": "code",
   "execution_count": null,
   "metadata": {},
   "outputs": [],
   "source": [
    "# from google_drive_downloader import GoogleDriveDownloader as gdd\n",
    "\n",
    "# Ref https://github.com/ndrplz/google-drive-downloader"
   ]
  },
  {
   "cell_type": "markdown",
   "metadata": {},
   "source": [
    "## Import Data"
   ]
  },
  {
   "cell_type": "code",
   "execution_count": null,
   "metadata": {},
   "outputs": [],
   "source": [
    "# I tried using a Google Drive Downloader package to pull the data directly from the Drive\n",
    "\n",
    "# I could not get this to work with ArcGIS Pro, but it did work with Jupyter\n",
    "\n",
    "# Since it didn't work in Pro I just used the Planet Plug-in to import the data"
   ]
  },
  {
   "cell_type": "markdown",
   "metadata": {},
   "source": [
    "## Reclassify Rasters to 4 Classes for Visual: Not Ice, Two Ice Layers, Snow"
   ]
  },
  {
   "cell_type": "code",
   "execution_count": null,
   "metadata": {},
   "outputs": [],
   "source": [
    "# 4 Natural Breaks\n",
    "\n",
    "# 2017\n",
    "\n",
    "arcpy.ddd.Reclassify(r\"Iceland_2017\\composite.tif\", \"Value\", \"3402 8425 1;8425 13675 2;13675 19526 3;19526 27900 4\", r\"C:\\Users\\tande\\Documents\\ArcGIS\\Projects\\GIS5571_Final\\GIS5571_Final.gdb\\Reclass_Iceland_2017\", \"NODATA\")\n",
    "\n",
    "#2018\n",
    "\n",
    "arcpy.ddd.Reclassify(r\"Iceland_2018\\composite.tif\", \"Value\", \"3985 8562 1;8562 13283 2;13283 18633 3;18633 34481 4\", r\"C:\\Users\\tande\\Documents\\ArcGIS\\Projects\\GIS5571_Final\\GIS5571_Final.gdb\\Reclass_Iceland_2018\", \"NODATA\")\n",
    "\n",
    "#2019\n",
    "\n",
    "arcpy.ddd.Reclassify(r\"Iceland_2019\\composite.tif\", \"Value\", \"2695 6623 1;6623 9598 2;9598 13268 3;13268 28432 4\", r\"C:\\Users\\tande\\Documents\\ArcGIS\\Projects\\GIS5571_Final\\GIS5571_Final.gdb\\Reclass_Iceland_2019\", \"NODATA\")\n",
    "\n",
    "# 2020\n",
    "\n",
    "arcpy.ddd.Reclassify(r\"Iceland_2020\\composite.tif\", \"Value\", \"1996 7553 1;7553 11895 2;11895 17946 3;17946 27018 4\", r\"C:\\Users\\tande\\Documents\\ArcGIS\\Projects\\GIS5571_Final\\GIS5571_Final.gdb\\Reclass_Iceland_2020\", \"NODATA\")\n",
    "\n",
    "# 2021\n",
    "\n",
    "arcpy.ddd.Reclassify(r\"Iceland_2021\\composite.tif\", \"Value\", \"2863 6243 1;6243 9401 2;9401 13372 3;13372 27606 4\", r\"C:\\Users\\tande\\Documents\\ArcGIS\\Projects\\GIS5571_Final\\GIS5571_Final.gdb\\Reclass_Iceland_2021\", \"NODATA\")\n",
    "\n",
    "# 2022\n",
    "\n",
    "arcpy.ddd.Reclassify(r\"Iceland_2022\\composite.tif\", \"Value\", \"832 8358 1;8358 13423 2;13423 20680 3;20680 33928 4\", r\"C:\\Users\\tande\\Documents\\ArcGIS\\Projects\\GIS5571_Final\\GIS5571_Final.gdb\\Reclass_Iceland_2022\", \"NODATA\")"
   ]
  },
  {
   "cell_type": "markdown",
   "metadata": {},
   "source": [
    "## Reclassify to 2 Classes: Ice (including snow), Not Ice"
   ]
  },
  {
   "cell_type": "code",
   "execution_count": null,
   "metadata": {},
   "outputs": [],
   "source": [
    "# 2017\n",
    "\n",
    "arcpy.ddd.Reclassify(\"Reclass_Iceland_2017\", \"Value\", \"1 1;2 4 2\", r\"C:\\Users\\tande\\Documents\\ArcGIS\\Projects\\GIS5571_Final\\GIS5571_Final.gdb\\Iceland_17_Reclass\", \"NODATA\")\n",
    "\n",
    "# 2018\n",
    "\n",
    "arcpy.ddd.Reclassify(\"Reclass_Iceland_2018\", \"Value\", \"1 1;2 4 2\", r\"C:\\Users\\tande\\Documents\\ArcGIS\\Projects\\GIS5571_Final\\GIS5571_Final.gdb\\Iceland_18_Reclass_18\", \"NODATA\")\n",
    "\n",
    "# 2019\n",
    "\n",
    "arcpy.ddd.Reclassify(\"Reclass_Iceland_2019\", \"Value\", \"1 1;2 4 2\", r\"C:\\Users\\tande\\Documents\\ArcGIS\\Projects\\GIS5571_Final\\GIS5571_Final.gdb\\Iceland_19_Reclass\", \"NODATA\")\n",
    "\n",
    "# 2020\n",
    "\n",
    "arcpy.ddd.Reclassify(\"Reclass_Iceland_2020\", \"Value\", \"1 1;2 4 2\", r\"C:\\Users\\tande\\Documents\\ArcGIS\\Projects\\GIS5571_Final\\GIS5571_Final.gdb\\Iceland_20_Reclass\", \"NODATA\")\n",
    "\n",
    "#2021\n",
    "\n",
    "arcpy.ddd.Reclassify(\"Reclass_Iceland_2021\", \"Value\", \"1 1;2 4 2\", r\"C:\\Users\\tande\\Documents\\ArcGIS\\Projects\\GIS5571_Final\\GIS5571_Final.gdb\\Iceland_21_Reclass\", \"NODATA\")\n",
    "\n",
    "#2022\n",
    "\n",
    "arcpy.ddd.Reclassify(\"Reclass_Iceland_2022\", \"Value\", \"1 1;2 4 2\", r\"C:\\Users\\tande\\Documents\\ArcGIS\\Projects\\GIS5571_Final\\GIS5571_Final.gdb\\Iceland_22_Reclass\", \"NODATA\")"
   ]
  },
  {
   "cell_type": "markdown",
   "metadata": {},
   "source": [
    "## Estimating Change Over Time With Calculated Fields"
   ]
  },
  {
   "cell_type": "markdown",
   "metadata": {},
   "source": [
    "### Calculate Percent Cell Type by Ice and Not Ice"
   ]
  },
  {
   "cell_type": "code",
   "execution_count": null,
   "metadata": {},
   "outputs": [],
   "source": [
    "# Should have used search/update cursor\n",
    "\n",
    "# 2017\n",
    "\n",
    "arcpy.management.CalculateField(\"Iceland_17_Reclass\", \"TotalCount_17\", \"18967739 +  28093161\", \"PYTHON3\", '', \"DOUBLE\", \"NO_ENFORCE_DOMAINS\")\n",
    "arcpy.management.CalculateField(\"Iceland_17_Reclass\", \"Percent_17\", \"(!Count! / !TotalCount_17!) * 100\", \"PYTHON3\", '', \"DOUBLE\", \"NO_ENFORCE_DOMAINS\")\n",
    "\n",
    "# 2018\n",
    "\n",
    "arcpy.management.CalculateField(\"Iceland_18_Reclass\", \"TotalCount_18\", \"20307269 +  26753636\", \"PYTHON3\", '', \"DOUBLE\", \"NO_ENFORCE_DOMAINS\")\n",
    "arcpy.management.CalculateField(\"Iceland_18_Reclass\", \"Percent_18\", \"(!Count! / !TotalCount_18!) * 100\", \"PYTHON3\", '', \"DOUBLE\", \"NO_ENFORCE_DOMAINS\")\n",
    "\n",
    "# 2019\n",
    "arcpy.management.CalculateField(\"Iceland_19_Reclass\", \"TotalCount_19\", \"20357410 +  23203231\", \"PYTHON3\", '', \"DOUBLE\", \"NO_ENFORCE_DOMAINS\")\n",
    "arcpy.management.CalculateField(\"Iceland_19_Reclass\", \"Percent_19\", \"(!Count! / !TotalCount_19!) * 100\", \"PYTHON3\", '', \"DOUBLE\", \"NO_ENFORCE_DOMAINS\")\n",
    "\n",
    "# 2020\n",
    "\n",
    "arcpy.management.CalculateField(\"Iceland_20_Reclass\", \"TotalCount_20\", \"21167967 +  25892933\", \"PYTHON3\", '', \"DOUBLE\", \"NO_ENFORCE_DOMAINS\")\n",
    "arcpy.management.CalculateField(\"Iceland_20_Reclass\", \"Percent_20\", \"(!Count! / !TotalCount_20!) * 100\", \"PYTHON3\", '', \"DOUBLE\", \"NO_ENFORCE_DOMAINS\")\n",
    "\n",
    "# 2021\n",
    "\n",
    "arcpy.management.CalculateField(\"Iceland_21_Reclass\", \"TotalCount_21\", \"22257838 +  24803062\", \"PYTHON3\", '', \"DOUBLE\", \"NO_ENFORCE_DOMAINS\")\n",
    "arcpy.management.CalculateField(\"Iceland_21_Reclass\", \"Percent_21\", \"(!Count! / !TotalCount_21!) * 100\", \"PYTHON3\", '', \"DOUBLE\", \"NO_ENFORCE_DOMAINS\")\n",
    "\n",
    "# 2022\n",
    "\n",
    "arcpy.management.CalculateField(\"Iceland_22_Reclass\", \"TotalCount_22\", \"22825276 +  24235624\", \"PYTHON3\", '', \"DOUBLE\", \"NO_ENFORCE_DOMAINS\")\n",
    "arcpy.management.CalculateField(\"Iceland_22_Reclass\", \"Percent_22\", \"(!Count! / !TotalCount_22!) * 100\", \"PYTHON3\", '', \"DOUBLE\", \"NO_ENFORCE_DOMAINS\")"
   ]
  },
  {
   "cell_type": "markdown",
   "metadata": {},
   "source": [
    "### Join All Tables To a Single Table"
   ]
  },
  {
   "cell_type": "code",
   "execution_count": null,
   "metadata": {},
   "outputs": [],
   "source": [
    "arcpy.management.AddJoin(\"Iceland_17_Reclass\", \"OBJECTID\", \"Iceland_18_Reclass\", \"OBJECTID\", \"KEEP_ALL\", \"NO_INDEX_JOIN_FIELDS\")\n",
    "arcpy.management.AddJoin(\"Iceland_17_Reclass\", \"VAT_Iceland_2_Reclass.OBJECTID\", \"Iceland_19_Reclass\", \"OBJECTID\", \"KEEP_ALL\", \"NO_INDEX_JOIN_FIELDS\")\n",
    "arcpy.management.AddJoin(\"Iceland_17_Reclass\", \"VAT_Iceland_2_Reclass.OBJECTID\", \"Iceland_20_Reclass\", \"OBJECTID\", \"KEEP_ALL\", \"NO_INDEX_JOIN_FIELDS\")\n",
    "arcpy.management.AddJoin(\"Iceland_17_Reclass\", \"VAT_Iceland_2_Reclass.OBJECTID\", \"Iceland_21_Reclass\", \"OBJECTID\", \"KEEP_ALL\", \"NO_INDEX_JOIN_FIELDS\")\n",
    "arcpy.management.AddJoin(\"Iceland_17_Reclass\", \"VAT_Iceland_2_Reclass.OBJECTID\", \"Iceland_22_Reclass\", \"OBJECTID\", \"KEEP_ALL\", \"NO_INDEX_JOIN_FIELDS\")"
   ]
  },
  {
   "cell_type": "markdown",
   "metadata": {},
   "source": [
    "### Convert Joined Table to New Table"
   ]
  },
  {
   "cell_type": "code",
   "execution_count": null,
   "metadata": {},
   "outputs": [],
   "source": [
    "arcpy.conversion.TableToTable(\"Iceland_17_Reclass\", r\"C:\\Users\\tande\\Documents\\ArcGIS\\Projects\\GIS5571_Final\\GIS5571_Final.gdb\", \"Iceland_Join_Reclass\", '', 'Value \"Value\" false true false 4 Long 0 0,First,#,Iceland_17_Reclass,VAT_Iceland_2_Reclass.Value,-1,-1;Count \"Count\" false true false 8 Double 0 0,First,#,Iceland_17_Reclass,VAT_Iceland_2_Reclass.Count,-1,-1;TotalCount_17 \"TotalCount_17\" true true false 8 Double 0 0,First,#,Iceland_17_Reclass,VAT_Iceland_2_Reclass.TotalCount_17,-1,-1;Percent_17 \"Percent_17\" true true false 8 Double 0 0,First,#,Iceland_17_Reclass,VAT_Iceland_2_Reclass.Percent_17,-1,-1;ValueTitle \"ValueTitle\" true true false 255 Text 0 0,First,#,Iceland_17_Reclass,VAT_Iceland_2_Reclass.ValueTitle,0,255;OBJECTID \"OBJECTID\" false true false 4 Long 0 9,First,#,Iceland_17_Reclass,VAT_Iceland_2_Reclass_18.OBJECTID,-1,-1;Value \"Value\" false true false 4 Long 0 0,First,#,Iceland_17_Reclass,VAT_Iceland_2_Reclass_18.Value,-1,-1;Count \"Count\" false true false 8 Double 0 0,First,#,Iceland_17_Reclass,VAT_Iceland_2_Reclass_18.Count,-1,-1;TotalCount_18 \"TotalCount_18\" true true false 8 Double 0 0,First,#,Iceland_17_Reclass,VAT_Iceland_2_Reclass_18.TotalCount_18,-1,-1;Percent_18 \"Percent_18\" true true false 8 Double 0 0,First,#,Iceland_17_Reclass,VAT_Iceland_2_Reclass_18.Percent_18,-1,-1;ValueTitle \"ValueTitle\" true true false 255 Text 0 0,First,#,Iceland_17_Reclass,VAT_Iceland_2_Reclass_18.ValueTitle,0,255;OBJECTID \"OBJECTID\" false true false 4 Long 0 9,First,#,Iceland_17_Reclass,VAT_Iceland_19_Reclass.OBJECTID,-1,-1;Value \"Value\" false true false 4 Long 0 0,First,#,Iceland_17_Reclass,VAT_Iceland_19_Reclass.Value,-1,-1;Count \"Count\" false true false 8 Double 0 0,First,#,Iceland_17_Reclass,VAT_Iceland_19_Reclass.Count,-1,-1;ValueTitle \"ValueTitle\" true true false 255 Text 0 0,First,#,Iceland_17_Reclass,VAT_Iceland_19_Reclass.ValueTitle,0,255;TotalCount_19 \"TotalCount_19\" true true false 8 Double 0 0,First,#,Iceland_17_Reclass,VAT_Iceland_19_Reclass.TotalCount_19,-1,-1;Percent_19 \"Percent_19\" true true false 8 Double 0 0,First,#,Iceland_17_Reclass,VAT_Iceland_19_Reclass.Percent_19,-1,-1;OBJECTID \"OBJECTID\" false true false 4 Long 0 9,First,#,Iceland_17_Reclass,VAT_Iceland_20_Reclass.OBJECTID,-1,-1;Value \"Value\" false true false 4 Long 0 0,First,#,Iceland_17_Reclass,VAT_Iceland_20_Reclass.Value,-1,-1;Count \"Count\" false true false 8 Double 0 0,First,#,Iceland_17_Reclass,VAT_Iceland_20_Reclass.Count,-1,-1;ValueTitle \"ValueTitle\" true true false 255 Text 0 0,First,#,Iceland_17_Reclass,VAT_Iceland_20_Reclass.ValueTitle,0,255;TotalCount_20 \"TotalCount_20\" true true false 8 Double 0 0,First,#,Iceland_17_Reclass,VAT_Iceland_20_Reclass.TotalCount_20,-1,-1;Percent_20 \"Percent_20\" true true false 8 Double 0 0,First,#,Iceland_17_Reclass,VAT_Iceland_20_Reclass.Percent_20,-1,-1;OBJECTID \"OBJECTID\" false true false 4 Long 0 9,First,#,Iceland_17_Reclass,VAT_Iceland_21_Reclass.OBJECTID,-1,-1;Value \"Value\" false true false 4 Long 0 0,First,#,Iceland_17_Reclass,VAT_Iceland_21_Reclass.Value,-1,-1;Count \"Count\" false true false 8 Double 0 0,First,#,Iceland_17_Reclass,VAT_Iceland_21_Reclass.Count,-1,-1;ValueTitle \"ValueTitle\" true true false 255 Text 0 0,First,#,Iceland_17_Reclass,VAT_Iceland_21_Reclass.ValueTitle,0,255;TotalCount_21 \"TotalCount_21\" true true false 8 Double 0 0,First,#,Iceland_17_Reclass,VAT_Iceland_21_Reclass.TotalCount_21,-1,-1;Percent_21 \"Percent_21\" true true false 8 Double 0 0,First,#,Iceland_17_Reclass,VAT_Iceland_21_Reclass.Percent_21,-1,-1;OBJECTID \"OBJECTID\" false true false 4 Long 0 9,First,#,Iceland_17_Reclass,VAT_Iceland_22_Reclass.OBJECTID,-1,-1;Value \"Value\" false true false 4 Long 0 0,First,#,Iceland_17_Reclass,VAT_Iceland_22_Reclass.Value,-1,-1;Count \"Count\" false true false 8 Double 0 0,First,#,Iceland_17_Reclass,VAT_Iceland_22_Reclass.Count,-1,-1;ValueTitle \"ValueTitle\" true true false 255 Text 0 0,First,#,Iceland_17_Reclass,VAT_Iceland_22_Reclass.ValueTitle,0,255;TotalCount_22 \"TotalCount_22\" true true false 8 Double 0 0,First,#,Iceland_17_Reclass,VAT_Iceland_22_Reclass.TotalCount_22,-1,-1;Percent_22 \"Percent_22\" true true false 8 Double 0 0,First,#,Iceland_17_Reclass,VAT_Iceland_22_Reclass.Percent_22,-1,-1', '')"
   ]
  },
  {
   "cell_type": "markdown",
   "metadata": {},
   "source": [
    "### Create Bar Chart for Visual of Change Over Time Using Calculated Fields"
   ]
  },
  {
   "cell_type": "markdown",
   "metadata": {},
   "source": [
    "## Estimating Change Over Time With Compute Change Raster"
   ]
  },
  {
   "cell_type": "markdown",
   "metadata": {},
   "source": [
    "### Compute Change Between Rasters"
   ]
  },
  {
   "cell_type": "code",
   "execution_count": null,
   "metadata": {},
   "outputs": [],
   "source": [
    "# 2017 to 2018\n",
    "\n",
    "out_raster_dataset = arcpy.ia.ComputeChangeRaster(\"Iceland_17_Reclass\", \"Iceland_18_Reclass\", \"CATEGORICAL_DIFFERENCE\", \"1;2\", \"1;2\", \"ALL\", \"AVERAGE\", None, None); out_raster_dataset.save(r\"C:\\Users\\tande\\Documents\\ArcGIS\\Projects\\GIS5571_Final\\Iceland_1718_Rec_ComputeChange.crf\")\n",
    "\n",
    "#2018 to 2019\n",
    "\n",
    "out_raster_dataset = arcpy.ia.ComputeChangeRaster(\"Iceland_18_Reclass\", \"Iceland_19_Reclass\", \"CATEGORICAL_DIFFERENCE\", \"1;2\", \"1;2\", \"ALL\", \"AVERAGE\", None, None); out_raster_dataset.save(r\"C:\\Users\\tande\\Documents\\ArcGIS\\Projects\\GIS5571_Final\\Iceland_1819_Rec_ComputeChange.crf\")\n",
    "\n",
    "# 2019 to 2020\n",
    "\n",
    "out_raster_dataset = arcpy.ia.ComputeChangeRaster(\"Iceland_19_Reclass\", \"Iceland_20_Reclass\", \"CATEGORICAL_DIFFERENCE\", \"1;2\", \"1;2\", \"ALL\", \"AVERAGE\", None, None); out_raster_dataset.save(r\"C:\\Users\\tande\\Documents\\ArcGIS\\Projects\\GIS5571_Final\\Iceland_1920_Rec_ComputeChange.crf\")\n",
    "\n",
    "# 2020 to 2021\n",
    "\n",
    "out_raster_dataset = arcpy.ia.ComputeChangeRaster(\"Iceland_20_Reclass\", \"Iceland_21_Reclass\", \"CATEGORICAL_DIFFERENCE\", \"1;2\", \"1;2\", \"ALL\", \"AVERAGE\", None, None); out_raster_dataset.save(r\"C:\\Users\\tande\\Documents\\ArcGIS\\Projects\\GIS5571_Final\\Iceland_2021_Rec_ComputeChange.crf\")\n",
    "\n",
    "# 2021 to 2022\n",
    "\n",
    "out_raster_dataset = arcpy.ia.ComputeChangeRaster(\"Iceland_21_Reclass\", \"Iceland_22_Reclass\", \"CATEGORICAL_DIFFERENCE\", \"1;2\", \"1;2\", \"ALL\", \"AVERAGE\", None, None); out_raster_dataset.save(r\"C:\\Users\\tande\\Documents\\ArcGIS\\Projects\\GIS5571_Final\\Iceland_2122_Rec_ComputeChange.crf\")\n",
    "\n",
    "# Ref https://pro.arcgis.com/en/pro-app/latest/help/analysis/image-analyst/the-change-detection-wizard.htm"
   ]
  },
  {
   "cell_type": "markdown",
   "metadata": {},
   "source": [
    "### Calculate Percent Cell Type by Ice and Not Ice & Percent Change"
   ]
  },
  {
   "cell_type": "code",
   "execution_count": null,
   "metadata": {},
   "outputs": [],
   "source": [
    "# Should have used search/update cursor\n",
    "\n",
    "# 2017 to 2018\n",
    "\n",
    "arcpy.management.CalculateField(\"Iceland_17_Rec_ComputeChange.crf\", \"Total_1718\", \"2007293 +  3346820 +  16960446 +  24746341\", \"PYTHON3\", '', \"DOUBLE\", \"NO_ENFORCE_DOMAINS\")\n",
    "arcpy.management.CalculateField(\"Iceland_17_Rec_ComputeChange.crf\", \"Perc_1718\", \"(!Count! / !Total_1718!) * 100\", \"PYTHON3\", '', \"DOUBLE\", \"NO_ENFORCE_DOMAINS\")\n",
    "arcpy.management.CalculateField(\"Iceland_17_Rec_ComputeChange.crf\", \"Cha_1718\", \"7.1116786971800003 -  4.2653094182200002\", \"PYTHON3\", '', \"DOUBLE\", \"NO_ENFORCE_DOMAINS\")\n",
    "\n",
    "# 2018 to 2019\n",
    "\n",
    "arcpy.management.CalculateField(\"Iceland_1819_Rec_ComputeChange.crf\", \"Total_1819\", \"2686932 +  2960313 +  17397097 +  20516299\", \"PYTHON3\", '', \"DOUBLE\", \"NO_ENFORCE_DOMAINS\")\n",
    "arcpy.management.CalculateField(\"Iceland_1819_Rec_ComputeChange.crf\", \"Perc_1819\", \"(!Count! / !Total_1819!) * 100\", \"PYTHON3\", '', \"DOUBLE\", \"NO_ENFORCE_DOMAINS\")\n",
    "arcpy.management.CalculateField(\"Iceland_1819_Rec_ComputeChange.crf\", \"Cha_1819\", \"6.7958435230600003 -  6.1682563394800001\", \"PYTHON3\", '', \"DOUBLE\", \"NO_ENFORCE_DOMAINS\")\n",
    "\n",
    "# 2019 to 2020\n",
    "\n",
    "arcpy.management.CalculateField(\"Iceland_1920_Rec_ComputeChange.crf\", \"Total_1920\", \"1984412 +  2496687 +  18372998 +  20706544\", \"PYTHON3\", '', \"DOUBLE\", \"NO_ENFORCE_DOMAINS\")\n",
    "arcpy.management.CalculateField(\"Iceland_1920_Rec_ComputeChange.crf\", \"Perc_1920\", \"(!Count! / !Total_1920!) * 100\", \"PYTHON3\", '', \"DOUBLE\", \"NO_ENFORCE_DOMAINS\")\n",
    "arcpy.management.CalculateField(\"Iceland_1920_Rec_ComputeChange.crf\", \"Cha_1920\", \"5.7315203419499996 -  4.5555160678200002\", \"PYTHON3\", '', \"DOUBLE\", \"NO_ENFORCE_DOMAINS\")\n",
    "\n",
    "# 2020 to 2021\n",
    "\n",
    "arcpy.management.CalculateField(\"Iceland_2021_Rec_ComputeChange.crf\", \"Total_2021\", \"1646153 +  2736024 +  19521814 +  23156909\", \"PYTHON3\", '', \"DOUBLE\", \"NO_ENFORCE_DOMAINS\")\n",
    "arcpy.management.CalculateField(\"Iceland_2021_Rec_ComputeChange.crf\", \"Perc_2021\", \"(!Count! / !Total_2021!) * 100\", \"PYTHON3\", '', \"DOUBLE\", \"NO_ENFORCE_DOMAINS\")\n",
    "arcpy.management.CalculateField(\"Iceland_2021_Rec_ComputeChange.crf\", \"Cha_2021\", \"5.8137944663200001 -  3.4979207792499998\", \"PYTHON3\", '', \"DOUBLE\", \"NO_ENFORCE_DOMAINS\")\n",
    "\n",
    "# 2021 to 2022\n",
    "\n",
    "arcpy.management.CalculateField(\"Iceland_2122_Rec_ComputeChange.crf\", \"Total_2122\", \"2630526 +  3197964 +  19627312 +  21605098\", \"PYTHON3\", '', \"DOUBLE\", \"NO_ENFORCE_DOMAINS\")\n",
    "arcpy.management.CalculateField(\"Iceland_2122_Rec_ComputeChange.crf\", \"Perc_2122\", \"(!Count! / !Total_2122!) * 100\", \"PYTHON3\", '', \"DOUBLE\", \"NO_ENFORCE_DOMAINS\")\n",
    "arcpy.management.CalculateField(\"Iceland_2122_Rec_ComputeChange.crf\", \"Cha_2122\", \"6.7953736541399996 -  5.5896211079700002\", \"PYTHON3\", '', \"DOUBLE\", \"NO_ENFORCE_DOMAINS\")\n",
    "\n",
    "# Ref https://pro.arcgis.com/en/pro-app/latest/help/analysis/image-analyst/pixel-value-change-detection.htm"
   ]
  },
  {
   "cell_type": "markdown",
   "metadata": {},
   "source": [
    "### Convert .crf File to Table"
   ]
  },
  {
   "cell_type": "code",
   "execution_count": null,
   "metadata": {},
   "outputs": [],
   "source": [
    "arcpy.conversion.TableToTable(\"Iceland_1718_Rec_ComputeChange.crf\", r\"C:\\Users\\tande\\Documents\\ArcGIS\\Projects\\GIS5571_Final\\GIS5571_Final.gdb\", \"Iceland_1718_Rec_ComputeChange\", '', 'Value \"Value\" false true false 10 Long 0 10,First,#,Iceland_1718_Rec_ComputeChange.crf,Value,-1,-1;Classvalue \"Classvalue\" true true false 10 Long 0 10,First,#,Iceland_1718_Rec_ComputeChange.crf,Classvalue,-1,-1;Class_name \"Class_name\" true true false 254 Text 0 0,First,#,Iceland_1718_Rec_ComputeChange.crf,Class_name,0,254;Class_From \"Class_From\" true true false 254 Text 0 0,First,#,Iceland_1718_Rec_ComputeChange.crf,Class_From,0,254;Class_To \"Class_To\" true true false 254 Text 0 0,First,#,Iceland_1718_Rec_ComputeChange.crf,Class_To,0,254;Red \"Red\" true true false 10 Long 0 10,First,#,Iceland_1718_Rec_ComputeChange.crf,Red,-1,-1;Green \"Green\" true true false 10 Long 0 10,First,#,Iceland_1718_Rec_ComputeChange.crf,Green,-1,-1;Blue \"Blue\" true true false 10 Long 0 10,First,#,Iceland_1718_Rec_ComputeChange.crf,Blue,-1,-1;Alpha \"Alpha\" true true false 10 Long 0 10,First,#,Iceland_1718_Rec_ComputeChange.crf,Alpha,-1,-1;Count \"Count\" false true false 19 Double 0 0,First,#,Iceland_1718_Rec_ComputeChange.crf,Count,-1,-1;Area \"Area\" true true false 19 Double 0 0,First,#,Iceland_1718_Rec_ComputeChange.crf,Area,-1,-1;TotalCount \"TotalCount\" true true false 19 Double 0 0,First,#,Iceland_1718_Rec_ComputeChange.crf,TotalCount,-1,-1;Total_17_1 \"Total_17_1\" true true false 19 Double 0 0,First,#,Iceland_1718_Rec_ComputeChange.crf,Total_17_1,-1,-1;Total_1718 \"Total_1718\" true true false 19 Double 0 0,First,#,Iceland_1718_Rec_ComputeChange.crf,Total_1718,-1,-1;Perc_1718 \"Perc_1718\" true true false 19 Double 0 0,First,#,Iceland_1718_Rec_ComputeChange.crf,Perc_1718,-1,-1;Perc_Chang \"Perc_Chang\" true true false 19 Double 0 0,First,#,Iceland_1718_Rec_ComputeChange.crf,Perc_Chang,-1,-1;Cha_1718 \"Cha_1718\" true true false 19 Double 0 0,First,#,Iceland_1718_Rec_ComputeChange.crf,Cha_1718,-1,-1', '')\n",
    "arcpy.conversion.TableToTable(\"Iceland_1819_Rec_ComputeChange.crf\", r\"C:\\Users\\tande\\Documents\\ArcGIS\\Projects\\GIS5571_Final\\GIS5571_Final.gdb\", \"Iceland_1819_Rec_ComputeChange\", '', 'Value \"Value\" false true false 10 Long 0 10,First,#,Iceland_1819_Rec_ComputeChange.crf,Value,-1,-1;Classvalue \"Classvalue\" true true false 10 Long 0 10,First,#,Iceland_1819_Rec_ComputeChange.crf,Classvalue,-1,-1;Class_name \"Class_name\" true true false 254 Text 0 0,First,#,Iceland_1819_Rec_ComputeChange.crf,Class_name,0,254;Class_From \"Class_From\" true true false 254 Text 0 0,First,#,Iceland_1819_Rec_ComputeChange.crf,Class_From,0,254;Class_To \"Class_To\" true true false 254 Text 0 0,First,#,Iceland_1819_Rec_ComputeChange.crf,Class_To,0,254;Red \"Red\" true true false 10 Long 0 10,First,#,Iceland_1819_Rec_ComputeChange.crf,Red,-1,-1;Green \"Green\" true true false 10 Long 0 10,First,#,Iceland_1819_Rec_ComputeChange.crf,Green,-1,-1;Blue \"Blue\" true true false 10 Long 0 10,First,#,Iceland_1819_Rec_ComputeChange.crf,Blue,-1,-1;Alpha \"Alpha\" true true false 10 Long 0 10,First,#,Iceland_1819_Rec_ComputeChange.crf,Alpha,-1,-1;Count \"Count\" false true false 19 Double 0 0,First,#,Iceland_1819_Rec_ComputeChange.crf,Count,-1,-1;Area \"Area\" true true false 19 Double 0 0,First,#,Iceland_1819_Rec_ComputeChange.crf,Area,-1,-1;Total_1819 \"Total_1819\" true true false 19 Double 0 0,First,#,Iceland_1819_Rec_ComputeChange.crf,Total_1819,-1,-1;Perc_1819 \"Perc_1819\" true true false 19 Double 0 0,First,#,Iceland_1819_Rec_ComputeChange.crf,Perc_1819,-1,-1;Total \"Total\" true true false 19 Double 0 0,First,#,Iceland_1819_Rec_ComputeChange.crf,Total,-1,-1;Cha_1819 \"Cha_1819\" true true false 19 Double 0 0,First,#,Iceland_1819_Rec_ComputeChange.crf,Cha_1819,-1,-1', '')\n",
    "arcpy.conversion.TableToTable(\"Iceland_1920_Rec_ComputeChange.crf\", r\"C:\\Users\\tande\\Documents\\ArcGIS\\Projects\\GIS5571_Final\\GIS5571_Final.gdb\", \"Iceland_1920_Rec_ComputeChange\", '', 'Value \"Value\" false true false 10 Long 0 10,First,#,Iceland_1819_Rec_ComputeChange.crf,Value,-1,-1;Classvalue \"Classvalue\" true true false 10 Long 0 10,First,#,Iceland_1819_Rec_ComputeChange.crf,Classvalue,-1,-1;Class_name \"Class_name\" true true false 254 Text 0 0,First,#,Iceland_1819_Rec_ComputeChange.crf,Class_name,0,254;Class_From \"Class_From\" true true false 254 Text 0 0,First,#,Iceland_1819_Rec_ComputeChange.crf,Class_From,0,254;Class_To \"Class_To\" true true false 254 Text 0 0,First,#,Iceland_1819_Rec_ComputeChange.crf,Class_To,0,254;Red \"Red\" true true false 10 Long 0 10,First,#,Iceland_1819_Rec_ComputeChange.crf,Red,-1,-1;Green \"Green\" true true false 10 Long 0 10,First,#,Iceland_1819_Rec_ComputeChange.crf,Green,-1,-1;Blue \"Blue\" true true false 10 Long 0 10,First,#,Iceland_1819_Rec_ComputeChange.crf,Blue,-1,-1;Alpha \"Alpha\" true true false 10 Long 0 10,First,#,Iceland_1819_Rec_ComputeChange.crf,Alpha,-1,-1;Count \"Count\" false true false 19 Double 0 0,First,#,Iceland_1819_Rec_ComputeChange.crf,Count,-1,-1;Area \"Area\" true true false 19 Double 0 0,First,#,Iceland_1819_Rec_ComputeChange.crf,Area,-1,-1;Total_1819 \"Total_1819\" true true false 19 Double 0 0,First,#,Iceland_1819_Rec_ComputeChange.crf,Total_1819,-1,-1;Perc_1819 \"Perc_1819\" true true false 19 Double 0 0,First,#,Iceland_1819_Rec_ComputeChange.crf,Perc_1819,-1,-1;Total \"Total\" true true false 19 Double 0 0,First,#,Iceland_1819_Rec_ComputeChange.crf,Total,-1,-1;Cha_1819 \"Cha_1819\" true true false 19 Double 0 0,First,#,Iceland_1819_Rec_ComputeChange.crf,Cha_1819,-1,-1', '')\n",
    "arcpy.conversion.TableToTable(\"Iceland_2021_Rec_ComputeChange.crf\", r\"C:\\Users\\tande\\Documents\\ArcGIS\\Projects\\GIS5571_Final\\GIS5571_Final.gdb\", \"Iceland_2021_Rec_ComputeChange\", '', 'Value \"Value\" false true false 10 Long 0 10,First,#,Iceland_1819_Rec_ComputeChange.crf,Value,-1,-1;Classvalue \"Classvalue\" true true false 10 Long 0 10,First,#,Iceland_1819_Rec_ComputeChange.crf,Classvalue,-1,-1;Class_name \"Class_name\" true true false 254 Text 0 0,First,#,Iceland_1819_Rec_ComputeChange.crf,Class_name,0,254;Class_From \"Class_From\" true true false 254 Text 0 0,First,#,Iceland_1819_Rec_ComputeChange.crf,Class_From,0,254;Class_To \"Class_To\" true true false 254 Text 0 0,First,#,Iceland_1819_Rec_ComputeChange.crf,Class_To,0,254;Red \"Red\" true true false 10 Long 0 10,First,#,Iceland_1819_Rec_ComputeChange.crf,Red,-1,-1;Green \"Green\" true true false 10 Long 0 10,First,#,Iceland_1819_Rec_ComputeChange.crf,Green,-1,-1;Blue \"Blue\" true true false 10 Long 0 10,First,#,Iceland_1819_Rec_ComputeChange.crf,Blue,-1,-1;Alpha \"Alpha\" true true false 10 Long 0 10,First,#,Iceland_1819_Rec_ComputeChange.crf,Alpha,-1,-1;Count \"Count\" false true false 19 Double 0 0,First,#,Iceland_1819_Rec_ComputeChange.crf,Count,-1,-1;Area \"Area\" true true false 19 Double 0 0,First,#,Iceland_1819_Rec_ComputeChange.crf,Area,-1,-1;Total_1819 \"Total_1819\" true true false 19 Double 0 0,First,#,Iceland_1819_Rec_ComputeChange.crf,Total_1819,-1,-1;Perc_1819 \"Perc_1819\" true true false 19 Double 0 0,First,#,Iceland_1819_Rec_ComputeChange.crf,Perc_1819,-1,-1;Total \"Total\" true true false 19 Double 0 0,First,#,Iceland_1819_Rec_ComputeChange.crf,Total,-1,-1;Cha_1819 \"Cha_1819\" true true false 19 Double 0 0,First,#,Iceland_1819_Rec_ComputeChange.crf,Cha_1819,-1,-1', '')\n",
    "arcpy.conversion.TableToTable(\"Iceland_2122_Rec_ComputeChange.crf\", r\"C:\\Users\\tande\\Documents\\ArcGIS\\Projects\\GIS5571_Final\\GIS5571_Final.gdb\", \"Iceland_2122_Rec_ComputeChange\", '', 'Value \"Value\" false true false 10 Long 0 10,First,#,Iceland_1819_Rec_ComputeChange.crf,Value,-1,-1;Classvalue \"Classvalue\" true true false 10 Long 0 10,First,#,Iceland_1819_Rec_ComputeChange.crf,Classvalue,-1,-1;Class_name \"Class_name\" true true false 254 Text 0 0,First,#,Iceland_1819_Rec_ComputeChange.crf,Class_name,0,254;Class_From \"Class_From\" true true false 254 Text 0 0,First,#,Iceland_1819_Rec_ComputeChange.crf,Class_From,0,254;Class_To \"Class_To\" true true false 254 Text 0 0,First,#,Iceland_1819_Rec_ComputeChange.crf,Class_To,0,254;Red \"Red\" true true false 10 Long 0 10,First,#,Iceland_1819_Rec_ComputeChange.crf,Red,-1,-1;Green \"Green\" true true false 10 Long 0 10,First,#,Iceland_1819_Rec_ComputeChange.crf,Green,-1,-1;Blue \"Blue\" true true false 10 Long 0 10,First,#,Iceland_1819_Rec_ComputeChange.crf,Blue,-1,-1;Alpha \"Alpha\" true true false 10 Long 0 10,First,#,Iceland_1819_Rec_ComputeChange.crf,Alpha,-1,-1;Count \"Count\" false true false 19 Double 0 0,First,#,Iceland_1819_Rec_ComputeChange.crf,Count,-1,-1;Area \"Area\" true true false 19 Double 0 0,First,#,Iceland_1819_Rec_ComputeChange.crf,Area,-1,-1;Total_1819 \"Total_1819\" true true false 19 Double 0 0,First,#,Iceland_1819_Rec_ComputeChange.crf,Total_1819,-1,-1;Perc_1819 \"Perc_1819\" true true false 19 Double 0 0,First,#,Iceland_1819_Rec_ComputeChange.crf,Perc_1819,-1,-1;Total \"Total\" true true false 19 Double 0 0,First,#,Iceland_1819_Rec_ComputeChange.crf,Total,-1,-1;Cha_1819 \"Cha_1819\" true true false 19 Double 0 0,First,#,Iceland_1819_Rec_ComputeChange.crf,Cha_1819,-1,-1', '')"
   ]
  },
  {
   "cell_type": "markdown",
   "metadata": {},
   "source": [
    "### Join All Tables to a Single Table"
   ]
  },
  {
   "cell_type": "code",
   "execution_count": null,
   "metadata": {},
   "outputs": [],
   "source": [
    "arcpy.management.JoinField(\"Iceland_1718_Rec_ComputeChange\", \"Class_name\", \"Iceland_1819_Rec_ComputeChange\", \"Class_name\", None, \"NOT_USE_FM\", None)\n",
    "arcpy.management.JoinField(\"Iceland_1718_Rec_ComputeChange\", \"Class_name\", \"Iceland_1920_Rec_ComputeChange\", \"Class_name\", None, \"NOT_USE_FM\", None)\n",
    "arcpy.management.JoinField(\"Iceland_1718_Rec_ComputeChange\", \"Class_name\", \"Iceland_2021_Rec_ComputeChange\", \"Class_name\", None, \"NOT_USE_FM\", None)\n",
    "arcpy.management.JoinField(\"Iceland_1718_Rec_ComputeChange\", \"Class_name\", \"Iceland_2122_Rec_ComputeChange\", \"Class_name\", None, \"NOT_USE_FM\", None)"
   ]
  },
  {
   "cell_type": "markdown",
   "metadata": {},
   "source": [
    "### Create Bar Chart for Visual of Change Over Time Using Compute Change"
   ]
  },
  {
   "cell_type": "markdown",
   "metadata": {},
   "source": [
    "### Reclassify Back to Two Classes: Ice, Not Ice"
   ]
  },
  {
   "cell_type": "code",
   "execution_count": null,
   "metadata": {},
   "outputs": [],
   "source": [
    "arcpy.ddd.Reclassify(\"Iceland_1718_Rec_ComputeChange.crf\", \"Class_name\", \"1 1;1->2 2;2->1 1;2 2\", r\"C:\\Users\\tande\\Documents\\ArcGIS\\Projects\\GIS5571_Final\\GIS5571_Final.gdb\\Reclass_Change_1718\", \"DATA\")\n",
    "arcpy.ddd.Reclassify(\"Iceland_1819_Rec_ComputeChange.crf\", \"Class_To\", \"1 1;2 2\", r\"C:\\Users\\tande\\Documents\\ArcGIS\\Projects\\GIS5571_Final\\GIS5571_Final.gdb\\Reclass_Change_1819\", \"NODATA\")\n",
    "arcpy.ddd.Reclassify(\"Iceland_1920_Rec_ComputeChange.crf\", \"Class_To\", \"1 1;2 2\", r\"C:\\Users\\tande\\Documents\\ArcGIS\\Projects\\GIS5571_Final\\GIS5571_Final.gdb\\Reclass_Change_1920\", \"NODATA\")\n",
    "arcpy.ddd.Reclassify(\"Iceland_2021_Rec_ComputeChange.crf\", \"Class_To\", \"1 1;2 2\", r\"C:\\Users\\tande\\Documents\\ArcGIS\\Projects\\GIS5571_Final\\GIS5571_Final.gdb\\Reclass_Change_2021\", \"NODATA\")\n",
    "arcpy.ddd.Reclassify(\"Iceland_2122_Rec_ComputeChange.crf\", \"Class_To\", \"1 1;2 2\", r\"C:\\Users\\tande\\Documents\\ArcGIS\\Projects\\GIS5571_Final\\GIS5571_Final.gdb\\Reclass_Change_2122\", \"NODATA\")"
   ]
  },
  {
   "cell_type": "markdown",
   "metadata": {},
   "source": [
    "### Calculate Percent Cell Type by Ice and Not Ice"
   ]
  },
  {
   "cell_type": "code",
   "execution_count": null,
   "metadata": {},
   "outputs": [],
   "source": [
    "arcpy.management.CalculateField(\"Reclass_Change_1718\", \"Total_1718\", \"20307266 +  26753634\", \"PYTHON3\", '', \"DOUBLE\", \"NO_ENFORCE_DOMAINS\")\n",
    "arcpy.management.CalculateField(\"Reclass_Change_1718\", \"Perc_1718\", \"(!Count! / !Total_1718!) * 100\", \"PYTHON3\", '', \"TEXT\", \"NO_ENFORCE_DOMAINS\")\n",
    "\n",
    "arcpy.management.CalculateField(\"Reclass_Change_1819\", \"Total_1819\", \"20357410 +  23203231\", \"PYTHON3\", '', \"DOUBLE\", \"NO_ENFORCE_DOMAINS\")\n",
    "arcpy.management.CalculateField(\"Reclass_Change_1819\", \"Perc_1819\", \"(!Count! / !Total_1819!) * 100\", \"PYTHON3\", '', \"FLOAT\", \"NO_ENFORCE_DOMAINS\")\n",
    "\n",
    "arcpy.management.CalculateField(\"Reclass_Change_1920\", \"Total_1920\", \"20869685 +  22690956\", \"PYTHON3\", '', \"DOUBLE\", \"NO_ENFORCE_DOMAINS\")\n",
    "arcpy.management.CalculateField(\"Reclass_Change_1920\", \"Perc_1920\", \"(!Count! / !Total_1920!) * 100\", \"PYTHON3\", '', \"FLOAT\", \"NO_ENFORCE_DOMAINS\")\n",
    "\n",
    "arcpy.management.CalculateField(\"Reclass_Change_2021\", \"Total_2021\", \"22257838 +  24803062\", \"PYTHON3\", '', \"DOUBLE\", \"NO_ENFORCE_DOMAINS\")\n",
    "arcpy.management.CalculateField(\"Reclass_Change_2021\", \"Perc_2021\", \"(!Count! / !Total_2021!) * 100\", \"PYTHON3\", '', \"FLOAT\", \"NO_ENFORCE_DOMAINS\")\n",
    "\n",
    "arcpy.management.CalculateField(\"Reclass_Change_2122\", \"Total_2122\", \"22825276 +  24235624\", \"PYTHON3\", '', \"DOUBLE\", \"NO_ENFORCE_DOMAINS\")\n",
    "arcpy.management.CalculateField(\"Reclass_Change_2122\", \"Perc_2122\", \"(!Count! / !Total_2122!) * 100\", \"PYTHON3\", '', \"FLOAT\", \"NO_ENFORCE_DOMAINS\")"
   ]
  },
  {
   "cell_type": "markdown",
   "metadata": {},
   "source": [
    "### Join All Tables to a Single Table"
   ]
  },
  {
   "cell_type": "code",
   "execution_count": null,
   "metadata": {},
   "outputs": [],
   "source": [
    "arcpy.management.JoinField(\"Reclass_Change_1718\", \"Class_To\", \"Reclass_Change_1819\", \"Class_To\", \"Perc_1819\", \"NOT_USE_FM\", None)\n",
    "arcpy.management.JoinField(\"Reclass_Change_1718\", \"Class_To\", \"Reclass_Change_1920\", \"Class_To\", \"Perc_1920\", \"NOT_USE_FM\", None)\n",
    "arcpy.management.JoinField(\"Reclass_Change_1718\", \"Class_To\", \"Reclass_Change_2021\", \"Class_To\", \"Perc_2021\", \"NOT_USE_FM\", None)\n",
    "arcpy.management.JoinField(\"Reclass_Change_1718\", \"Class_To\", \"Reclass_Change_2122\", \"Class_To\", \"Perc_2122\", \"NOT_USE_FM\", None)"
   ]
  },
  {
   "cell_type": "markdown",
   "metadata": {},
   "source": [
    "### Convert Joined Table to New Table"
   ]
  },
  {
   "cell_type": "code",
   "execution_count": null,
   "metadata": {},
   "outputs": [],
   "source": [
    "arcpy.conversion.TableToTable(\"Reclass_Change_1718\", r\"C:\\Users\\tande\\Documents\\ArcGIS\\Projects\\GIS5571_Final\\GIS5571_Final.gdb\", \"ComputeChange_Joined\", '', 'Value \"Value\" false true false 4 Long 0 0,First,#,Reclass_Change_1718,Value,-1,-1;Count \"Count\" false true false 8 Double 0 0,First,#,Reclass_Change_1718,Count,-1,-1;Class_To \"Class_To\" true true false 1 Text 0 0,First,#,Reclass_Change_1718,Class_To,0,1;Total_1718 \"Total_1718\" true true false 8 Double 0 0,First,#,Reclass_Change_1718,Total_1718,-1,-1;Perc_1718 \"Perc_1718\" true true false 8 Double 0 0,First,#,Reclass_Change_1718,Perc_1718,-1,-1;Perc_1819 \"Perc_1819\" true true false 4 Float 0 0,First,#,Reclass_Change_1718,Perc_1819,-1,-1;Perc_1920 \"Perc_1920\" true true false 4 Float 0 0,First,#,Reclass_Change_1718,Perc_1920,-1,-1;Perc_2021 \"Perc_2021\" true true false 4 Float 0 0,First,#,Reclass_Change_1718,Perc_2021,-1,-1;Perc_2122 \"Perc_2122\" true true false 4 Float 0 0,First,#,Reclass_Change_1718,Perc_2122,-1,-1', '')\\"
   ]
  },
  {
   "cell_type": "markdown",
   "metadata": {},
   "source": [
    "### Create Bar Chart for Visual of Change Over Time Using Compute Change"
   ]
  }
 ],
 "metadata": {
  "kernelspec": {
   "display_name": "ArcGISPro",
   "language": "Python",
   "name": "python3"
  },
  "language_info": {
   "file_extension": ".py",
   "name": "python",
   "version": "3"
  }
 },
 "nbformat": 4,
 "nbformat_minor": 2
}
