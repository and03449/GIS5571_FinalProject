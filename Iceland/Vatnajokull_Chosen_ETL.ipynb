{
 "cells": [
  {
   "cell_type": "markdown",
   "metadata": {},
   "source": [
    "# Planet API"
   ]
  },
  {
   "cell_type": "code",
   "execution_count": 67,
   "metadata": {},
   "outputs": [],
   "source": [
    "# DO NOT RUN ALL CELLS\n",
    "\n",
    "# All cells can be run except those with a comment of \"# DO NOT RUN THIS CELL\""
   ]
  },
  {
   "cell_type": "markdown",
   "metadata": {},
   "source": [
    "## Import Packages"
   ]
  },
  {
   "cell_type": "code",
   "execution_count": 68,
   "metadata": {},
   "outputs": [],
   "source": [
    "import json\n",
    "import os\n",
    "import pathlib\n",
    "import time\n",
    "\n",
    "import requests\n",
    "from requests.auth import HTTPBasicAuth"
   ]
  },
  {
   "cell_type": "markdown",
   "metadata": {},
   "source": [
    "## Log In Info"
   ]
  },
  {
   "cell_type": "code",
   "execution_count": 70,
   "metadata": {},
   "outputs": [],
   "source": [
    "# API Key\n",
    "\n",
    "PLANET_API_KEY = 'PLAK54020c47560848fe8a8ed3e49f821c26'"
   ]
  },
  {
   "cell_type": "code",
   "execution_count": 71,
   "metadata": {},
   "outputs": [],
   "source": [
    "# Import base URLs \n",
    "\n",
    "orders_url = 'https://api.planet.com/compute/ops/orders/v2'\n",
    "data_url = 'https://api.planet.com/data/v1'"
   ]
  },
  {
   "cell_type": "code",
   "execution_count": 72,
   "metadata": {},
   "outputs": [
    {
     "name": "stdout",
     "output_type": "stream",
     "text": [
      "{\"_links\":{\"_self\":\"https://api.planet.com/compute/ops/orders/v2\",\"next\":\"https://api.planet.com/compute/ops/orders/v2?page_marker=2022-12-06T00%3A03%3A27.562361Z\"},\"orders\":[{\"_links\":{\"_self\":\"https://api.planet.com/compute/ops/orders/v2/b43d632d-9f19-4b19-a575-3f3273b6cf62\"},\"created_on\":\"2022-12-15T01:15:42.167Z\",\"delivery\":{\"archive_filename\":\"{{name}}_{{order_id}}.zip\",\"archive_type\":\"zip\"},\"error_hints\":[],\"id\":\"b43d632d-9f19-4b19-a575-3f3273b6cf62\",\"last_message\":\"Manifest delivery completed\",\"last_modified\":\"2022-12-15T01:30:25.043Z\",\"name\":\"Alaska_2022\",\"products\":[{\"item_ids\":[\"20220729_204013_93_2446\",\"20220729_203819_69_2483\",\"20220729_203817_20_2483\",\"20220729_201047_69_2455\",\"20220729_201045_42_2455\"],\"item_type\":\"PSScene\",\"product_bundle\":\"analytic_udm2\"}],\"state\":\"success\",\"tools\":[{\"clip\":{\"aoi\":{\"coordinates\":[[[-145.44859629282018,63.29635255038565],[-145.44859629282018,63.25045403118733],[-145.37814550162204,63.25045403118733],[-145.37814550162204,63.29635255038565],[-145.44859629282018,63.29635255038565]]],\"type\":\"Polygon\"}}},{\"composite\":{}}]},{\"_links\":{\"_self\":\"https://api.planet.com/compute/ops/orders/v2/ab0e9526-1307-4da1-8c34-01d622adb793\"},\"created_on\":\"2022-12-15T01:14:19.274Z\",\"delivery\":{\"archive_filename\":\"{{name}}_{{order_id}}.zip\",\"archive_type\":\"zip\"},\"error_hints\":[],\"id\":\"ab0e9526-1307-4da1-8c34-01d622adb793\",\"last_message\":\"Manifest delivery completed\",\"last_modified\":\"2022-12-15T01:25:58.215Z\",\"name\":\"Alaska_2021\",\"products\":[{\"item_ids\":[\"20210802_211006_79_2405\",\"20210802_211004_49_2405\"],\"item_type\":\"PSScene\",\"product_bundle\":\"analytic_udm2\"}],\"state\":\"success\",\"tools\":[{\"clip\":{\"aoi\":{\"coordinates\":[[[-145.44859629282018,63.29635255038565],[-145.44859629282018,63.25045403118733],[-145.37814550162204,63.25045403118733],[-145.37814550162204,63.29635255038565],[-145.44859629282018,63.29635255038565]]],\"type\":\"Polygon\"}}},{\"composite\":{}}]},{\"_links\":{\"_self\":\"https://api.planet.com/compute/ops/orders/v2/b997c00c-53ee-4d80-ad89-98bb53f4ced5\"},\"created_on\":\"2022-12-15T01:13:40.836Z\",\"delivery\":{\"archive_filename\":\"{{name}}_{{order_id}}.zip\",\"archive_type\":\"zip\"},\"error_hints\":[],\"id\":\"b997c00c-53ee-4d80-ad89-98bb53f4ced5\",\"last_message\":\"Manifest delivery completed\",\"last_modified\":\"2022-12-15T01:24:28.115Z\",\"name\":\"Alaska_2020\",\"products\":[{\"item_ids\":[\"20200817_204636_103c\",\"20200817_193318_93_1063\",\"20200817_193316_87_1063\",\"20200817_202201_23_2277\"],\"item_type\":\"PSScene\",\"product_bundle\":\"analytic_udm2\"}],\"state\":\"success\",\"tools\":[{\"clip\":{\"aoi\":{\"coordinates\":[[[-145.44859629282018,63.29635255038565],[-145.44859629282018,63.25045403118733],[-145.37814550162204,63.25045403118733],[-145.37814550162204,63.29635255038565],[-145.44859629282018,63.29635255038565]]],\"type\":\"Polygon\"}}},{\"composite\":{}}]},{\"_links\":{\"_self\":\"https://api.planet.com/compute/ops/orders/v2/d366aa75-cbcd-406f-af11-c1c470803281\"},\"created_on\":\"2022-12-15T01:11:09.824Z\",\"delivery\":{\"archive_filename\":\"{{name}}_{{order_id}}.zip\",\"archive_type\":\"zip\"},\"error_hints\":[],\"id\":\"d366aa75-cbcd-406f-af11-c1c470803281\",\"last_message\":\"Manifest delivery completed\",\"last_modified\":\"2022-12-15T01:38:41.286Z\",\"name\":\"Alaska_21\",\"products\":[{\"item_ids\":[\"20210802_211006_79_2405\",\"20210802_211004_49_2405\"],\"item_type\":\"PSScene\",\"product_bundle\":\"analytic_udm2\"}],\"state\":\"success\",\"tools\":[{\"clip\":{\"aoi\":{\"coordinates\":[[[-145.44859629282018,63.29635255038565],[-145.44859629282018,63.25045403118733],[-145.37814550162204,63.25045403118733],[-145.37814550162204,63.29635255038565],[-145.44859629282018,63.29635255038565]]],\"type\":\"Polygon\"}}},{\"composite\":{}}]},{\"_links\":{\"_self\":\"https://api.planet.com/compute/ops/orders/v2/3dd39cf6-9fa1-4e57-9843-9f540d92acc4\"},\"created_on\":\"2022-12-15T00:39:46.973Z\",\"delivery\":{\"archive_filename\":\"{{name}}_{{order_id}}.zip\",\"archive_type\":\"zip\"},\"error_hints\":[],\"id\":\"3dd39cf6-9fa1-4e57-9843-9f540d92acc4\",\"last_message\":\"Manifest delivery completed\",\"last_modified\":\"2022-12-15T00:53:22.141Z\",\"name\":\"Alaska_2020\",\"products\":[{\"item_ids\":[\"20200817_204636_103c\",\"20200817_193318_93_1063\",\"20200817_193316_87_1063\",\"20200817_202201_23_2277\"],\"item_type\":\"PSScene\",\"product_bundle\":\"analytic_udm2\"}],\"state\":\"success\",\"tools\":[{\"clip\":{\"aoi\":{\"coordinates\":[[[-145.44859629282018,63.29635255038565],[-145.44859629282018,63.25045403118733],[-145.37814550162204,63.25045403118733],[-145.37814550162204,63.29635255038565],[-145.44859629282018,63.29635255038565]]],\"type\":\"Polygon\"}}},{\"composite\":{}}]},{\"_links\":{\"_self\":\"https://api.planet.com/compute/ops/orders/v2/6a480c9b-6933-4201-837b-baa867d472a1\"},\"created_on\":\"2022-12-14T06:10:58.067Z\",\"delivery\":{\"archive_filename\":\"{{name}}_{{order_id}}.zip\",\"archive_type\":\"zip\"},\"error_hints\":[],\"id\":\"6a480c9b-6933-4201-837b-baa867d472a1\",\"last_message\":\"Manifest delivery completed\",\"last_modified\":\"2022-12-14T06:22:13.167Z\",\"name\":\"Alaska_2019\",\"products\":[{\"item_ids\":[\"20190808_203835_1006\",\"20190808_203834_1006\"],\"item_type\":\"PSScene\",\"product_bundle\":\"analytic_udm2\"}],\"state\":\"success\",\"tools\":[{\"clip\":{\"aoi\":{\"coordinates\":[[[-145.44859629282018,63.29635255038565],[-145.44859629282018,63.25045403118733],[-145.37814550162204,63.25045403118733],[-145.37814550162204,63.29635255038565],[-145.44859629282018,63.29635255038565]]],\"type\":\"Polygon\"}}},{\"composite\":{}}]},{\"_links\":{\"_self\":\"https://api.planet.com/compute/ops/orders/v2/81310fa6-a38b-4e09-bf03-1a2be174e1d0\"},\"created_on\":\"2022-12-14T02:41:43.711Z\",\"delivery\":{\"archive_filename\":\"{{name}}_{{order_id}}.zip\",\"archive_type\":\"zip\"},\"error_hints\":[],\"id\":\"81310fa6-a38b-4e09-bf03-1a2be174e1d0\",\"last_message\":\"Manifest delivery completed\",\"last_modified\":\"2022-12-14T02:51:22.514Z\",\"name\":\"Alaska_2018\",\"products\":[{\"item_ids\":[\"20180731_203403_1033\",\"20180731_203404_1033\"],\"item_type\":\"PSScene\",\"product_bundle\":\"analytic_udm2\"}],\"state\":\"success\",\"tools\":[{\"clip\":{\"aoi\":{\"coordinates\":[[[-145.44859629282018,63.29635255038565],[-145.44859629282018,63.25045403118733],[-145.37814550162204,63.25045403118733],[-145.37814550162204,63.29635255038565],[-145.44859629282018,63.29635255038565]]],\"type\":\"Polygon\"}}},{\"bandmath\":{\"b1\":\"b3\",\"b2\":\"b2\",\"b3\":\"b1\"}},{\"composite\":{}}]},{\"_links\":{\"_self\":\"https://api.planet.com/compute/ops/orders/v2/29f1dc27-c99d-4460-a704-ee49524fd0d2\"},\"created_on\":\"2022-12-14T00:31:47.441Z\",\"delivery\":{\"archive_filename\":\"{{name}}_{{order_id}}.zip\",\"archive_type\":\"zip\"},\"error_hints\":[],\"id\":\"29f1dc27-c99d-4460-a704-ee49524fd0d2\",\"last_message\":\"Manifest delivery completed\",\"last_modified\":\"2022-12-14T00:39:42.358Z\",\"name\":\"Alaska_2017\",\"products\":[{\"item_ids\":[\"20170722_201655_1041\",\"20170722_201654_1041\",\"20170722_201934_1011\",\"20170722_201933_1011\"],\"item_type\":\"PSScene\",\"product_bundle\":\"analytic_udm2\"}],\"state\":\"success\",\"tools\":[{\"clip\":{\"aoi\":{\"coordinates\":[[[-145.44859629282018,63.29635255038565],[-145.44859629282018,63.25045403118733],[-145.37814550162204,63.25045403118733],[-145.37814550162204,63.29635255038565],[-145.44859629282018,63.29635255038565]]],\"type\":\"Polygon\"}}},{\"bandmath\":{\"b1\":\"b3\",\"b2\":\"b2\",\"b3\":\"b1\"}},{\"composite\":{}}]},{\"_links\":{\"_self\":\"https://api.planet.com/compute/ops/orders/v2/f3d42101-0445-4c4e-826e-0d9dddd090c4\"},\"created_on\":\"2022-12-13T22:59:43.958Z\",\"delivery\":{\"archive_filename\":\"{{name}}_{{order_id}}.zip\",\"archive_type\":\"zip\"},\"error_hints\":[],\"id\":\"f3d42101-0445-4c4e-826e-0d9dddd090c4\",\"last_message\":\"Manifest delivery completed\",\"last_modified\":\"2022-12-13T23:05:03.195Z\",\"name\":\"Alaska_2017\",\"products\":[{\"item_ids\":[\"20170816_201742_1035\"],\"item_type\":\"PSScene\",\"product_bundle\":\"analytic_udm2\"}],\"state\":\"success\"},{\"_links\":{\"_self\":\"https://api.planet.com/compute/ops/orders/v2/e6b95d88-6d9b-467c-bbc0-b1c78b054a71\"},\"created_on\":\"2022-12-06T00:10:46.644Z\",\"delivery\":{\"archive_filename\":\"{{name}}_psscene_analytic_sr_udm2.zip\",\"archive_type\":\"zip\",\"single_archive\":true},\"error_hints\":[],\"id\":\"e6b95d88-6d9b-467c-bbc0-b1c78b054a71\",\"last_message\":\"Manifest delivery completed\",\"last_modified\":\"2022-12-06T00:36:36.143Z\",\"name\":\"Nov_14_2022\",\"notifications\":{\"email\":true},\"order_type\":\"partial\",\"products\":[{\"item_ids\":[\"20220410_204452_24_2403\",\"20220410_204449_95_2403\",\"20220410_204447_66_2403\",\"20220410_202923_44_249e\",\"20220410_202928_46_249e\",\"20220410_202925_95_249e\"],\"item_type\":\"PSScene\",\"product_bundle\":\"analytic_sr_udm2\"}],\"state\":\"success\",\"tools\":[{\"clip\":{\"aoi\":{\"coordinates\":[[[-143.634224,60.137913],[-143.154108,60.137913],[-143.154108,60.355052],[-143.634224,60.355052],[-143.634224,60.137913]]],\"type\":\"Polygon\"}}},{\"harmonize\":{\"target_sensor\":\"Sentinel-2\"}}]},{\"_links\":{\"_self\":\"https://api.planet.com/compute/ops/orders/v2/c25133e9-8d05-4f9a-8b81-9281fc06c1f7\"},\"created_on\":\"2022-12-06T00:10:05.916Z\",\"delivery\":{\"archive_filename\":\"{{name}}_psscene_analytic_sr_udm2.zip\",\"archive_type\":\"zip\",\"single_archive\":true},\"error_hints\":[],\"id\":\"c25133e9-8d05-4f9a-8b81-9281fc06c1f7\",\"last_message\":\"Manifest delivery completed\",\"last_modified\":\"2022-12-06T00:39:37.606Z\",\"name\":\"Sept_16_2022\",\"notifications\":{\"email\":true},\"order_type\":\"partial\",\"products\":[{\"item_ids\":[\"20220410_204452_24_2403\",\"20220410_204449_95_2403\",\"20220410_204447_66_2403\",\"20220410_202923_44_249e\",\"20220410_202928_46_249e\",\"20220410_202925_95_249e\"],\"item_type\":\"PSScene\",\"product_bundle\":\"analytic_sr_udm2\"}],\"state\":\"success\",\"tools\":[{\"clip\":{\"aoi\":{\"coordinates\":[[[-143.634224,60.137913],[-143.154108,60.137913],[-143.154108,60.355052],[-143.634224,60.355052],[-143.634224,60.137913]]],\"type\":\"Polygon\"}}},{\"harmonize\":{\"target_sensor\":\"Sentinel-2\"}}]},{\"_links\":{\"_self\":\"https://api.planet.com/compute/ops/orders/v2/e3e24351-5060-46bb-bbe5-fcef669f74a7\"},\"created_on\":\"2022-12-06T00:09:26.092Z\",\"delivery\":{\"archive_filename\":\"{{name}}_psscene_analytic_sr_udm2.zip\",\"archive_type\":\"zip\",\"single_archive\":true},\"error_hints\":[],\"id\":\"e3e24351-5060-46bb-bbe5-fcef669f74a7\",\"last_message\":\"Manifest delivery completed\",\"last_modified\":\"2022-12-06T00:34:18.468Z\",\"name\":\"July_3_2022\",\"notifications\":{\"email\":true},\"order_type\":\"partial\",\"products\":[{\"item_ids\":[\"20220410_204452_24_2403\",\"20220410_204449_95_2403\",\"20220410_204447_66_2403\",\"20220410_202923_44_249e\",\"20220410_202928_46_249e\",\"20220410_202925_95_249e\"],\"item_type\":\"PSScene\",\"product_bundle\":\"analytic_sr_udm2\"}],\"state\":\"success\",\"tools\":[{\"clip\":{\"aoi\":{\"coordinates\":[[[-143.634224,60.137913],[-143.154108,60.137913],[-143.154108,60.355052],[-143.634224,60.355052],[-143.634224,60.137913]]],\"type\":\"Polygon\"}}},{\"harmonize\":{\"target_sensor\":\"Sentinel-2\"}}]},{\"_links\":{\"_self\":\"https://api.planet.com/compute/ops/orders/v2/5997538c-2a63-4b75-acd5-55c072f2bd9c\"},\"created_on\":\"2022-12-06T00:08:51.845Z\",\"delivery\":{\"archive_filename\":\"{{name}}_psscene_analytic_sr_udm2.zip\",\"archive_type\":\"zip\",\"single_archive\":true},\"error_hints\":[],\"id\":\"5997538c-2a63-4b75-acd5-55c072f2bd9c\",\"last_message\":\"Manifest delivery completed\",\"last_modified\":\"2022-12-06T00:33:28.968Z\",\"name\":\"May_28_2022\",\"notifications\":{\"email\":true},\"order_type\":\"partial\",\"products\":[{\"item_ids\":[\"20220410_204452_24_2403\",\"20220410_204449_95_2403\",\"20220410_204447_66_2403\",\"20220410_202923_44_249e\",\"20220410_202928_46_249e\",\"20220410_202925_95_249e\"],\"item_type\":\"PSScene\",\"product_bundle\":\"analytic_sr_udm2\"}],\"state\":\"success\",\"tools\":[{\"clip\":{\"aoi\":{\"coordinates\":[[[-143.634224,60.137913],[-143.154108,60.137913],[-143.154108,60.355052],[-143.634224,60.355052],[-143.634224,60.137913]]],\"type\":\"Polygon\"}}},{\"harmonize\":{\"target_sensor\":\"Sentinel-2\"}}]},{\"_links\":{\"_self\":\"https://api.planet.com/compute/ops/orders/v2/1018bbad-4c1e-4906-b0c9-a90454d49c38\"},\"created_on\":\"2022-12-06T00:08:17.915Z\",\"delivery\":{\"archive_filename\":\"{{name}}_psscene_analytic_sr_udm2.zip\",\"archive_type\":\"zip\",\"single_archive\":true},\"error_hints\":[],\"id\":\"1018bbad-4c1e-4906-b0c9-a90454d49c38\",\"last_message\":\"Manifest delivery completed\",\"last_modified\":\"2022-12-06T00:34:38.127Z\",\"name\":\"Apr_10_2022\",\"notifications\":{\"email\":true},\"order_type\":\"partial\",\"products\":[{\"item_ids\":[\"20220410_204452_24_2403\",\"20220410_204449_95_2403\",\"20220410_204447_66_2403\",\"20220410_202923_44_249e\",\"20220410_202928_46_249e\",\"20220410_202925_95_249e\"],\"item_type\":\"PSScene\",\"product_bundle\":\"analytic_sr_udm2\"}],\"state\":\"success\",\"tools\":[{\"clip\":{\"aoi\":{\"coordinates\":[[[-143.634224,60.137913],[-143.154108,60.137913],[-143.154108,60.355052],[-143.634224,60.355052],[-143.634224,60.137913]]],\"type\":\"Polygon\"}}},{\"harmonize\":{\"target_sensor\":\"Sentinel-2\"}}]},{\"_links\":{\"_self\":\"https://api.planet.com/compute/ops/orders/v2/4f92327d-dce7-49e9-85aa-31d9698f7090\"},\"created_on\":\"2022-12-06T00:07:23.799Z\",\"delivery\":{\"archive_filename\":\"{{name}}_psscene_analytic_sr_udm2.zip\",\"archive_type\":\"zip\",\"single_archive\":true},\"error_hints\":[],\"id\":\"4f92327d-dce7-49e9-85aa-31d9698f7090\",\"last_message\":\"Manifest delivery completed\",\"last_modified\":\"2022-12-06T00:22:51.607Z\",\"name\":\"Nov_8_2021\",\"notifications\":{\"email\":true},\"order_type\":\"partial\",\"products\":[{\"item_ids\":[\"20211108_195119_52_2423\",\"20211108_195117_05_2423\",\"20211108_204449_17_227c\",\"20211108_204446_69_227c\",\"20211108_204444_21_227c\",\"20211108_200049_80_2427\",\"20211108_200047_33_2427\",\"20211108_200044_85_2427\"],\"item_type\":\"PSScene\",\"product_bundle\":\"analytic_sr_udm2\"}],\"state\":\"success\",\"tools\":[{\"clip\":{\"aoi\":{\"coordinates\":[[[-143.634224,60.137913],[-143.154108,60.137913],[-143.154108,60.355052],[-143.634224,60.355052],[-143.634224,60.137913]]],\"type\":\"Polygon\"}}},{\"harmonize\":{\"target_sensor\":\"Sentinel-2\"}}]},{\"_links\":{\"_self\":\"https://api.planet.com/compute/ops/orders/v2/fed32158-857c-4940-9e21-fc54b2e5ff46\"},\"created_on\":\"2022-12-06T00:06:40.782Z\",\"delivery\":{\"archive_filename\":\"{{name}}_psscene_analytic_sr_udm2.zip\",\"archive_type\":\"zip\",\"single_archive\":true},\"error_hints\":[],\"id\":\"fed32158-857c-4940-9e21-fc54b2e5ff46\",\"last_message\":\"Manifest delivery completed\",\"last_modified\":\"2022-12-06T00:31:16.339Z\",\"name\":\"Aug_22_2021\",\"notifications\":{\"email\":true},\"order_type\":\"partial\",\"products\":[{\"item_ids\":[\"20210207_210431_67_1059\",\"20210207_204928_41_227b\",\"20210207_204926_05_227b\",\"20210207_210429_67_1059\",\"20210207_210427_67_1059\"],\"item_type\":\"PSScene\",\"product_bundle\":\"analytic_sr_udm2\"}],\"state\":\"success\",\"tools\":[{\"clip\":{\"aoi\":{\"coordinates\":[[[-143.634224,60.137913],[-143.154108,60.137913],[-143.154108,60.355052],[-143.634224,60.355052],[-143.634224,60.137913]]],\"type\":\"Polygon\"}}},{\"harmonize\":{\"target_sensor\":\"Sentinel-2\"}}]},{\"_links\":{\"_self\":\"https://api.planet.com/compute/ops/orders/v2/c04dd348-4744-4be1-a6af-62e9620fea29\"},\"created_on\":\"2022-12-06T00:06:08.261Z\",\"delivery\":{\"archive_filename\":\"{{name}}_psscene_analytic_sr_udm2.zip\",\"archive_type\":\"zip\",\"single_archive\":true},\"error_hints\":[],\"id\":\"c04dd348-4744-4be1-a6af-62e9620fea29\",\"last_message\":\"Manifest delivery completed\",\"last_modified\":\"2022-12-06T00:28:08.700Z\",\"name\":\"May_24_2021\",\"notifications\":{\"email\":true},\"order_type\":\"partial\",\"products\":[{\"item_ids\":[\"20210207_210431_67_1059\",\"20210207_204928_41_227b\",\"20210207_204926_05_227b\",\"20210207_210429_67_1059\",\"20210207_210427_67_1059\"],\"item_type\":\"PSScene\",\"product_bundle\":\"analytic_sr_udm2\"}],\"state\":\"success\",\"tools\":[{\"clip\":{\"aoi\":{\"coordinates\":[[[-143.634224,60.137913],[-143.154108,60.137913],[-143.154108,60.355052],[-143.634224,60.355052],[-143.634224,60.137913]]],\"type\":\"Polygon\"}}},{\"harmonize\":{\"target_sensor\":\"Sentinel-2\"}}]},{\"_links\":{\"_self\":\"https://api.planet.com/compute/ops/orders/v2/e8527dde-d01e-40bb-8589-bb418b61da7a\"},\"created_on\":\"2022-12-06T00:05:15.363Z\",\"delivery\":{\"archive_filename\":\"{{name}}_psscene_analytic_sr_udm2.zip\",\"archive_type\":\"zip\",\"single_archive\":true},\"error_hints\":[],\"id\":\"e8527dde-d01e-40bb-8589-bb418b61da7a\",\"last_message\":\"Manifest delivery completed\",\"last_modified\":\"2022-12-06T00:32:13.046Z\",\"name\":\"Feb_7_2021\",\"notifications\":{\"email\":true},\"order_type\":\"partial\",\"products\":[{\"item_ids\":[\"20210207_210431_67_1059\",\"20210207_204928_41_227b\",\"20210207_204926_05_227b\",\"20210207_210429_67_1059\",\"20210207_210427_67_1059\"],\"item_type\":\"PSScene\",\"product_bundle\":\"analytic_sr_udm2\"}],\"state\":\"success\",\"tools\":[{\"clip\":{\"aoi\":{\"coordinates\":[[[-143.634224,60.137913],[-143.154108,60.137913],[-143.154108,60.355052],[-143.634224,60.355052],[-143.634224,60.137913]]],\"type\":\"Polygon\"}}},{\"harmonize\":{\"target_sensor\":\"Sentinel-2\"}}]},{\"_links\":{\"_self\":\"https://api.planet.com/compute/ops/orders/v2/0a875c85-3325-4513-8d63-8cbfb0a28aaf\"},\"created_on\":\"2022-12-06T00:04:30.022Z\",\"delivery\":{\"archive_filename\":\"{{name}}_psscene_analytic_sr_udm2.zip\",\"archive_type\":\"zip\",\"single_archive\":true},\"error_hints\":[],\"id\":\"0a875c85-3325-4513-8d63-8cbfb0a28aaf\",\"last_message\":\"Manifest delivery completed\",\"last_modified\":\"2022-12-06T00:21:58.442Z\",\"name\":\"Oct_13_2020\",\"notifications\":{\"email\":true},\"order_type\":\"partial\",\"products\":[{\"item_ids\":[\"20200201_204835_88_1061\",\"20200201_204833_87_1061\",\"20200201_204831_85_1061\",\"20200201_202929_1018\",\"20200201_202930_1018\",\"20200201_202928_1018\",\"20200201_202927_1018\",\"20200201_202926_1018\",\"20200201_201807_0e20\",\"20200201_201805_0e20\",\"20200201_201804_0e20\",\"20200201_201809_0e20\",\"20200201_201806_0e20\"],\"item_type\":\"PSScene\",\"product_bundle\":\"analytic_sr_udm2\"}],\"state\":\"success\",\"tools\":[{\"clip\":{\"aoi\":{\"coordinates\":[[[-143.634224,60.137913],[-143.154108,60.137913],[-143.154108,60.355052],[-143.634224,60.355052],[-143.634224,60.137913]]],\"type\":\"Polygon\"}}},{\"harmonize\":{\"target_sensor\":\"Sentinel-2\"}}]},{\"_links\":{\"_self\":\"https://api.planet.com/compute/ops/orders/v2/69269e05-2fae-4bae-852e-dd8a91601a0b\"},\"created_on\":\"2022-12-06T00:03:27.562Z\",\"delivery\":{\"archive_filename\":\"{{name}}_psscene_analytic_sr_udm2.zip\",\"archive_type\":\"zip\",\"single_archive\":true},\"error_hints\":[],\"id\":\"69269e05-2fae-4bae-852e-dd8a91601a0b\",\"last_message\":\"Manifest delivery completed\",\"last_modified\":\"2022-12-06T00:24:00.755Z\",\"name\":\"July_1_2020\",\"notifications\":{\"email\":true},\"order_type\":\"partial\",\"products\":[{\"item_ids\":[\"20200201_204835_88_1061\",\"20200201_204833_87_1061\",\"20200201_204831_85_1061\",\"20200201_202929_1018\",\"20200201_202930_1018\",\"20200201_202928_1018\",\"20200201_202927_1018\",\"20200201_202926_1018\",\"20200201_201807_0e20\",\"20200201_201805_0e20\",\"20200201_201804_0e20\",\"20200201_201809_0e20\",\"20200201_201806_0e20\"],\"item_type\":\"PSScene\",\"product_bundle\":\"analytic_sr_udm2\"}],\"state\":\"success\",\"tools\":[{\"clip\":{\"aoi\":{\"coordinates\":[[[-143.634224,60.137913],[-143.154108,60.137913],[-143.154108,60.355052],[-143.634224,60.355052],[-143.634224,60.137913]]],\"type\":\"Polygon\"}}},{\"harmonize\":{\"target_sensor\":\"Sentinel-2\"}}]}]}"
     ]
    },
    {
     "name": "stdout",
     "output_type": "stream",
     "text": [
      "\n"
     ]
    },
    {
     "name": "stderr",
     "output_type": "stream",
     "text": [
      "  % Total    % Received % Xferd  Average Speed   Time    Time     Time  Current\n",
      "                                 Dload  Upload   Total   Spent    Left  Speed\n",
      "\n",
      "  0     0    0     0    0     0      0      0 --:--:-- --:--:-- --:--:--     0\n",
      "100 18609    0 18609    0     0   106k      0 --:--:-- --:--:-- --:--:--  112k\n"
     ]
    }
   ],
   "source": [
    "# Double checking authentication\n",
    "\n",
    "# If a pink box or a list of image IDs appear, it is working\n",
    "\n",
    "!curl -L -H \"Authorization: api-key $PLANET_API_KEY\" $orders_url\n",
    "\n",
    "# Ref https://developers.planet.com/docs/apis/data/api-mechanics/"
   ]
  },
  {
   "cell_type": "code",
   "execution_count": 73,
   "metadata": {},
   "outputs": [],
   "source": [
    "# Setting authentication\n",
    "\n",
    "auth = HTTPBasicAuth(PLANET_API_KEY, '')\n",
    "response = requests.get(data_url, auth=auth)"
   ]
  },
  {
   "cell_type": "markdown",
   "metadata": {},
   "source": [
    "## Filter the Image Search"
   ]
  },
  {
   "cell_type": "code",
   "execution_count": 74,
   "metadata": {},
   "outputs": [],
   "source": [
    "# Set the AOI\n",
    "\n",
    "geometry = {\n",
    "    \"type\":\"Polygon\",\n",
    "    \"coordinates\":[\n",
    "                  [\n",
    "            [\n",
    "              -16.134033865145483,\n",
    "              64.06695237423494\n",
    "            ],\n",
    "            [\n",
    "              -16.134033865145483,\n",
    "              64.23815860875357\n",
    "            ],\n",
    "            [\n",
    "              -16.590221302725666,\n",
    "              64.23815860875357\n",
    "            ],\n",
    "            [\n",
    "              -16.590221302725666,\n",
    "              64.06695237423494\n",
    "            ],\n",
    "            [\n",
    "              -16.134033865145483,\n",
    "              64.06695237423494\n",
    "            ]\n",
    "          ]\n",
    "        ]\n",
    "}\n",
    "\n",
    "# Ref https://geojson.io/#map=11.51/63.2765/-145.4083\n",
    "# Ref https://developers.planet.com/docs/planetschool/geojson-and-areas-of-interest-aois/\n",
    "# Ref https://developers.planet.com/docs/apis/data/searches-filtering/"
   ]
  },
  {
   "cell_type": "code",
   "execution_count": 75,
   "metadata": {},
   "outputs": [],
   "source": [
    "# Set the geometry selected in AOI\n",
    "\n",
    "geometry_filter = {\n",
    "  \"type\": \"GeometryFilter\",\n",
    "  \"field_name\": \"geometry\",\n",
    "  \"config\": geometry\n",
    "}"
   ]
  },
  {
   "cell_type": "code",
   "execution_count": 76,
   "metadata": {},
   "outputs": [],
   "source": [
    "# Set the date range\n",
    "\n",
    "date_range_filter_17 = {\n",
    "  \"type\": \"DateRangeFilter\",\n",
    "  \"field_name\": \"acquired\",\n",
    "  \"config\": {\n",
    "    \"gte\":\"2017-08-09T00:00:00Z\",\n",
    "    \"lte\":\"2017-08-09T23:59:00Z\"\n",
    "  }\n",
    "}\n",
    "\n",
    "date_range_filter_18 = {\n",
    "  \"type\": \"DateRangeFilter\",\n",
    "  \"field_name\": \"acquired\",\n",
    "  \"config\": {\n",
    "    \"gte\":\"2018-08-23T00:00:00Z\",\n",
    "    \"lte\":\"2018-08-23T23:59:00Z\"\n",
    "  }\n",
    "}\n",
    "\n",
    "date_range_filter_19 = {\n",
    "  \"type\": \"DateRangeFilter\",\n",
    "  \"field_name\": \"acquired\",\n",
    "  \"config\": {\n",
    "    \"gte\":\"2019-08-10T00:00:00Z\",\n",
    "    \"lte\":\"2019-08-10T23:59:00Z\"\n",
    "  }\n",
    "}\n",
    "\n",
    "date_range_filter_20 = {\n",
    "  \"type\": \"DateRangeFilter\",\n",
    "  \"field_name\": \"acquired\",\n",
    "  \"config\": {\n",
    "    \"gte\":\"2020-08-26T00:00:00Z\",\n",
    "    \"lte\":\"2020-08-26T23:59:00Z\"\n",
    "  }\n",
    "}\n",
    "\n",
    "date_range_filter_21 = {\n",
    "  \"type\": \"DateRangeFilter\",\n",
    "  \"field_name\": \"acquired\",\n",
    "  \"config\": {\n",
    "    \"gte\":\"2021-09-09T00:00:00Z\",\n",
    "    \"lte\":\"2021-09-09T23:59:00Z\"\n",
    "  }\n",
    "}\n",
    "\n",
    "date_range_filter_22 = {\n",
    "  \"type\": \"DateRangeFilter\",\n",
    "  \"field_name\": \"acquired\",\n",
    "  \"config\": {\n",
    "    \"gte\":\"2022-08-16T00:00:00Z\",\n",
    "    \"lte\":\"2022-08-16T23:59:00Z\"\n",
    "  }\n",
    "}"
   ]
  },
  {
   "cell_type": "code",
   "execution_count": 77,
   "metadata": {},
   "outputs": [],
   "source": [
    "# Set cloud coverage range\n",
    "\n",
    "cloud_cover_filter = {\n",
    "  \"type\": \"RangeFilter\",\n",
    "  \"field_name\": \"cloud_cover\",\n",
    "  \"config\": {\n",
    "    \"lte\": 0.15\n",
    "  }\n",
    "}"
   ]
  },
  {
   "cell_type": "code",
   "execution_count": 78,
   "metadata": {},
   "outputs": [],
   "source": [
    "# Combine filters under an 'And' condition to ensure they are all applied\n",
    "\n",
    "combined_filter_17 = {\n",
    "  \"type\": \"AndFilter\",\n",
    "  \"config\": [geometry_filter, date_range_filter_17, cloud_cover_filter]\n",
    "}\n",
    "\n",
    "combined_filter_18 = {\n",
    "  \"type\": \"AndFilter\",\n",
    "  \"config\": [geometry_filter, date_range_filter_18, cloud_cover_filter]\n",
    "}\n",
    "\n",
    "combined_filter_19 = {\n",
    "  \"type\": \"AndFilter\",\n",
    "  \"config\": [geometry_filter, date_range_filter_19, cloud_cover_filter]\n",
    "}\n",
    "\n",
    "combined_filter_20 = {\n",
    "  \"type\": \"AndFilter\",\n",
    "  \"config\": [geometry_filter, date_range_filter_20, cloud_cover_filter]\n",
    "}\n",
    "\n",
    "combined_filter_21 = {\n",
    "  \"type\": \"AndFilter\",\n",
    "  \"config\": [geometry_filter, date_range_filter_21, cloud_cover_filter]\n",
    "}\n",
    "\n",
    "combined_filter_22 = {\n",
    "  \"type\": \"AndFilter\",\n",
    "  \"config\": [geometry_filter, date_range_filter_22, cloud_cover_filter]\n",
    "}\n",
    "\n",
    "# Ref for all filters: https://developers.planet.com/docs/apis/data/searches-filtering/#asset-filters"
   ]
  },
  {
   "cell_type": "markdown",
   "metadata": {},
   "source": [
    "## Search Results by Year"
   ]
  },
  {
   "cell_type": "code",
   "execution_count": 79,
   "metadata": {},
   "outputs": [],
   "source": [
    "# Setting the item_type\n",
    "\n",
    "item_type = \"PSScene\"\n",
    "\n",
    "# Ref https://developers.planet.com/docs/apis/data/items-assets/#item-types"
   ]
  },
  {
   "cell_type": "markdown",
   "metadata": {},
   "source": [
    "### 2017"
   ]
  },
  {
   "cell_type": "code",
   "execution_count": 80,
   "metadata": {},
   "outputs": [
    {
     "name": "stdout",
     "output_type": "stream",
     "text": [
      "['20170809_114937_1008', '20170809_114934_1008', '20170809_114936_1008', '20170809_114935_1008', '20170809_115154_0e19', '20170809_115153_0e19', '20170809_115156_0e19', '20170809_115155_0e19', '20170809_115152_0e19', '20170809_114419_1010', '20170809_114418_1010']\n"
     ]
    }
   ],
   "source": [
    "# setting the search request\n",
    "\n",
    "search_request = {\n",
    "  \"item_types\": [item_type], \n",
    "  \"filter\": combined_filter_17\n",
    "}\n",
    "\n",
    "# starting the search\n",
    "\n",
    "search_result = \\\n",
    "  requests.post(\n",
    "    'https://api.planet.com/data/v1/quick-search',\n",
    "    auth=HTTPBasicAuth(PLANET_API_KEY, ''),\n",
    "    json=search_request)\n",
    "\n",
    "# listing image IDs\n",
    "\n",
    "image_ids_17 = [feature['id'] for feature in search_result.json()['features']]\n",
    "print(image_ids_17)\n",
    "\n",
    "# Ref https://developers.planet.com/docs/apis/data/items-assets/#item-types\n",
    "# Ref https://developers.planet.com/docs/data/psscene/\n",
    "\n",
    "# Grouped scenes will have the same first IDs which is the date '2017_09_14'"
   ]
  },
  {
   "cell_type": "markdown",
   "metadata": {},
   "source": [
    "### 2018"
   ]
  },
  {
   "cell_type": "code",
   "execution_count": 81,
   "metadata": {},
   "outputs": [
    {
     "name": "stdout",
     "output_type": "stream",
     "text": [
      "['20180823_120201_1033', '20180823_120200_1033', '20180823_120159_1033', '20180823_120157_1033', '20180823_120158_1033', '20180823_115948_0f31', '20180823_115950_0f31', '20180823_115949_0f31']\n"
     ]
    }
   ],
   "source": [
    "# setting the search request\n",
    "\n",
    "search_request = {\n",
    "  \"item_types\": [item_type], \n",
    "  \"filter\": combined_filter_18\n",
    "}\n",
    "\n",
    "# starting the search\n",
    "\n",
    "search_result = \\\n",
    "  requests.post(\n",
    "    'https://api.planet.com/data/v1/quick-search',\n",
    "    auth=HTTPBasicAuth(PLANET_API_KEY, ''),\n",
    "    json=search_request)\n",
    "\n",
    "# listing image IDs\n",
    "\n",
    "image_ids_18 = [feature['id'] for feature in search_result.json()['features']]\n",
    "print(image_ids_18)"
   ]
  },
  {
   "cell_type": "markdown",
   "metadata": {},
   "source": [
    "### 2019"
   ]
  },
  {
   "cell_type": "code",
   "execution_count": 82,
   "metadata": {},
   "outputs": [
    {
     "name": "stdout",
     "output_type": "stream",
     "text": [
      "['20190810_094432_1053', '20190810_094431_1053', '20190810_120838_0f34', '20190810_094434_1053', '20190810_094433_1053', '20190810_120837_0f34']\n"
     ]
    }
   ],
   "source": [
    "# setting the search request\n",
    "\n",
    "search_request = {\n",
    "  \"item_types\": [item_type], \n",
    "  \"filter\": combined_filter_19\n",
    "}\n",
    "\n",
    "# starting the search\n",
    "\n",
    "search_result = \\\n",
    "  requests.post(\n",
    "    'https://api.planet.com/data/v1/quick-search',\n",
    "    auth=HTTPBasicAuth(PLANET_API_KEY, ''),\n",
    "    json=search_request)\n",
    "\n",
    "# listing image IDs\n",
    "\n",
    "image_ids_19 = [feature['id'] for feature in search_result.json()['features']]\n",
    "print(image_ids_19)"
   ]
  },
  {
   "cell_type": "markdown",
   "metadata": {},
   "source": [
    "### 2020"
   ]
  },
  {
   "cell_type": "code",
   "execution_count": 83,
   "metadata": {},
   "outputs": [
    {
     "name": "stdout",
     "output_type": "stream",
     "text": [
      "['20200826_083614_0f21', '20200826_083614_1_0f21', '20200826_083613_0f21', '20200826_121316_0f4e', '20200826_121315_0f4e', '20200826_121314_0f4e', '20200826_121313_0f4e', '20200826_121312_0f4e', '20200826_114728_77_2271', '20200826_114730_96_2271', '20200826_114726_57_2271']\n"
     ]
    }
   ],
   "source": [
    "# setting the search request\n",
    "\n",
    "search_request = {\n",
    "  \"item_types\": [item_type], \n",
    "  \"filter\": combined_filter_20\n",
    "}\n",
    "\n",
    "# starting the search\n",
    "\n",
    "search_result = \\\n",
    "  requests.post(\n",
    "    'https://api.planet.com/data/v1/quick-search',\n",
    "    auth=HTTPBasicAuth(PLANET_API_KEY, ''),\n",
    "    json=search_request)\n",
    "\n",
    "# listing image IDs\n",
    "\n",
    "image_ids_20 = [feature['id'] for feature in search_result.json()['features']]\n",
    "print(image_ids_20)"
   ]
  },
  {
   "cell_type": "markdown",
   "metadata": {},
   "source": [
    "### 2021"
   ]
  },
  {
   "cell_type": "code",
   "execution_count": 84,
   "metadata": {},
   "outputs": [
    {
     "name": "stdout",
     "output_type": "stream",
     "text": [
      "['20210909_114556_46_2456', '20210909_130002_71_1061', '20210909_130000_71_1061', '20210909_125958_71_1061', '20210909_114601_06_2456', '20210909_114558_76_2456', '20210909_114527_74_2448', '20210909_114525_44_2448', '20210909_114523_14_2448', '20210909_123242_1105', '20210909_123244_1105']\n"
     ]
    }
   ],
   "source": [
    "# setting the search request\n",
    "\n",
    "search_request = {\n",
    "  \"item_types\": [item_type], \n",
    "  \"filter\": combined_filter_21\n",
    "}\n",
    "\n",
    "# starting the search\n",
    "\n",
    "search_result = \\\n",
    "  requests.post(\n",
    "    'https://api.planet.com/data/v1/quick-search',\n",
    "    auth=HTTPBasicAuth(PLANET_API_KEY, ''),\n",
    "    json=search_request)\n",
    "\n",
    "# listing image IDs\n",
    "\n",
    "image_ids_21 = [feature['id'] for feature in search_result.json()['features']]\n",
    "print(image_ids_21)"
   ]
  },
  {
   "cell_type": "markdown",
   "metadata": {},
   "source": [
    "### 2022"
   ]
  },
  {
   "cell_type": "code",
   "execution_count": 85,
   "metadata": {},
   "outputs": [
    {
     "name": "stdout",
     "output_type": "stream",
     "text": [
      "['20220816_113127_19_2464', '20220816_113124_89_2464', '20220816_121844_47_2426', '20220816_121842_21_2426']\n"
     ]
    }
   ],
   "source": [
    "# setting the search request\n",
    "\n",
    "search_request = {\n",
    "  \"item_types\": [item_type], \n",
    "  \"filter\": combined_filter_22\n",
    "}\n",
    "\n",
    "# starting the search\n",
    "\n",
    "search_result = \\\n",
    "  requests.post(\n",
    "    'https://api.planet.com/data/v1/quick-search',\n",
    "    auth=HTTPBasicAuth(PLANET_API_KEY, ''),\n",
    "    json=search_request)\n",
    "\n",
    "# listing image IDs\n",
    "\n",
    "image_ids_22 = [feature['id'] for feature in search_result.json()['features']]\n",
    "print(image_ids_22)"
   ]
  },
  {
   "cell_type": "markdown",
   "metadata": {},
   "source": [
    "## Preview the Search before Ordering"
   ]
  },
  {
   "cell_type": "code",
   "execution_count": 292,
   "metadata": {},
   "outputs": [],
   "source": [
    "'https://tiles.planet.com/data/v1/item-types/PSScene/items/20170914_114839_0f12/thumb?api_key=**ReplacewithAPIKeyONLY**'\n",
    "\n",
    "thumbnail_base = r'https://tiles.planet.com/data/v1/item-types/PSScene/items/'\n",
    "API_key_URL = r'/thumb?api_key=**ReplacewithAPIKeyFromGoogleDrive**'\n",
    "thumbnail_search_17 = thumbnail_base + image_ids_17 + API_key_URL\n",
    "thumbnail_search_18 = thumbnail_base + image_ids_18 + API_key_URL\n",
    "thumbnail_search_19 = thumbnail_base + image_ids_19 + API_key_URL\n",
    "thumbnail_search_20 = thumbnail_base + image_ids_20 + API_key_URL\n",
    "thumbnail_search_21 = thumbnail_base + image_ids_21 + API_key_URL\n",
    "thumbnail_search_22 = thumbnail_base + image_ids_22 + API_key_URL\n",
    "\n",
    "# If I had more time/experience I would automate this so the IDs from above would\n",
    "# autopopulate into the URL so I could review the thumbnails to choose the best images\n",
    "\n",
    "# This step is not necessary at the moment but worth developing later\n",
    "\n",
    "# Ref https://developers.planet.com/docs/apis/data/item-previews/"
   ]
  },
  {
   "cell_type": "markdown",
   "metadata": {},
   "source": [
    "## Placing the Order"
   ]
  },
  {
   "cell_type": "code",
   "execution_count": 86,
   "metadata": {},
   "outputs": [],
   "source": [
    "# set content type to json\n",
    "\n",
    "headers = {'content-type': 'application/json'}"
   ]
  },
  {
   "cell_type": "markdown",
   "metadata": {},
   "source": [
    "### 2017"
   ]
  },
  {
   "cell_type": "code",
   "execution_count": 87,
   "metadata": {},
   "outputs": [
    {
     "data": {
      "text/plain": [
       "{'name': 'Iceland_2017', 'products': [{'item_ids': ['20170809_114937_1008', '20170809_114934_1008', '20170809_114936_1008', '20170809_114935_1008', '20170809_115154_0e19', '20170809_115153_0e19', '20170809_115156_0e19', '20170809_115155_0e19', '20170809_115152_0e19', '20170809_114419_1010', '20170809_114418_1010'], 'item_type': 'PSScene', 'product_bundle': 'analytic_udm2'}], 'tools': [{'clip': {'aoi': {'type': 'Polygon', 'coordinates': [[[-16.134033865145483, 64.06695237423494], [-16.134033865145483, 64.23815860875357], [-16.590221302725666, 64.23815860875357], [-16.590221302725666, 64.06695237423494], [-16.134033865145483, 64.06695237423494]]]}}}, {'composite': {}}], 'delivery': {'archive_type': 'zip', 'archive_filename': '{{name}}_{{order_id}}.zip'}}"
      ]
     },
     "execution_count": 87,
     "metadata": {},
     "output_type": "execute_result"
    }
   ],
   "source": [
    "# defining the product\n",
    "\n",
    "product_2017 = [\n",
    "    {\n",
    "      \"item_ids\": image_ids_17,\n",
    "      \"item_type\": 'PSScene' ,\n",
    "      \"product_bundle\": 'analytic_udm2' # chosen because of ref below\n",
    "    }\n",
    "]\n",
    "\n",
    "\n",
    "request_2017 = {  \n",
    "    \"name\": \"Iceland_2017\",\n",
    "    \"products\": product_2017,\n",
    "    \"tools\": [\n",
    "        {\"clip\": \n",
    "             {\"aoi\": geometry}\n",
    "        },\n",
    "        {\"composite\": {}\n",
    "        }\n",
    "    ],\n",
    "    \"delivery\": \n",
    "        {\"archive_type\": \"zip\",\n",
    "         \"archive_filename\": \"{{name}}_{{order_id}}.zip\"}\n",
    "}\n",
    "request_2017\n",
    "\n",
    "\n",
    "# Ref https://developers.planet.com/apis/orders/product-bundles-reference/\n",
    "# Ref https://developers.planet.com/apis/orders/delivery/\n",
    "# Ref https://developers.planet.com/apis/orders/tools/#merge"
   ]
  },
  {
   "cell_type": "code",
   "execution_count": 88,
   "metadata": {},
   "outputs": [],
   "source": [
    "def place_order(request_2017, auth):\n",
    "    response = requests.post(orders_url, data=json.dumps(request_2017), auth=auth, headers=headers)\n",
    "    print(response.json())\n",
    "    order_id = response.json()['id']\n",
    "    print(order_id)\n",
    "    order_url = orders_url + '/' + order_id\n",
    "    return order_url\n",
    "\n",
    "# Ref https://github.com/planetlabs/notebooks"
   ]
  },
  {
   "cell_type": "code",
   "execution_count": 89,
   "metadata": {},
   "outputs": [
    {
     "name": "stdout",
     "output_type": "stream",
     "text": [
      "{'_links': {'_self': 'https://api.planet.com/compute/ops/orders/v2/e933d4b4-4df0-4049-91ef-1b9f7e9ed7ff'}, 'created_on': '2022-12-15T01:52:40.577Z', 'delivery': {'archive_filename': '{{name}}_{{order_id}}.zip', 'archive_type': 'zip'}, 'error_hints': [], 'id': 'e933d4b4-4df0-4049-91ef-1b9f7e9ed7ff', 'last_message': 'Preparing order', 'last_modified': '2022-12-15T01:52:40.577Z', 'name': 'Iceland_2017', 'products': [{'item_ids': ['20170809_114937_1008', '20170809_114934_1008', '20170809_114936_1008', '20170809_114935_1008', '20170809_115154_0e19', '20170809_115153_0e19', '20170809_115156_0e19', '20170809_115155_0e19', '20170809_115152_0e19', '20170809_114419_1010', '20170809_114418_1010'], 'item_type': 'PSScene', 'product_bundle': 'analytic_udm2'}], 'state': 'queued', 'tools': [{'clip': {'aoi': {'coordinates': [[[-16.134033865145483, 64.06695237423494], [-16.134033865145483, 64.23815860875357], [-16.590221302725666, 64.23815860875357], [-16.590221302725666, 64.06695237423494], [-16.134033865145483, 64.06695237423494]]], 'type': 'Polygon'}}}, {'composite': {}}]}\n",
      "e933d4b4-4df0-4049-91ef-1b9f7e9ed7ff\n"
     ]
    }
   ],
   "source": [
    "# Placing the order\n",
    "\n",
    "# DO NOT RUN THIS CELL\n",
    "\n",
    "order_url = place_order(request_2017, auth)\n",
    "\n",
    "# I am delivering these files to my Planet account\n",
    "\n",
    "# I attempted to deliver them to a Google Cloud Storage account but unfortunately failed\n",
    "\n",
    "# I will place zip files in my shared Google Drive Account"
   ]
  },
  {
   "cell_type": "markdown",
   "metadata": {},
   "source": [
    "### 2018"
   ]
  },
  {
   "cell_type": "code",
   "execution_count": 90,
   "metadata": {},
   "outputs": [
    {
     "data": {
      "text/plain": [
       "{'name': 'Iceland_2018', 'products': [{'item_ids': ['20180823_120201_1033', '20180823_120200_1033', '20180823_120159_1033', '20180823_120157_1033', '20180823_120158_1033', '20180823_115948_0f31', '20180823_115950_0f31', '20180823_115949_0f31'], 'item_type': 'PSScene', 'product_bundle': 'analytic_udm2'}], 'tools': [{'clip': {'aoi': {'type': 'Polygon', 'coordinates': [[[-16.134033865145483, 64.06695237423494], [-16.134033865145483, 64.23815860875357], [-16.590221302725666, 64.23815860875357], [-16.590221302725666, 64.06695237423494], [-16.134033865145483, 64.06695237423494]]]}}}, {'composite': {}}], 'delivery': {'archive_type': 'zip', 'archive_filename': '{{name}}_{{order_id}}.zip'}}"
      ]
     },
     "execution_count": 90,
     "metadata": {},
     "output_type": "execute_result"
    }
   ],
   "source": [
    "product_2018 = [\n",
    "    {\n",
    "      \"item_ids\": image_ids_18,\n",
    "      \"item_type\": 'PSScene' ,\n",
    "      \"product_bundle\": 'analytic_udm2'\n",
    "    }\n",
    "]\n",
    "\n",
    "request_2018 = {  \n",
    "    \"name\": \"Iceland_2018\",\n",
    "    \"products\": product_2018,\n",
    "    \"tools\": [\n",
    "        {\"clip\": \n",
    "             {\"aoi\": geometry}\n",
    "        },\n",
    "        {\"composite\": {}\n",
    "        }\n",
    "    ],\n",
    "    \"delivery\": \n",
    "        {\"archive_type\": \"zip\",\n",
    "         \"archive_filename\": \"{{name}}_{{order_id}}.zip\"}\n",
    "}\n",
    "request_2018"
   ]
  },
  {
   "cell_type": "code",
   "execution_count": 91,
   "metadata": {},
   "outputs": [],
   "source": [
    "def place_order(request_2018, auth):\n",
    "    response = requests.post(orders_url, data=json.dumps(request_2018), auth=auth, headers=headers)\n",
    "    print(response.json())\n",
    "    order_id = response.json()['id']\n",
    "    print(order_id)\n",
    "    order_url = orders_url + '/' + order_id\n",
    "    return order_url"
   ]
  },
  {
   "cell_type": "code",
   "execution_count": 92,
   "metadata": {},
   "outputs": [
    {
     "name": "stdout",
     "output_type": "stream",
     "text": [
      "{'_links': {'_self': 'https://api.planet.com/compute/ops/orders/v2/d41b7b06-876c-4183-b972-b82c29980bc9'}, 'created_on': '2022-12-15T02:37:20.379Z', 'delivery': {'archive_filename': '{{name}}_{{order_id}}.zip', 'archive_type': 'zip'}, 'error_hints': [], 'id': 'd41b7b06-876c-4183-b972-b82c29980bc9', 'last_message': 'Preparing order', 'last_modified': '2022-12-15T02:37:20.379Z', 'name': 'Iceland_2018', 'products': [{'item_ids': ['20180823_120201_1033', '20180823_120200_1033', '20180823_120159_1033', '20180823_120157_1033', '20180823_120158_1033', '20180823_115948_0f31', '20180823_115950_0f31', '20180823_115949_0f31'], 'item_type': 'PSScene', 'product_bundle': 'analytic_udm2'}], 'state': 'queued', 'tools': [{'clip': {'aoi': {'coordinates': [[[-16.134033865145483, 64.06695237423494], [-16.134033865145483, 64.23815860875357], [-16.590221302725666, 64.23815860875357], [-16.590221302725666, 64.06695237423494], [-16.134033865145483, 64.06695237423494]]], 'type': 'Polygon'}}}, {'composite': {}}]}\n",
      "d41b7b06-876c-4183-b972-b82c29980bc9\n"
     ]
    }
   ],
   "source": [
    "# DO NOT RUN THIS CELL\n",
    "\n",
    "order_url = place_order(request_2018, auth)"
   ]
  },
  {
   "cell_type": "markdown",
   "metadata": {},
   "source": [
    "### 2019"
   ]
  },
  {
   "cell_type": "code",
   "execution_count": 96,
   "metadata": {},
   "outputs": [
    {
     "data": {
      "text/plain": [
       "{'name': 'Iceland_2019', 'products': [{'item_ids': ['20190810_094432_1053', '20190810_094431_1053', '20190810_120838_0f34', '20190810_094434_1053', '20190810_094433_1053', '20190810_120837_0f34'], 'item_type': 'PSScene', 'product_bundle': 'analytic_udm2'}], 'tools': [{'clip': {'aoi': {'type': 'Polygon', 'coordinates': [[[-16.134033865145483, 64.06695237423494], [-16.134033865145483, 64.23815860875357], [-16.590221302725666, 64.23815860875357], [-16.590221302725666, 64.06695237423494], [-16.134033865145483, 64.06695237423494]]]}}}, {'composite': {}}], 'delivery': {'archive_type': 'zip', 'archive_filename': '{{name}}_{{order_id}}.zip'}}"
      ]
     },
     "execution_count": 96,
     "metadata": {},
     "output_type": "execute_result"
    }
   ],
   "source": [
    "product_2019 = [\n",
    "    {\n",
    "      \"item_ids\": image_ids_19, \n",
    "      \"item_type\": 'PSScene' ,\n",
    "      \"product_bundle\": 'analytic_udm2'\n",
    "    }\n",
    "]\n",
    "\n",
    "request_2019 = {  \n",
    "    \"name\": \"Iceland_2019\",\n",
    "    \"products\": product_2019,\n",
    "    \"tools\": [\n",
    "        {\"clip\": \n",
    "             {\"aoi\": geometry}\n",
    "        },\n",
    "        {\"composite\": {}\n",
    "        }\n",
    "    ],\n",
    "    \"delivery\": \n",
    "        {\"archive_type\": \"zip\",\n",
    "         \"archive_filename\": \"{{name}}_{{order_id}}.zip\"}\n",
    "}\n",
    "request_2019"
   ]
  },
  {
   "cell_type": "code",
   "execution_count": 97,
   "metadata": {},
   "outputs": [],
   "source": [
    "def place_order(request_2019, auth):\n",
    "    response = requests.post(orders_url, data=json.dumps(request_2019), auth=auth, headers=headers)\n",
    "    print(response.json())\n",
    "    order_id = response.json()['id']\n",
    "    print(order_id)\n",
    "    order_url = orders_url + '/' + order_id\n",
    "    return order_url"
   ]
  },
  {
   "cell_type": "code",
   "execution_count": 98,
   "metadata": {},
   "outputs": [
    {
     "name": "stdout",
     "output_type": "stream",
     "text": [
      "{'_links': {'_self': 'https://api.planet.com/compute/ops/orders/v2/c3f40395-9a75-4c96-9bb8-6dc8a5090f70'}, 'created_on': '2022-12-15T02:40:09.341Z', 'delivery': {'archive_filename': '{{name}}_{{order_id}}.zip', 'archive_type': 'zip'}, 'error_hints': [], 'id': 'c3f40395-9a75-4c96-9bb8-6dc8a5090f70', 'last_message': 'Preparing order', 'last_modified': '2022-12-15T02:40:09.341Z', 'name': 'Iceland_2019', 'products': [{'item_ids': ['20190810_094432_1053', '20190810_094431_1053', '20190810_120838_0f34', '20190810_094434_1053', '20190810_094433_1053', '20190810_120837_0f34'], 'item_type': 'PSScene', 'product_bundle': 'analytic_udm2'}], 'state': 'queued', 'tools': [{'clip': {'aoi': {'coordinates': [[[-16.134033865145483, 64.06695237423494], [-16.134033865145483, 64.23815860875357], [-16.590221302725666, 64.23815860875357], [-16.590221302725666, 64.06695237423494], [-16.134033865145483, 64.06695237423494]]], 'type': 'Polygon'}}}, {'composite': {}}]}\n",
      "c3f40395-9a75-4c96-9bb8-6dc8a5090f70\n"
     ]
    }
   ],
   "source": [
    "# DO NOT RUN THIS CELL\n",
    "\n",
    "order_url = place_order(request_2019, auth)"
   ]
  },
  {
   "cell_type": "markdown",
   "metadata": {},
   "source": [
    "### 2020"
   ]
  },
  {
   "cell_type": "code",
   "execution_count": 99,
   "metadata": {},
   "outputs": [
    {
     "data": {
      "text/plain": [
       "{'name': 'Iceland_2020', 'products': [{'item_ids': ['20200826_083614_0f21', '20200826_083614_1_0f21', '20200826_083613_0f21', '20200826_121316_0f4e', '20200826_121315_0f4e', '20200826_121314_0f4e', '20200826_121313_0f4e', '20200826_121312_0f4e', '20200826_114728_77_2271', '20200826_114730_96_2271', '20200826_114726_57_2271'], 'item_type': 'PSScene', 'product_bundle': 'analytic_udm2'}], 'tools': [{'clip': {'aoi': {'type': 'Polygon', 'coordinates': [[[-16.134033865145483, 64.06695237423494], [-16.134033865145483, 64.23815860875357], [-16.590221302725666, 64.23815860875357], [-16.590221302725666, 64.06695237423494], [-16.134033865145483, 64.06695237423494]]]}}}, {'composite': {}}], 'delivery': {'archive_type': 'zip', 'archive_filename': '{{name}}_{{order_id}}.zip'}}"
      ]
     },
     "execution_count": 99,
     "metadata": {},
     "output_type": "execute_result"
    }
   ],
   "source": [
    "product_2020 = [\n",
    "    {\n",
    "      \"item_ids\": image_ids_20,\n",
    "      \"item_type\": 'PSScene' ,\n",
    "      \"product_bundle\": 'analytic_udm2'\n",
    "    }\n",
    "]\n",
    "\n",
    "request_2020 = {  \n",
    "    \"name\": \"Iceland_2020\",\n",
    "    \"products\": product_2020,\n",
    "    \"tools\": [\n",
    "        {\"clip\": \n",
    "             {\"aoi\": geometry}\n",
    "        },\n",
    "        {\"composite\": {}\n",
    "        }\n",
    "    ],\n",
    "    \"delivery\": \n",
    "        {\"archive_type\": \"zip\",\n",
    "         \"archive_filename\": \"{{name}}_{{order_id}}.zip\"}\n",
    "}\n",
    "request_2020"
   ]
  },
  {
   "cell_type": "code",
   "execution_count": 100,
   "metadata": {},
   "outputs": [],
   "source": [
    "def place_order(request_2020, auth):\n",
    "    response = requests.post(orders_url, data=json.dumps(request_2020), auth=auth, headers=headers)\n",
    "    print(response.json())\n",
    "    order_id = response.json()['id']\n",
    "    print(order_id)\n",
    "    order_url = orders_url + '/' + order_id\n",
    "    return order_url"
   ]
  },
  {
   "cell_type": "code",
   "execution_count": 101,
   "metadata": {},
   "outputs": [
    {
     "name": "stdout",
     "output_type": "stream",
     "text": [
      "{'_links': {'_self': 'https://api.planet.com/compute/ops/orders/v2/7d2489c5-a7e4-435d-8c92-42a7fb5a4655'}, 'created_on': '2022-12-15T02:41:05.305Z', 'delivery': {'archive_filename': '{{name}}_{{order_id}}.zip', 'archive_type': 'zip'}, 'error_hints': [], 'id': '7d2489c5-a7e4-435d-8c92-42a7fb5a4655', 'last_message': 'Preparing order', 'last_modified': '2022-12-15T02:41:05.305Z', 'name': 'Iceland_2020', 'products': [{'item_ids': ['20200826_083614_0f21', '20200826_083614_1_0f21', '20200826_083613_0f21', '20200826_121316_0f4e', '20200826_121315_0f4e', '20200826_121314_0f4e', '20200826_121313_0f4e', '20200826_121312_0f4e', '20200826_114728_77_2271', '20200826_114730_96_2271', '20200826_114726_57_2271'], 'item_type': 'PSScene', 'product_bundle': 'analytic_udm2'}], 'state': 'queued', 'tools': [{'clip': {'aoi': {'coordinates': [[[-16.134033865145483, 64.06695237423494], [-16.134033865145483, 64.23815860875357], [-16.590221302725666, 64.23815860875357], [-16.590221302725666, 64.06695237423494], [-16.134033865145483, 64.06695237423494]]], 'type': 'Polygon'}}}, {'composite': {}}]}\n",
      "7d2489c5-a7e4-435d-8c92-42a7fb5a4655\n"
     ]
    }
   ],
   "source": [
    "# DO NOT RUN THIS CELL\n",
    "\n",
    "order_url = place_order(request_2020, auth)"
   ]
  },
  {
   "cell_type": "markdown",
   "metadata": {},
   "source": [
    "### 2021"
   ]
  },
  {
   "cell_type": "code",
   "execution_count": 102,
   "metadata": {},
   "outputs": [
    {
     "data": {
      "text/plain": [
       "{'name': 'Iceland_2021', 'products': [{'item_ids': ['20210909_114556_46_2456', '20210909_130002_71_1061', '20210909_130000_71_1061', '20210909_125958_71_1061', '20210909_114601_06_2456', '20210909_114558_76_2456', '20210909_114527_74_2448', '20210909_114525_44_2448', '20210909_114523_14_2448', '20210909_123242_1105', '20210909_123244_1105'], 'item_type': 'PSScene', 'product_bundle': 'analytic_udm2'}], 'tools': [{'clip': {'aoi': {'type': 'Polygon', 'coordinates': [[[-16.134033865145483, 64.06695237423494], [-16.134033865145483, 64.23815860875357], [-16.590221302725666, 64.23815860875357], [-16.590221302725666, 64.06695237423494], [-16.134033865145483, 64.06695237423494]]]}}}, {'composite': {}}], 'delivery': {'archive_type': 'zip', 'archive_filename': '{{name}}_{{order_id}}.zip'}}"
      ]
     },
     "execution_count": 102,
     "metadata": {},
     "output_type": "execute_result"
    }
   ],
   "source": [
    "product_2021 = [\n",
    "    {\n",
    "      \"item_ids\": image_ids_21,\n",
    "      \"item_type\": 'PSScene' ,\n",
    "      \"product_bundle\": 'analytic_udm2'\n",
    "    }\n",
    "]\n",
    "\n",
    "request_2021 = {  \n",
    "    \"name\": \"Iceland_2021\",\n",
    "    \"products\": product_2021,\n",
    "    \"tools\": [\n",
    "        {\"clip\": \n",
    "             {\"aoi\": geometry}\n",
    "        },\n",
    "        {\"composite\": {}\n",
    "        }\n",
    "    ],\n",
    "    \"delivery\": \n",
    "        {\"archive_type\": \"zip\",\n",
    "         \"archive_filename\": \"{{name}}_{{order_id}}.zip\"}\n",
    "}\n",
    "request_2021"
   ]
  },
  {
   "cell_type": "code",
   "execution_count": 103,
   "metadata": {},
   "outputs": [],
   "source": [
    "def place_order(request_2021, auth):\n",
    "    response = requests.post(orders_url, data=json.dumps(request_2021), auth=auth, headers=headers)\n",
    "    print(response.json())\n",
    "    order_id = response.json()['id']\n",
    "    print(order_id)\n",
    "    order_url = orders_url + '/' + order_id\n",
    "    return order_url"
   ]
  },
  {
   "cell_type": "code",
   "execution_count": 104,
   "metadata": {},
   "outputs": [
    {
     "name": "stdout",
     "output_type": "stream",
     "text": [
      "{'_links': {'_self': 'https://api.planet.com/compute/ops/orders/v2/c769626e-ac03-49b1-8df8-fcd9d8abe2cc'}, 'created_on': '2022-12-15T02:41:31.671Z', 'delivery': {'archive_filename': '{{name}}_{{order_id}}.zip', 'archive_type': 'zip'}, 'error_hints': [], 'id': 'c769626e-ac03-49b1-8df8-fcd9d8abe2cc', 'last_message': 'Preparing order', 'last_modified': '2022-12-15T02:41:31.671Z', 'name': 'Iceland_2021', 'products': [{'item_ids': ['20210909_114556_46_2456', '20210909_130002_71_1061', '20210909_130000_71_1061', '20210909_125958_71_1061', '20210909_114601_06_2456', '20210909_114558_76_2456', '20210909_114527_74_2448', '20210909_114525_44_2448', '20210909_114523_14_2448', '20210909_123242_1105', '20210909_123244_1105'], 'item_type': 'PSScene', 'product_bundle': 'analytic_udm2'}], 'state': 'queued', 'tools': [{'clip': {'aoi': {'coordinates': [[[-16.134033865145483, 64.06695237423494], [-16.134033865145483, 64.23815860875357], [-16.590221302725666, 64.23815860875357], [-16.590221302725666, 64.06695237423494], [-16.134033865145483, 64.06695237423494]]], 'type': 'Polygon'}}}, {'composite': {}}]}\n",
      "c769626e-ac03-49b1-8df8-fcd9d8abe2cc\n"
     ]
    }
   ],
   "source": [
    "# DO NOT RUN THIS CELL\n",
    "\n",
    "order_url = place_order(request_2021, auth)"
   ]
  },
  {
   "cell_type": "markdown",
   "metadata": {},
   "source": [
    "### 2022"
   ]
  },
  {
   "cell_type": "code",
   "execution_count": 105,
   "metadata": {},
   "outputs": [
    {
     "data": {
      "text/plain": [
       "{'name': 'Iceland_2022', 'products': [{'item_ids': ['20220816_113127_19_2464', '20220816_113124_89_2464', '20220816_121844_47_2426', '20220816_121842_21_2426'], 'item_type': 'PSScene', 'product_bundle': 'analytic_udm2'}], 'tools': [{'clip': {'aoi': {'type': 'Polygon', 'coordinates': [[[-16.134033865145483, 64.06695237423494], [-16.134033865145483, 64.23815860875357], [-16.590221302725666, 64.23815860875357], [-16.590221302725666, 64.06695237423494], [-16.134033865145483, 64.06695237423494]]]}}}, {'composite': {}}], 'delivery': {'archive_type': 'zip', 'archive_filename': '{{name}}_{{order_id}}.zip'}}"
      ]
     },
     "execution_count": 105,
     "metadata": {},
     "output_type": "execute_result"
    }
   ],
   "source": [
    "product_2022 = [\n",
    "    {\n",
    "      \"item_ids\": image_ids_22,\n",
    "      \"item_type\": 'PSScene' ,\n",
    "      \"product_bundle\": 'analytic_udm2'\n",
    "    }\n",
    "]\n",
    "\n",
    "request_2022 = {  \n",
    "    \"name\": \"Iceland_2022\",\n",
    "    \"products\": product_2022,\n",
    "    \"tools\": [\n",
    "        {\"clip\": \n",
    "             {\"aoi\": geometry}\n",
    "        },\n",
    "        {\"composite\": {}\n",
    "        }\n",
    "    ],\n",
    "    \"delivery\": \n",
    "        {\"archive_type\": \"zip\",\n",
    "         \"archive_filename\": \"{{name}}_{{order_id}}.zip\"}\n",
    "}\n",
    "request_2022"
   ]
  },
  {
   "cell_type": "code",
   "execution_count": 106,
   "metadata": {},
   "outputs": [],
   "source": [
    "def place_order(request_2022, auth):\n",
    "    response = requests.post(orders_url, data=json.dumps(request_2022), auth=auth, headers=headers)\n",
    "    print(response.json())\n",
    "    order_id = response.json()['id']\n",
    "    print(order_id)\n",
    "    order_url = orders_url + '/' + order_id\n",
    "    return order_url"
   ]
  },
  {
   "cell_type": "code",
   "execution_count": 107,
   "metadata": {},
   "outputs": [
    {
     "name": "stdout",
     "output_type": "stream",
     "text": [
      "{'_links': {'_self': 'https://api.planet.com/compute/ops/orders/v2/bcafbb21-fc56-4cef-b0a5-3624cdb3cabc'}, 'created_on': '2022-12-15T02:42:11.743Z', 'delivery': {'archive_filename': '{{name}}_{{order_id}}.zip', 'archive_type': 'zip'}, 'error_hints': [], 'id': 'bcafbb21-fc56-4cef-b0a5-3624cdb3cabc', 'last_message': 'Preparing order', 'last_modified': '2022-12-15T02:42:11.743Z', 'name': 'Iceland_2022', 'products': [{'item_ids': ['20220816_113127_19_2464', '20220816_113124_89_2464', '20220816_121844_47_2426', '20220816_121842_21_2426'], 'item_type': 'PSScene', 'product_bundle': 'analytic_udm2'}], 'state': 'queued', 'tools': [{'clip': {'aoi': {'coordinates': [[[-16.134033865145483, 64.06695237423494], [-16.134033865145483, 64.23815860875357], [-16.590221302725666, 64.23815860875357], [-16.590221302725666, 64.06695237423494], [-16.134033865145483, 64.06695237423494]]], 'type': 'Polygon'}}}, {'composite': {}}]}\n",
      "bcafbb21-fc56-4cef-b0a5-3624cdb3cabc\n"
     ]
    }
   ],
   "source": [
    "# DO NOT RUN THIS CELL\n",
    "\n",
    "order_url = place_order(request_2022, auth)"
   ]
  }
 ],
 "metadata": {
  "kernelspec": {
   "display_name": "ArcGISPro",
   "language": "Python",
   "name": "python3"
  },
  "language_info": {
   "file_extension": ".py",
   "name": "python",
   "version": "3"
  }
 },
 "nbformat": 4,
 "nbformat_minor": 2
}
