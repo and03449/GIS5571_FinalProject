{
 "cells": [
  {
   "cell_type": "markdown",
   "metadata": {},
   "source": [
    "# Planet API"
   ]
  },
  {
   "cell_type": "code",
   "execution_count": 21,
   "metadata": {},
   "outputs": [],
   "source": [
    "# DO NOT RUN ALL CELLS\n",
    "\n",
    "# All cells can be run except those with a comment of \"# DO NOT RUN THIS CELL\""
   ]
  },
  {
   "cell_type": "markdown",
   "metadata": {},
   "source": [
    "## Import Packages"
   ]
  },
  {
   "cell_type": "code",
   "execution_count": 273,
   "metadata": {},
   "outputs": [],
   "source": [
    "import json\n",
    "import os\n",
    "import pathlib\n",
    "import time\n",
    "\n",
    "import requests\n",
    "from requests.auth import HTTPBasicAuth"
   ]
  },
  {
   "cell_type": "markdown",
   "metadata": {},
   "source": [
    "## Log In Info"
   ]
  },
  {
   "cell_type": "code",
   "execution_count": 274,
   "metadata": {},
   "outputs": [],
   "source": [
    "# API Key\n",
    "\n",
    "PLANET_API_KEY = '**ReplacewithAPIKeyFromGoogleDrive**'"
   ]
  },
  {
   "cell_type": "code",
   "execution_count": 275,
   "metadata": {},
   "outputs": [],
   "source": [
    "# Import base URLs \n",
    "\n",
    "orders_url = 'https://api.planet.com/compute/ops/orders/v2'\n",
    "data_url = 'https://api.planet.com/data/v1'"
   ]
  },
  {
   "cell_type": "code",
   "execution_count": 276,
   "metadata": {},
   "outputs": [
    {
     "name": "stderr",
     "output_type": "stream",
     "text": [
      "  % Total    % Received % Xferd  Average Speed   Time    Time     Time  Current\n",
      "                                 Dload  Upload   Total   Spent    Left  Speed\n",
      "\n",
      "  0     0    0     0    0     0      0      0 --:--:-- --:--:-- --:--:--     0\n",
      "100 19796    0 19796    0     0  69201      0 --:--:-- --:--:-- --:--:-- 73318\n"
     ]
    },
    {
     "name": "stdout",
     "output_type": "stream",
     "text": [
      "{\"_links\":{\"_self\":\"https://api.planet.com/compute/ops/orders/v2\",\"next\":\"https://api.planet.com/compute/ops/orders/v2?page_marker=2022-12-05T23%3A57%3A56.535089Z\"},\"orders\":[{\"_links\":{\"_self\":\"https://api.planet.com/compute/ops/orders/v2/6a480c9b-6933-4201-837b-baa867d472a1\"},\"created_on\":\"2022-12-14T06:10:58.067Z\",\"delivery\":{\"archive_filename\":\"{{name}}_{{order_id}}.zip\",\"archive_type\":\"zip\"},\"error_hints\":[],\"id\":\"6a480c9b-6933-4201-837b-baa867d472a1\",\"last_message\":\"Waiting for per-bundle operations to complete. Running 1, Succeeded 1, Failed: 0\",\"last_modified\":\"2022-12-14T06:14:37.918Z\",\"name\":\"Alaska_2019\",\"products\":[{\"item_ids\":[\"20190808_203835_1006\",\"20190808_203834_1006\"],\"item_type\":\"PSScene\",\"product_bundle\":\"analytic_udm2\"}],\"state\":\"running\",\"tools\":[{\"clip\":{\"aoi\":{\"coordinates\":[[[-145.44859629282018,63.29635255038565],[-145.44859629282018,63.25045403118733],[-145.37814550162204,63.25045403118733],[-145.37814550162204,63.29635255038565],[-145.44859629282018,63.29635255038565]]],\"type\":\"Polygon\"}}},{\"composite\":{}}]},{\"_links\":{\"_self\":\"https://api.planet.com/compute/ops/orders/v2/81310fa6-a38b-4e09-bf03-1a2be174e1d0\"},\"created_on\":\"2022-12-14T02:41:43.711Z\",\"delivery\":{\"archive_filename\":\"{{name}}_{{order_id}}.zip\",\"archive_type\":\"zip\"},\"error_hints\":[],\"id\":\"81310fa6-a38b-4e09-bf03-1a2be174e1d0\",\"last_message\":\"Manifest delivery completed\",\"last_modified\":\"2022-12-14T02:51:22.514Z\",\"name\":\"Alaska_2018\",\"products\":[{\"item_ids\":[\"20180731_203403_1033\",\"20180731_203404_1033\"],\"item_type\":\"PSScene\",\"product_bundle\":\"analytic_udm2\"}],\"state\":\"success\",\"tools\":[{\"clip\":{\"aoi\":{\"coordinates\":[[[-145.44859629282018,63.29635255038565],[-145.44859629282018,63.25045403118733],[-145.37814550162204,63.25045403118733],[-145.37814550162204,63.29635255038565],[-145.44859629282018,63.29635255038565]]],\"type\":\"Polygon\"}}},{\"bandmath\":{\"b1\":\"b3\",\"b2\":\"b2\",\"b3\":\"b1\"}},{\"composite\":{}}]},{\"_links\":{\"_self\":\"https://api.planet.com/compute/ops/orders/v2/29f1dc27-c99d-4460-a704-ee49524fd0d2\"},\"created_on\":\"2022-12-14T00:31:47.441Z\",\"delivery\":{\"archive_filename\":\"{{name}}_{{order_id}}.zip\",\"archive_type\":\"zip\"},\"error_hints\":[],\"id\":\"29f1dc27-c99d-4460-a704-ee49524fd0d2\",\"last_message\":\"Manifest delivery completed\",\"last_modified\":\"2022-12-14T00:39:42.358Z\",\"name\":\"Alaska_2017\",\"products\":[{\"item_ids\":[\"20170722_201655_1041\",\"20170722_201654_1041\",\"20170722_201934_1011\",\"20170722_201933_1011\"],\"item_type\":\"PSScene\",\"product_bundle\":\"analytic_udm2\"}],\"state\":\"success\",\"tools\":[{\"clip\":{\"aoi\":{\"coordinates\":[[[-145.44859629282018,63.29635255038565],[-145.44859629282018,63.25045403118733],[-145.37814550162204,63.25045403118733],[-145.37814550162204,63.29635255038565],[-145.44859629282018,63.29635255038565]]],\"type\":\"Polygon\"}}},{\"bandmath\":{\"b1\":\"b3\",\"b2\":\"b2\",\"b3\":\"b1\"}},{\"composite\":{}}]},{\"_links\":{\"_self\":\"https://api.planet.com/compute/ops/orders/v2/f3d42101-0445-4c4e-826e-0d9dddd090c4\"},\"created_on\":\"2022-12-13T22:59:43.958Z\",\"delivery\":{\"archive_filename\":\"{{name}}_{{order_id}}.zip\",\"archive_type\":\"zip\"},\"error_hints\":[],\"id\":\"f3d42101-0445-4c4e-826e-0d9dddd090c4\",\"last_message\":\"Manifest delivery completed\",\"last_modified\":\"2022-12-13T23:05:03.195Z\",\"name\":\"Alaska_2017\",\"products\":[{\"item_ids\":[\"20170816_201742_1035\"],\"item_type\":\"PSScene\",\"product_bundle\":\"analytic_udm2\"}],\"state\":\"success\"},{\"_links\":{\"_self\":\"https://api.planet.com/compute/ops/orders/v2/e6b95d88-6d9b-467c-bbc0-b1c78b054a71\"},\"created_on\":\"2022-12-06T00:10:46.644Z\",\"delivery\":{\"archive_filename\":\"{{name}}_psscene_analytic_sr_udm2.zip\",\"archive_type\":\"zip\",\"single_archive\":true},\"error_hints\":[],\"id\":\"e6b95d88-6d9b-467c-bbc0-b1c78b054a71\",\"last_message\":\"Manifest delivery completed\",\"last_modified\":\"2022-12-06T00:36:36.143Z\",\"name\":\"Nov_14_2022\",\"notifications\":{\"email\":true},\"order_type\":\"partial\",\"products\":[{\"item_ids\":[\"20220410_204452_24_2403\",\"20220410_204449_95_2403\",\"20220410_204447_66_2403\",\"20220410_202923_44_249e\",\"20220410_202928_46_249e\",\"20220410_202925_95_249e\"],\"item_type\":\"PSScene\",\"product_bundle\":\"analytic_sr_udm2\"}],\"state\":\"success\",\"tools\":[{\"clip\":{\"aoi\":{\"coordinates\":[[[-143.634224,60.137913],[-143.154108,60.137913],[-143.154108,60.355052],[-143.634224,60.355052],[-143.634224,60.137913]]],\"type\":\"Polygon\"}}},{\"harmonize\":{\"target_sensor\":\"Sentinel-2\"}}]},{\"_links\":{\"_self\":\"https://api.planet.com/compute/ops/orders/v2/c25133e9-8d05-4f9a-8b81-9281fc06c1f7\"},\"created_on\":\"2022-12-06T00:10:05.916Z\",\"delivery\":{\"archive_filename\":\"{{name}}_psscene_analytic_sr_udm2.zip\",\"archive_type\":\"zip\",\"single_archive\":true},\"error_hints\":[],\"id\":\"c25133e9-8d05-4f9a-8b81-9281fc06c1f7\",\"last_message\":\"Manifest delivery completed\",\"last_modified\":\"2022-12-06T00:39:37.606Z\",\"name\":\"Sept_16_2022\",\"notifications\":{\"email\":true},\"order_type\":\"partial\",\"products\":[{\"item_ids\":[\"20220410_204452_24_2403\",\"20220410_204449_95_2403\",\"20220410_204447_66_2403\",\"20220410_202923_44_249e\",\"20220410_202928_46_249e\",\"20220410_202925_95_249e\"],\"item_type\":\"PSScene\",\"product_bundle\":\"analytic_sr_udm2\"}],\"state\":\"success\",\"tools\":[{\"clip\":{\"aoi\":{\"coordinates\":[[[-143.634224,60.137913],[-143.154108,60.137913],[-143.154108,60.355052],[-143.634224,60.355052],[-143.634224,60.137913]]],\"type\":\"Polygon\"}}},{\"harmonize\":{\"target_sensor\":\"Sentinel-2\"}}]},{\"_links\":{\"_self\":\"https://api.planet.com/compute/ops/orders/v2/e3e24351-5060-46bb-bbe5-fcef669f74a7\"},\"created_on\":\"2022-12-06T00:09:26.092Z\",\"delivery\":{\"archive_filename\":\"{{name}}_psscene_analytic_sr_udm2.zip\",\"archive_type\":\"zip\",\"single_archive\":true},\"error_hints\":[],\"id\":\"e3e24351-5060-46bb-bbe5-fcef669f74a7\",\"last_message\":\"Manifest delivery completed\",\"last_modified\":\"2022-12-06T00:34:18.468Z\",\"name\":\"July_3_2022\",\"notifications\":{\"email\":true},\"order_type\":\"partial\",\"products\":[{\"item_ids\":[\"20220410_204452_24_2403\",\"20220410_204449_95_2403\",\"20220410_204447_66_2403\",\"20220410_202923_44_249e\",\"20220410_202928_46_249e\",\"20220410_202925_95_249e\"],\"item_type\":\"PSScene\",\"product_bundle\":\"analytic_sr_udm2\"}],\"state\":\"success\",\"tools\":[{\"clip\":{\"aoi\":{\"coordinates\":[[[-143.634224,60.137913],[-143.154108,60.137913],[-143.154108,60.355052],[-143.634224,60.355052],[-143.634224,60.137913]]],\"type\":\"Polygon\"}}},{\"harmonize\":{\"target_sensor\":\"Sentinel-2\"}}]},{\"_links\":{\"_self\":\"https://api.planet.com/compute/ops/orders/v2/5997538c-2a63-4b75-acd5-55c072f2bd9c\"},\"created_on\":\"2022-12-06T00:08:51.845Z\",\"delivery\":{\"archive_filename\":\"{{name}}_psscene_analytic_sr_udm2.zip\",\"archive_type\":\"zip\",\"single_archive\":true},\"error_hints\":[],\"id\":\"5997538c-2a63-4b75-acd5-55c072f2bd9c\",\"last_message\":\"Manifest delivery completed\",\"last_modified\":\"2022-12-06T00:33:28.968Z\",\"name\":\"May_28_2022\",\"notifications\":{\"email\":true},\"order_type\":\"partial\",\"products\":[{\"item_ids\":[\"20220410_204452_24_2403\",\"20220410_204449_95_2403\",\"20220410_204447_66_2403\",\"20220410_202923_44_249e\",\"20220410_202928_46_249e\",\"20220410_202925_95_249e\"],\"item_type\":\"PSScene\",\"product_bundle\":\"analytic_sr_udm2\"}],\"state\":\"success\",\"tools\":[{\"clip\":{\"aoi\":{\"coordinates\":[[[-143.634224,60.137913],[-143.154108,60.137913],[-143.154108,60.355052],[-143.634224,60.355052],[-143.634224,60.137913]]],\"type\":\"Polygon\"}}},{\"harmonize\":{\"target_sensor\":\"Sentinel-2\"}}]},{\"_links\":{\"_self\":\"https://api.planet.com/compute/ops/orders/v2/1018bbad-4c1e-4906-b0c9-a90454d49c38\"},\"created_on\":\"2022-12-06T00:08:17.915Z\",\"delivery\":{\"archive_filename\":\"{{name}}_psscene_analytic_sr_udm2.zip\",\"archive_type\":\"zip\",\"single_archive\":true},\"error_hints\":[],\"id\":\"1018bbad-4c1e-4906-b0c9-a90454d49c38\",\"last_message\":\"Manifest delivery completed\",\"last_modified\":\"2022-12-06T00:34:38.127Z\",\"name\":\"Apr_10_2022\",\"notifications\":{\"email\":true},\"order_type\":\"partial\",\"products\":[{\"item_ids\":[\"20220410_204452_24_2403\",\"20220410_204449_95_2403\",\"20220410_204447_66_2403\",\"20220410_202923_44_249e\",\"20220410_202928_46_249e\",\"20220410_202925_95_249e\"],\"item_type\":\"PSScene\",\"product_bundle\":\"analytic_sr_udm2\"}],\"state\":\"success\",\"tools\":[{\"clip\":{\"aoi\":{\"coordinates\":[[[-143.634224,60.137913],[-143.154108,60.137913],[-143.154108,60.355052],[-143.634224,60.355052],[-143.634224,60.137913]]],\"type\":\"Polygon\"}}},{\"harmonize\":{\"target_sensor\":\"Sentinel-2\"}}]},{\"_links\":{\"_self\":\"https://api.planet.com/compute/ops/orders/v2/4f92327d-dce7-49e9-85aa-31d9698f7090\"},\"created_on\":\"2022-12-06T00:07:23.799Z\",\"delivery\":{\"archive_filename\":\"{{name}}_psscene_analytic_sr_udm2.zip\",\"archive_type\":\"zip\",\"single_archive\":true},\"error_hints\":[],\"id\":\"4f92327d-dce7-49e9-85aa-31d9698f7090\",\"last_message\":\"Manifest delivery completed\",\"last_modified\":\"2022-12-06T00:22:51.607Z\",\"name\":\"Nov_8_2021\",\"notifications\":{\"email\":true},\"order_type\":\"partial\",\"products\":[{\"item_ids\":[\"20211108_195119_52_2423\",\"20211108_195117_05_2423\",\"20211108_204449_17_227c\",\"20211108_204446_69_227c\",\"20211108_204444_21_227c\",\"20211108_200049_80_2427\",\"20211108_200047_33_2427\",\"20211108_200044_85_2427\"],\"item_type\":\"PSScene\",\"product_bundle\":\"analytic_sr_udm2\"}],\"state\":\"success\",\"tools\":[{\"clip\":{\"aoi\":{\"coordinates\":[[[-143.634224,60.137913],[-143.154108,60.137913],[-143.154108,60.355052],[-143.634224,60.355052],[-143.634224,60.137913]]],\"type\":\"Polygon\"}}},{\"harmonize\":{\"target_sensor\":\"Sentinel-2\"}}]},{\"_links\":{\"_self\":\"https://api.planet.com/compute/ops/orders/v2/fed32158-857c-4940-9e21-fc54b2e5ff46\"},\"created_on\":\"2022-12-06T00:06:40.782Z\",\"delivery\":{\"archive_filename\":\"{{name}}_psscene_analytic_sr_udm2.zip\",\"archive_type\":\"zip\",\"single_archive\":true},\"error_hints\":[],\"id\":\"fed32158-857c-4940-9e21-fc54b2e5ff46\",\"last_message\":\"Manifest delivery completed\",\"last_modified\":\"2022-12-06T00:31:16.339Z\",\"name\":\"Aug_22_2021\",\"notifications\":{\"email\":true},\"order_type\":\"partial\",\"products\":[{\"item_ids\":[\"20210207_210431_67_1059\",\"20210207_204928_41_227b\",\"20210207_204926_05_227b\",\"20210207_210429_67_1059\",\"20210207_210427_67_1059\"],\"item_type\":\"PSScene\",\"product_bundle\":\"analytic_sr_udm2\"}],\"state\":\"success\",\"tools\":[{\"clip\":{\"aoi\":{\"coordinates\":[[[-143.634224,60.137913],[-143.154108,60.137913],[-143.154108,60.355052],[-143.634224,60.355052],[-143.634224,60.137913]]],\"type\":\"Polygon\"}}},{\"harmonize\":{\"target_sensor\":\"Sentinel-2\"}}]},{\"_links\":{\"_self\":\"https://api.planet.com/compute/ops/orders/v2/c04dd348-4744-4be1-a6af-62e9620fea29\"},\"created_on\":\"2022-12-06T00:06:08.261Z\",\"delivery\":{\"archive_filename\":\"{{name}}_psscene_analytic_sr_udm2.zip\",\"archive_type\":\"zip\",\"single_archive\":true},\"error_hints\":[],\"id\":\"c04dd348-4744-4be1-a6af-62e9620fea29\",\"last_message\":\"Manifest delivery completed\",\"last_modified\":\"2022-12-06T00:28:08.700Z\",\"name\":\"May_24_2021\",\"notifications\":{\"email\":true},\"order_type\":\"partial\",\"products\":[{\"item_ids\":[\"20210207_210431_67_1059\",\"20210207_204928_41_227b\",\"20210207_204926_05_227b\",\"20210207_210429_67_1059\",\"20210207_210427_67_1059\"],\"item_type\":\"PSScene\",\"product_bundle\":\"analytic_sr_udm2\"}],\"state\":\"success\",\"tools\":[{\"clip\":{\"aoi\":{\"coordinates\":[[[-143.634224,60.137913],[-143.154108,60.137913],[-143.154108,60.355052],[-143.634224,60.355052],[-143.634224,60.137913]]],\"type\":\"Polygon\"}}},{\"harmonize\":{\"target_sensor\":\"Sentinel-2\"}}]},{\"_links\":{\"_self\":\"https://api.planet.com/compute/ops/orders/v2/e8527dde-d01e-40bb-8589-bb418b61da7a\"},\"created_on\":\"2022-12-06T00:05:15.363Z\",\"delivery\":{\"archive_filename\":\"{{name}}_psscene_analytic_sr_udm2.zip\",\"archive_type\":\"zip\",\"single_archive\":true},\"error_hints\":[],\"id\":\"e8527dde-d01e-40bb-8589-bb418b61da7a\",\"last_message\":\"Manifest delivery completed\",\"last_modified\":\"2022-12-06T00:32:13.046Z\",\"name\":\"Feb_7_2021\",\"notifications\":{\"email\":true},\"order_type\":\"partial\",\"products\":[{\"item_ids\":[\"20210207_210431_67_1059\",\"20210207_204928_41_227b\",\"20210207_204926_05_227b\",\"20210207_210429_67_1059\",\"20210207_210427_67_1059\"],\"item_type\":\"PSScene\",\"product_bundle\":\"analytic_sr_udm2\"}],\"state\":\"success\",\"tools\":[{\"clip\":{\"aoi\":{\"coordinates\":[[[-143.634224,60.137913],[-143.154108,60.137913],[-143.154108,60.355052],[-143.634224,60.355052],[-143.634224,60.137913]]],\"type\":\"Polygon\"}}},{\"harmonize\":{\"target_sensor\":\"Sentinel-2\"}}]},{\"_links\":{\"_self\":\"https://api.planet.com/compute/ops/orders/v2/0a875c85-3325-4513-8d63-8cbfb0a28aaf\"},\"created_on\":\"2022-12-06T00:04:30.022Z\",\"delivery\":{\"archive_filename\":\"{{name}}_psscene_analytic_sr_udm2.zip\",\"archive_type\":\"zip\",\"single_archive\":true},\"error_hints\":[],\"id\":\"0a875c85-3325-4513-8d63-8cbfb0a28aaf\",\"last_message\":\"Manifest delivery completed\",\"last_modified\":\"2022-12-06T00:21:58.442Z\",\"name\":\"Oct_13_2020\",\"notifications\":{\"email\":true},\"order_type\":\"partial\",\"products\":[{\"item_ids\":[\"20200201_204835_88_1061\",\"20200201_204833_87_1061\",\"20200201_204831_85_1061\",\"20200201_202929_1018\",\"20200201_202930_1018\",\"20200201_202928_1018\",\"20200201_202927_1018\",\"20200201_202926_1018\",\"20200201_201807_0e20\",\"20200201_201805_0e20\",\"20200201_201804_0e20\",\"20200201_201809_0e20\",\"20200201_201806_0e20\"],\"item_type\":\"PSScene\",\"product_bundle\":\"analytic_sr_udm2\"}],\"state\":\"success\",\"tools\":[{\"clip\":{\"aoi\":{\"coordinates\":[[[-143.634224,60.137913],[-143.154108,60.137913],[-143.154108,60.355052],[-143.634224,60.355052],[-143.634224,60.137913]]],\"type\":\"Polygon\"}}},{\"harmonize\":{\"target_sensor\":\"Sentinel-2\"}}]},{\"_links\":{\"_self\":\"https://api.planet.com/compute/ops/orders/v2/69269e05-2fae-4bae-852e-dd8a91601a0b\"},\"created_on\":\"2022-12-06T00:03:27.562Z\",\"delivery\":{\"archive_filename\":\"{{name}}_psscene_analytic_sr_udm2.zip\",\"archive_type\":\"zip\",\"single_archive\":true},\"error_hints\":[],\"id\":\"69269e05-2fae-4bae-852e-dd8a91601a0b\",\"last_message\":\"Manifest delivery completed\",\"last_modified\":\"2022-12-06T00:24:00.755Z\",\"name\":\"July_1_2020\",\"notifications\":{\"email\":true},\"order_type\":\"partial\",\"products\":[{\"item_ids\":[\"20200201_204835_88_1061\",\"20200201_204833_87_1061\",\"20200201_204831_85_1061\",\"20200201_202929_1018\",\"20200201_202930_1018\",\"20200201_202928_1018\",\"20200201_202927_1018\",\"20200201_202926_1018\",\"20200201_201807_0e20\",\"20200201_201805_0e20\",\"20200201_201804_0e20\",\"20200201_201809_0e20\",\"20200201_201806_0e20\"],\"item_type\":\"PSScene\",\"product_bundle\":\"analytic_sr_udm2\"}],\"state\":\"success\",\"tools\":[{\"clip\":{\"aoi\":{\"coordinates\":[[[-143.634224,60.137913],[-143.154108,60.137913],[-143.154108,60.355052],[-143.634224,60.355052],[-143.634224,60.137913]]],\"type\":\"Polygon\"}}},{\"harmonize\":{\"target_sensor\":\"Sentinel-2\"}}]},{\"_links\":{\"_self\":\"https://api.planet.com/compute/ops/orders/v2/e16eddc1-623f-44f6-9025-bc95a089308f\"},\"created_on\":\"2022-12-06T00:02:37.829Z\",\"delivery\":{\"archive_filename\":\"{{name}}_psscene_analytic_sr_udm2.zip\",\"archive_type\":\"zip\",\"single_archive\":true},\"error_hints\":[],\"id\":\"e16eddc1-623f-44f6-9025-bc95a089308f\",\"last_message\":\"Manifest delivery completed\",\"last_modified\":\"2022-12-06T00:25:34.129Z\",\"name\":\"Mar_5_2020\",\"notifications\":{\"email\":true},\"order_type\":\"partial\",\"products\":[{\"item_ids\":[\"20200201_204835_88_1061\",\"20200201_204833_87_1061\",\"20200201_204831_85_1061\",\"20200201_202929_1018\",\"20200201_202930_1018\",\"20200201_202928_1018\",\"20200201_202927_1018\",\"20200201_202926_1018\",\"20200201_201807_0e20\",\"20200201_201805_0e20\",\"20200201_201804_0e20\",\"20200201_201809_0e20\",\"20200201_201806_0e20\"],\"item_type\":\"PSScene\",\"product_bundle\":\"analytic_sr_udm2\"}],\"state\":\"success\",\"tools\":[{\"clip\":{\"aoi\":{\"coordinates\":[[[-143.634224,60.137913],[-143.154108,60.137913],[-143.154108,60.355052],[-143.634224,60.355052],[-143.634224,60.137913]]],\"type\":\"Polygon\"}}},{\"harmonize\":{\"target_sensor\":\"Sentinel-2\"}}]},{\"_links\":{\"_self\":\"https://api.planet.com/compute/ops/orders/v2/8d06b514-943b-472c-8efd-344cae41f982\"},\"created_on\":\"2022-12-06T00:01:29.001Z\",\"delivery\":{\"archive_filename\":\"{{name}}_psscene_analytic_sr_udm2.zip\",\"archive_type\":\"zip\",\"single_archive\":true},\"error_hints\":[],\"id\":\"8d06b514-943b-472c-8efd-344cae41f982\",\"last_message\":\"Manifest delivery completed\",\"last_modified\":\"2022-12-06T00:23:57.463Z\",\"name\":\"Feb_1_2020\",\"notifications\":{\"email\":true},\"order_type\":\"partial\",\"products\":[{\"item_ids\":[\"20200201_204835_88_1061\",\"20200201_204833_87_1061\",\"20200201_204831_85_1061\",\"20200201_202929_1018\",\"20200201_202930_1018\",\"20200201_202928_1018\",\"20200201_202927_1018\",\"20200201_202926_1018\",\"20200201_201807_0e20\",\"20200201_201805_0e20\",\"20200201_201804_0e20\",\"20200201_201809_0e20\",\"20200201_201806_0e20\"],\"item_type\":\"PSScene\",\"product_bundle\":\"analytic_sr_udm2\"}],\"state\":\"success\",\"tools\":[{\"clip\":{\"aoi\":{\"coordinates\":[[[-143.634224,60.137913],[-143.154108,60.137913],[-143.154108,60.355052],[-143.634224,60.355052],[-143.634224,60.137913]]],\"type\":\"Polygon\"}}},{\"harmonize\":{\"target_sensor\":\"Sentinel-2\"}}]},{\"_links\":{\"_self\":\"https://api.planet.com/compute/ops/orders/v2/b77fe451-b865-447c-b63b-6399a79cf524\"},\"created_on\":\"2022-12-06T00:00:18.091Z\",\"delivery\":{\"archive_filename\":\"{{name}}_psscene_analytic_sr_udm2.zip\",\"archive_type\":\"zip\",\"single_archive\":true},\"error_hints\":[],\"id\":\"b77fe451-b865-447c-b63b-6399a79cf524\",\"last_message\":\"Manifest delivery completed\",\"last_modified\":\"2022-12-06T00:09:26.403Z\",\"name\":\"Aug_15_2019\",\"notifications\":{\"email\":true},\"order_type\":\"partial\",\"products\":[{\"item_ids\":[\"20180331_201449_1003\",\"20180331_201221_0f35\",\"20180331_201223_0f35\",\"20180331_201222_0f35\",\"20180331_201220_0f35\",\"20180331_201445_1003\",\"20180331_201444_1003\",\"20180331_201446_1003\",\"20180331_201447_1003\",\"20180331_201338_101f\",\"20180331_201337_101f\"],\"item_type\":\"PSScene\",\"product_bundle\":\"analytic_sr_udm2\"}],\"state\":\"success\",\"tools\":[{\"clip\":{\"aoi\":{\"coordinates\":[[[-143.634224,60.137913],[-143.154108,60.137913],[-143.154108,60.355052],[-143.634224,60.355052],[-143.634224,60.137913]]],\"type\":\"Polygon\"}}},{\"harmonize\":{\"target_sensor\":\"Sentinel-2\"}}]},{\"_links\":{\"_self\":\"https://api.planet.com/compute/ops/orders/v2/b5827fd4-842d-4e5f-96b1-c37e3dbbe2ce\"},\"created_on\":\"2022-12-05T23:59:23.778Z\",\"delivery\":{\"archive_filename\":\"{{name}}_psscene_analytic_sr_udm2.zip\",\"archive_type\":\"zip\",\"single_archive\":true},\"error_hints\":[],\"id\":\"b5827fd4-842d-4e5f-96b1-c37e3dbbe2ce\",\"last_message\":\"Manifest delivery completed\",\"last_modified\":\"2022-12-06T00:09:30.587Z\",\"name\":\"June_10_2019\",\"notifications\":{\"email\":true},\"order_type\":\"partial\",\"products\":[{\"item_ids\":[\"20180331_201449_1003\",\"20180331_201221_0f35\",\"20180331_201223_0f35\",\"20180331_201222_0f35\",\"20180331_201220_0f35\",\"20180331_201445_1003\",\"20180331_201444_1003\",\"20180331_201446_1003\",\"20180331_201447_1003\",\"20180331_201338_101f\",\"20180331_201337_101f\"],\"item_type\":\"PSScene\",\"product_bundle\":\"analytic_sr_udm2\"}],\"state\":\"success\",\"tools\":[{\"clip\":{\"aoi\":{\"coordinates\":[[[-143.634224,60.137913],[-143.154108,60.137913],[-143.154108,60.355052],[-143.634224,60.355052],[-143.634224,60.137913]]],\"type\":\"Polygon\"}}},{\"harmonize\":{\"target_sensor\":\"Sentinel-2\"}}]},{\"_links\":{\"_self\":\"https://api.planet.com/compute/ops/orders/v2/0ac87edf-3c94-4814-bb9d-d12244fe4901\"},\"created_on\":\"2022-12-05T23:57:56.535Z\",\"delivery\":{\"archive_filename\":\"{{name}}_psscene_analytic_sr_udm2.zip\",\"archive_type\":\"zip\",\"single_archive\":true},\"error_hints\":[],\"id\":\"0ac87edf-3c94-4814-bb9d-d12244fe4901\",\"last_message\":\"Manifest delivery completed\",\"last_modified\":\"2022-12-06T00:08:53.767Z\",\"name\":\"Feb_1_2019\",\"notifications\":{\"email\":true},\"order_type\":\"partial\",\"products\":[{\"item_ids\":[\"20180331_201449_1003\",\"20180331_201221_0f35\",\"20180331_201223_0f35\",\"20180331_201222_0f35\",\"20180331_201220_0f35\",\"20180331_201445_1003\",\"20180331_201444_1003\",\"20180331_201446_1003\",\"20180331_201447_1003\",\"20180331_201338_101f\",\"20180331_201337_101f\"],\"item_type\":\"PSScene\",\"product_bundle\":\"analytic_sr_udm2\"}],\"state\":\"success\",\"tools\":[{\"clip\":{\"aoi\":{\"coordinates\":[[[-143.634224,60.137913],[-143.154108,60.137913],[-143.154108,60.355052],[-143.634224,60.355052],[-143.634224,60.137913]]],\"type\":\"Polygon\"}}},{\"harmonize\":{\"target_sensor\":\"Sentinel-2\"}}]}]}"
     ]
    },
    {
     "name": "stdout",
     "output_type": "stream",
     "text": [
      "\n"
     ]
    }
   ],
   "source": [
    "# Double checking authentication\n",
    "\n",
    "# If a pink box or a list of image IDs appear, it is working\n",
    "\n",
    "!curl -L -H \"Authorization: api-key $PLANET_API_KEY\" $orders_url\n",
    "\n",
    "# Ref https://developers.planet.com/docs/apis/data/api-mechanics/"
   ]
  },
  {
   "cell_type": "code",
   "execution_count": 277,
   "metadata": {},
   "outputs": [],
   "source": [
    "# Setting authentication\n",
    "\n",
    "auth = HTTPBasicAuth(PLANET_API_KEY, '')\n",
    "response = requests.get(data_url, auth=auth)"
   ]
  },
  {
   "cell_type": "markdown",
   "metadata": {},
   "source": [
    "## Filter the Image Search"
   ]
  },
  {
   "cell_type": "code",
   "execution_count": 278,
   "metadata": {},
   "outputs": [],
   "source": [
    "# Set the AOI\n",
    "\n",
    "geometry = {\n",
    "    \"type\":\"Polygon\",\n",
    "    \"coordinates\":[\n",
    "                  [\n",
    "            [\n",
    "              -16.134033865145483,\n",
    "              64.06695237423494\n",
    "            ],\n",
    "            [\n",
    "              -16.134033865145483,\n",
    "              64.23815860875357\n",
    "            ],\n",
    "            [\n",
    "              -16.590221302725666,\n",
    "              64.23815860875357\n",
    "            ],\n",
    "            [\n",
    "              -16.590221302725666,\n",
    "              64.06695237423494\n",
    "            ],\n",
    "            [\n",
    "              -16.134033865145483,\n",
    "              64.06695237423494\n",
    "            ]\n",
    "          ]\n",
    "        ]\n",
    "}\n",
    "\n",
    "# Ref https://geojson.io/#map=11.51/63.2765/-145.4083\n",
    "# Ref https://developers.planet.com/docs/planetschool/geojson-and-areas-of-interest-aois/\n",
    "# Ref https://developers.planet.com/docs/apis/data/searches-filtering/"
   ]
  },
  {
   "cell_type": "code",
   "execution_count": 280,
   "metadata": {},
   "outputs": [],
   "source": [
    "# Set the geometry selected in AOI\n",
    "\n",
    "geometry_filter = {\n",
    "  \"type\": \"GeometryFilter\",\n",
    "  \"field_name\": \"geometry\",\n",
    "  \"config\": geometry\n",
    "}"
   ]
  },
  {
   "cell_type": "code",
   "execution_count": 281,
   "metadata": {},
   "outputs": [],
   "source": [
    "# Set the date range\n",
    "\n",
    "date_range_filter_17 = {\n",
    "  \"type\": \"DateRangeFilter\",\n",
    "  \"field_name\": \"acquired\",\n",
    "  \"config\": {\n",
    "    \"gte\":\"2017-08-01T00:00:00Z\",\n",
    "    \"lte\":\"2017-09-15T23:59:00Z\"\n",
    "  }\n",
    "}\n",
    "\n",
    "date_range_filter_18 = {\n",
    "  \"type\": \"DateRangeFilter\",\n",
    "  \"field_name\": \"acquired\",\n",
    "  \"config\": {\n",
    "    \"gte\":\"2018-08-01T00:00:00Z\",\n",
    "    \"lte\":\"2018-09-15T23:59:00Z\"\n",
    "  }\n",
    "}\n",
    "\n",
    "date_range_filter_19 = {\n",
    "  \"type\": \"DateRangeFilter\",\n",
    "  \"field_name\": \"acquired\",\n",
    "  \"config\": {\n",
    "    \"gte\":\"2019-08-01T00:00:00Z\",\n",
    "    \"lte\":\"2019-09-15T23:59:00Z\"\n",
    "  }\n",
    "}\n",
    "\n",
    "date_range_filter_20 = {\n",
    "  \"type\": \"DateRangeFilter\",\n",
    "  \"field_name\": \"acquired\",\n",
    "  \"config\": {\n",
    "    \"gte\":\"2020-08-01T00:00:00Z\",\n",
    "    \"lte\":\"2020-09-15T23:59:00Z\"\n",
    "  }\n",
    "}\n",
    "\n",
    "date_range_filter_21 = {\n",
    "  \"type\": \"DateRangeFilter\",\n",
    "  \"field_name\": \"acquired\",\n",
    "  \"config\": {\n",
    "    \"gte\":\"2021-08-01T00:00:00Z\",\n",
    "    \"lte\":\"2021-09-15T23:59:00Z\"\n",
    "  }\n",
    "}\n",
    "\n",
    "date_range_filter_22 = {\n",
    "  \"type\": \"DateRangeFilter\",\n",
    "  \"field_name\": \"acquired\",\n",
    "  \"config\": {\n",
    "    \"gte\":\"2022-08-01T00:00:00Z\",\n",
    "    \"lte\":\"2022-09-15T23:59:00Z\"\n",
    "  }\n",
    "}"
   ]
  },
  {
   "cell_type": "code",
   "execution_count": 282,
   "metadata": {},
   "outputs": [],
   "source": [
    "# Set cloud coverage range\n",
    "\n",
    "cloud_cover_filter = {\n",
    "  \"type\": \"RangeFilter\",\n",
    "  \"field_name\": \"cloud_cover\",\n",
    "  \"config\": {\n",
    "    \"lte\": 0.15\n",
    "  }\n",
    "}"
   ]
  },
  {
   "cell_type": "code",
   "execution_count": 283,
   "metadata": {},
   "outputs": [],
   "source": [
    "# Combine filters under an 'And' condition to ensure they are all applied\n",
    "\n",
    "combined_filter_17 = {\n",
    "  \"type\": \"AndFilter\",\n",
    "  \"config\": [geometry_filter, date_range_filter_17, cloud_cover_filter]\n",
    "}\n",
    "\n",
    "combined_filter_18 = {\n",
    "  \"type\": \"AndFilter\",\n",
    "  \"config\": [geometry_filter, date_range_filter_18, cloud_cover_filter]\n",
    "}\n",
    "\n",
    "combined_filter_19 = {\n",
    "  \"type\": \"AndFilter\",\n",
    "  \"config\": [geometry_filter, date_range_filter_19, cloud_cover_filter]\n",
    "}\n",
    "\n",
    "combined_filter_20 = {\n",
    "  \"type\": \"AndFilter\",\n",
    "  \"config\": [geometry_filter, date_range_filter_20, cloud_cover_filter]\n",
    "}\n",
    "\n",
    "combined_filter_21 = {\n",
    "  \"type\": \"AndFilter\",\n",
    "  \"config\": [geometry_filter, date_range_filter_21, cloud_cover_filter]\n",
    "}\n",
    "\n",
    "combined_filter_22 = {\n",
    "  \"type\": \"AndFilter\",\n",
    "  \"config\": [geometry_filter, date_range_filter_22, cloud_cover_filter]\n",
    "}\n",
    "\n",
    "# Ref for all filters: https://developers.planet.com/docs/apis/data/searches-filtering/#asset-filters"
   ]
  },
  {
   "cell_type": "markdown",
   "metadata": {},
   "source": [
    "## Search Results by Year"
   ]
  },
  {
   "cell_type": "code",
   "execution_count": 284,
   "metadata": {},
   "outputs": [],
   "source": [
    "# Setting the item_type\n",
    "\n",
    "item_type = \"PSScene\"\n",
    "\n",
    "# Ref https://developers.planet.com/docs/apis/data/items-assets/#item-types"
   ]
  },
  {
   "cell_type": "markdown",
   "metadata": {},
   "source": [
    "### 2017"
   ]
  },
  {
   "cell_type": "code",
   "execution_count": 285,
   "metadata": {},
   "outputs": [
    {
     "name": "stdout",
     "output_type": "stream",
     "text": [
      "['20170914_114839_0f12', '20170914_114841_0f12', '20170914_114838_0f12', '20170914_114840_0f12', '20170914_114805_0f15', '20170914_114804_0f15', '20170914_114612_0f42', '20170914_114614_0f42', '20170914_114613_0f42', '20170914_114806_0f15', '20170914_114611_0f42', '20170914_114807_0f15', '20170914_114803_0f15', '20170914_114500_1033', '20170914_115016_1022', '20170914_115013_1022', '20170914_115015_1022', '20170914_115014_1022', '20170914_114501_1033', '20170914_114459_1033', '20170913_114740_0f52', '20170913_114743_0f52', '20170913_114741_0f52', '20170913_115059_0f25', '20170913_115058_0f25', '20170913_114742_0f52', '20170913_115100_0f25', '20170913_115101_0f25', '20170913_114358_1004', '20170913_114401_1004', '20170913_114359_1004', '20170913_114400_1004', '20170913_114321_1013', '20170913_114322_1013', '20170913_114320_1013', '20170911_115255_102d', '20170911_115257_102d', '20170911_115259_102d', '20170911_115256_102d', '20170911_114241_102a', '20170911_114243_102a', '20170911_114242_102a', '20170911_114240_102a', '20170909_112443_0f2b', '20170909_112442_0f2b', '20170909_112445_0f2b', '20170909_112444_0f2b', '20170909_114524_103b', '20170909_114523_103b', '20170909_114520_103b', '20170909_114521_103b', '20170909_114522_103b', '20170909_115028_100b', '20170909_115025_100b', '20170909_115027_100b', '20170909_115026_100b', '20170909_115052_0f51', '20170909_115054_0f51', '20170909_115053_0f51', '20170909_115055_0f51', '20170907_115133_101d', '20170907_115132_101d', '20170907_114549_103e', '20170907_114550_103e', '20170907_114547_103e', '20170907_114546_103e', '20170906_112635_103f', '20170906_112654_0f4f', '20170906_112653_0f4f', '20170906_112632_103f', '20170906_112631_103f', '20170906_112633_103f', '20170906_112656_0f4f', '20170906_112655_0f4f', '20170906_112634_103f', '20170906_115002_0e19', '20170906_115001_0e19', '20170906_115000_0e19', '20170906_114959_0e19', '20170906_114534_1003', '20170906_114533_1003', '20170906_114532_1003', '20170906_114531_1003', '20170905_115440_0e20', '20170905_115441_0e20', '20170905_112811_104c', '20170905_112813_104c', '20170905_112812_104c', '20170905_114837_1022', '20170901_114919_100c', '20170901_114921_100c', '20170901_114924_100c', '20170901_114923_100c', '20170901_114920_100c', '20170901_114416_1009', '20170901_114417_1009', '20170901_114413_1009', '20170901_114415_1009', '20170901_114414_1009', '20170830_114517_1044', '20170830_114516_1044', '20170830_114514_1044', '20170830_114515_1044', '20170830_112740_104e', '20170830_112739_104e', '20170830_112741_104e', '20170830_112742_104e', '20170830_112743_104e', '20170829_114631_1036', '20170829_114632_1036', '20170827_114554_1014', '20170827_114553_1014', '20170827_114651_1035', '20170827_114650_1035', '20170827_114649_1035', '20170827_114648_1035', '20170827_112638_1054', '20170824_112848_104b', '20170824_112847_104b', '20170824_112851_104b', '20170824_112849_104b', '20170824_112850_104b', '20170824_114419_1026', '20170824_114420_1026', '20170824_114421_1026', '20170824_114418_1026', '20170824_112829_1048', '20170824_112826_1048', '20170824_112827_1048', '20170824_112828_1048', '20170824_114657_102d', '20170824_114654_102d', '20170824_114656_102d', '20170824_114655_102d', '20170822_114646_0f31', '20170822_114647_0f31', '20170822_114648_0f31', '20170821_112754_1053', '20170821_114702_1013', '20170821_114704_1013', '20170821_114701_1013', '20170821_114700_1013', '20170821_114459_1006', '20170821_114738_1004', '20170821_114742_1004', '20170821_114741_1004', '20170821_114740_1004', '20170821_114739_1004', '20170821_114502_1006', '20170821_114503_1006', '20170821_114501_1006', '20170821_114500_1006', '20170820_114616_101d', '20170820_114615_101d', '20170820_114613_101d', '20170820_114614_101d', '20170820_114505_1030', '20170820_114503_1030', '20170820_114504_1030', '20170820_114502_1030', '20170820_114501_1030', '20170820_114937_0e0e', '20170820_114936_0e0e', '20170820_114939_0e0e', '20170820_114938_0e0e', '20170820_114638_1015', '20170820_114637_1015', '20170820_114636_1015', '20170820_114634_1015', '20170820_114734_100a', '20170820_114735_100a', '20170820_114736_100a', '20170820_114732_100a', '20170819_114819_102f', '20170819_114820_102f', '20170819_114822_102f', '20170819_114325_1002', '20170816_114838_1034', '20170816_114841_1034', '20170816_114839_1034', '20170816_114840_1034', '20170816_114842_1034', '20170815_114919_103e', '20170815_114921_103e', '20170815_114920_103e', '20170815_114918_103e', '20170812_115412_0e0f', '20170809_114937_1008', '20170809_114934_1008', '20170809_114936_1008', '20170809_114935_1008', '20170809_115154_0e19', '20170809_115153_0e19', '20170809_115156_0e19', '20170809_115155_0e19', '20170809_115152_0e19', '20170809_114419_1010', '20170809_114418_1010', '20170806_114939_0e0e', '20170806_114937_0e0e', '20170806_114941_0e0e', '20170806_114940_0e0e', '20170806_114938_0e0e', '20170806_114722_1030', '20170806_114723_1030', '20170806_114720_1030', '20170806_114721_1030', '20170805_114300_101f', '20170805_114301_101f', '20170805_114321_1003', '20170805_114320_1003', '20170805_114606_102c', '20170805_114607_102c']\n"
     ]
    }
   ],
   "source": [
    "# setting the search request\n",
    "\n",
    "search_request = {\n",
    "  \"item_types\": [item_type], \n",
    "  \"filter\": combined_filter_17\n",
    "}\n",
    "\n",
    "# starting the search\n",
    "\n",
    "search_result = \\\n",
    "  requests.post(\n",
    "    'https://api.planet.com/data/v1/quick-search',\n",
    "    auth=HTTPBasicAuth(PLANET_API_KEY, ''),\n",
    "    json=search_request)\n",
    "\n",
    "# listing image IDs\n",
    "\n",
    "image_ids_17 = [feature['id'] for feature in search_result.json()['features']]\n",
    "print(image_ids_17)\n",
    "\n",
    "# Ref https://developers.planet.com/docs/apis/data/items-assets/#item-types\n",
    "# Ref https://developers.planet.com/docs/data/psscene/\n",
    "\n",
    "# Grouped scenes will have the same first IDs which is the date '2017_09_14'"
   ]
  },
  {
   "cell_type": "markdown",
   "metadata": {},
   "source": [
    "### 2018"
   ]
  },
  {
   "cell_type": "code",
   "execution_count": 286,
   "metadata": {},
   "outputs": [
    {
     "name": "stdout",
     "output_type": "stream",
     "text": [
      "['20180914_120241_1009', '20180914_120240_1009', '20180914_120112_1010', '20180914_120114_1010', '20180913_120323_0f31', '20180913_120322_0f31', '20180912_115933_1040', '20180912_120334_1004', '20180912_120335_1004', '20180909_120049_1033', '20180909_120047_1033', '20180909_120048_1033', '20180909_115541_1105', '20180909_115540_1105', '20180909_115542_1105', '20180909_115539_1105', '20180905_115947_0f15', '20180905_115946_0f15', '20180903_120300_1042', '20180903_120301_1042', '20180903_120139_1011', '20180903_120143_1011', '20180903_120142_1011', '20180903_120140_1011', '20180903_120141_1011', '20180903_120008_101e', '20180903_120010_101e', '20180903_120009_101e', '20180903_120007_101e', '20180829_120243_1005', '20180829_120038_1025', '20180829_120039_1025', '20180829_120037_1025', '20180829_120040_1025', '20180828_120254_1010', '20180824_120118_100c', '20180824_120121_100c', '20180824_120119_100c', '20180824_120120_100c', '20180824_115908_1009', '20180824_115909_1009', '20180824_115905_1009', '20180823_120201_1033', '20180823_120200_1033', '20180823_120159_1033', '20180823_120157_1033', '20180823_120158_1033', '20180823_115948_0f31', '20180823_115950_0f31', '20180823_115949_0f31', '20180822_120011_1004', '20180822_120010_1004', '20180820_120048_101f', '20180820_120049_101f', '20180820_120047_101f', '20180820_120131_1003', '20180820_120130_1003', '20180819_120301_0f12', '20180816_120200_102c', '20180816_120201_102c', '20180816_120159_102c', '20180816_120202_102c', '20180813_120146_1038', '20180812_120149_1025', '20180812_120148_1025', '20180812_115940_1002', '20180811_115857_1032', '20180811_115859_1032', '20180811_115858_1032', '20180811_120035_0f3f', '20180811_120034_0f3f', '20180811_120032_0f3f', '20180811_120033_0f3f', '20180810_115951_0f17', '20180810_115949_0f17', '20180810_115950_0f17', '20180810_120013_103d', '20180810_120016_103d', '20180809_120219_1040', '20180809_120217_1040', '20180809_120218_1040', '20180808_120101_103e', '20180801_120008_0f25', '20180801_120007_0f25', '20180801_120006_0f25', '20180801_120005_0f25']\n"
     ]
    }
   ],
   "source": [
    "# setting the search request\n",
    "\n",
    "search_request = {\n",
    "  \"item_types\": [item_type], \n",
    "  \"filter\": combined_filter_18\n",
    "}\n",
    "\n",
    "# starting the search\n",
    "\n",
    "search_result = \\\n",
    "  requests.post(\n",
    "    'https://api.planet.com/data/v1/quick-search',\n",
    "    auth=HTTPBasicAuth(PLANET_API_KEY, ''),\n",
    "    json=search_request)\n",
    "\n",
    "# listing image IDs\n",
    "\n",
    "image_ids_18 = [feature['id'] for feature in search_result.json()['features']]\n",
    "print(image_ids_18)"
   ]
  },
  {
   "cell_type": "markdown",
   "metadata": {},
   "source": [
    "### 2019"
   ]
  },
  {
   "cell_type": "code",
   "execution_count": 287,
   "metadata": {},
   "outputs": [
    {
     "name": "stdout",
     "output_type": "stream",
     "text": [
      "['20190912_121354_1105', '20190912_121353_1105', '20190911_093627_0f1a', '20190911_093626_0f1a', '20190911_093625_0f1a', '20190911_093624_0f1a', '20190909_094205_1054', '20190909_094204_1054', '20190909_094203_1054', '20190909_120603_1010', '20190909_120601_1010', '20190909_111532_21_106a', '20190905_094154_1050', '20190905_094157_1050', '20190905_094153_1050', '20190905_094155_1050', '20190905_094156_1050', '20190904_111636_03_106f', '20190903_093914_0f49', '20190903_122806_95_105a', '20190903_093447_0f2b', '20190903_120703_1004', '20190903_120604_1013', '20190903_120605_1013', '20190902_093815_1049', '20190902_093813_1049', '20190902_093814_1049', '20190902_111337_07_106c', '20190902_111334_98_106c', '20190902_120631_1039', '20190901_121019_1021', '20190901_121018_1021', '20190901_121016_1021', '20190901_121017_1021', '20190901_111218_47_106b', '20190831_094013_1053', '20190831_094014_1053', '20190831_094012_1053', '20190831_093629_1_1052', '20190820_093709_1049', '20190820_093708_1049', '20190816_093758_0f1a', '20190812_094658_1048', '20190811_094007_0f36', '20190811_094006_0f36', '20190811_094008_0f36', '20190811_094005_0f36', '20190811_094304_0f32', '20190811_094301_0f32', '20190811_094303_0f32', '20190811_094302_0f32', '20190810_094432_1053', '20190810_094431_1053', '20190810_120838_0f34', '20190810_094434_1053', '20190810_094433_1053', '20190810_120837_0f34', '20190809_120411_101e', '20190808_111803_71_1063', '20190808_111801_65_1063', '20190808_120506_1003', '20190808_111759_58_1063', '20190807_094128_104b', '20190807_094130_104b', '20190807_094129_104b', '20190807_094127_104b', '20190807_094126_1_104b', '20190807_111539_65_1069', '20190806_094340_0f44', '20190806_094339_0f44', '20190805_093929_0f2d', '20190801_120345_1027']\n"
     ]
    }
   ],
   "source": [
    "# setting the search request\n",
    "\n",
    "search_request = {\n",
    "  \"item_types\": [item_type], \n",
    "  \"filter\": combined_filter_19\n",
    "}\n",
    "\n",
    "# starting the search\n",
    "\n",
    "search_result = \\\n",
    "  requests.post(\n",
    "    'https://api.planet.com/data/v1/quick-search',\n",
    "    auth=HTTPBasicAuth(PLANET_API_KEY, ''),\n",
    "    json=search_request)\n",
    "\n",
    "# listing image IDs\n",
    "\n",
    "image_ids_19 = [feature['id'] for feature in search_result.json()['features']]\n",
    "print(image_ids_19)"
   ]
  },
  {
   "cell_type": "markdown",
   "metadata": {},
   "source": [
    "### 2020"
   ]
  },
  {
   "cell_type": "code",
   "execution_count": 288,
   "metadata": {},
   "outputs": [
    {
     "name": "stdout",
     "output_type": "stream",
     "text": [
      "['20200915_123802_72_1066', '20200915_123800_72_1066', '20200915_123758_72_1066', '20200915_120940_1029', '20200915_120939_1029', '20200915_120938_1029', '20200915_120937_1029', '20200912_083541_1_100d', '20200912_083541_100d', '20200912_083540_100d', '20200912_124217_83_1061', '20200912_124215_83_1061', '20200910_083444_0f32', '20200910_083443_0f32', '20200907_083554_0f49', '20200907_083554_1_0f49', '20200907_083553_0f49', '20200828_120856_1014', '20200827_121034_1004', '20200827_121031_1004', '20200826_083614_0f21', '20200826_083614_1_0f21', '20200826_083613_0f21', '20200827_105509_74_1063', '20200826_121316_0f4e', '20200826_121315_0f4e', '20200826_121314_0f4e', '20200826_121313_0f4e', '20200826_121312_0f4e', '20200825_083709_104b', '20200825_115304_0e0f', '20200825_115300_0e0f', '20200824_123815_66_1064', '20200824_120914_103b', '20200822_083721_1_0f4d', '20200822_083721_0f4d', '20200822_083720_0f4d', '20200822_083719_0f4d', '20200820_124054_76_1057', '20200820_124052_74_1057', '20200820_105659_02_106e', '20200820_105702_12_106e', '20200820_105700_57_106e', '20200812_105608_01_106e', '20200812_105606_47_106e', '20200812_105604_93_106e', '20200808_084154_1050', '20200808_084154_1_1050', '20200808_084153_1050', '20200808_084152_1050', '20200803_084802_1052', '20200803_084802_1_1052', '20200803_084801_1052', '20200803_084800_1052', '20200915_114135_64_2223', '20200915_114137_99_2223', '20200915_114413_04_2278', '20200915_114415_43_2278', '20200826_114728_77_2271', '20200826_114730_96_2271', '20200826_114726_57_2271', '20200819_124004_55_105d', '20200814_114704_99_2277', '20200814_114709_42_2277', '20200814_114707_21_2277']\n"
     ]
    }
   ],
   "source": [
    "# setting the search request\n",
    "\n",
    "search_request = {\n",
    "  \"item_types\": [item_type], \n",
    "  \"filter\": combined_filter_20\n",
    "}\n",
    "\n",
    "# starting the search\n",
    "\n",
    "search_result = \\\n",
    "  requests.post(\n",
    "    'https://api.planet.com/data/v1/quick-search',\n",
    "    auth=HTTPBasicAuth(PLANET_API_KEY, ''),\n",
    "    json=search_request)\n",
    "\n",
    "# listing image IDs\n",
    "\n",
    "image_ids_20 = [feature['id'] for feature in search_result.json()['features']]\n",
    "print(image_ids_20)"
   ]
  },
  {
   "cell_type": "markdown",
   "metadata": {},
   "source": [
    "### 2021"
   ]
  },
  {
   "cell_type": "code",
   "execution_count": 289,
   "metadata": {},
   "outputs": [
    {
     "name": "stdout",
     "output_type": "stream",
     "text": [
      "['20210902_113854_55_2428', '20210810_114329_10_2429', '20210825_115325_44_2264', '20210809_114034_29_2421', '20210808_123056_08_2419', '20210901_123220_63_2403', '20210909_114556_46_2456', '20210826_115009_10_2262', '20210831_113706_20_2420', '20210805_123620_14_2416', '20210809_122800_66_2426', '20210809_122758_36_2426', '20210901_115220_88_2262', '20210828_122454_97_227c', '20210909_130002_71_1061', '20210909_130000_71_1061', '20210909_125958_71_1061', '20210908_125847_75_1064', '20210908_125845_75_1064', '20210910_120334_1034', '20210910_120333_1034', '20210910_120332_1034', '20210910_120331_1034', '20210909_114601_06_2456', '20210909_114558_76_2456', '20210910_120120_1035', '20210910_120119_1035', '20210909_114527_74_2448', '20210909_114525_44_2448', '20210909_114523_14_2448', '20210909_123242_1105', '20210909_123244_1105', '20210907_113429_00_2450', '20210816_122503_15_2414', '20210816_122500_86_2414', '20210903_073636_1053', '20210903_073635_1053', '20210902_113857_02_2428', '20210902_114740_0e20', '20210902_114739_0e20', '20210902_114741_0e20', '20210902_114738_0e20', '20210901_125745_71_1058', '20210901_125743_71_1058', '20210901_115223_17_2262', '20210901_120706_101f', '20210901_120704_101f', '20210901_120705_101f', '20210901_120703_101f', '20210901_121112_1003', '20210901_123225_23_2403', '20210901_123222_93_2403', '20210831_113708_68_2420', '20210828_122452_49_227c', '20210828_122450_01_227c', '20210828_115458_78_2233', '20210828_073845_1_0f36', '20210828_073845_0f36', '20210828_073844_0f36', '20210828_073843_0f36', '20210825_120300_1003', '20210818_120342_1025', '20210815_125852_60_105a', '20210815_125851_09_105a', '20210815_120558_1038', '20210815_120559_1038', '20210813_122349_05_227b', '20210810_114331_57_2429', '20210808_113936_98_2428', '20210808_113934_50_2428', '20210808_113932_03_2428', '20210809_114036_76_2421', '20210809_122802_95_2426', '20210808_123058_56_2419']\n"
     ]
    }
   ],
   "source": [
    "# setting the search request\n",
    "\n",
    "search_request = {\n",
    "  \"item_types\": [item_type], \n",
    "  \"filter\": combined_filter_21\n",
    "}\n",
    "\n",
    "# starting the search\n",
    "\n",
    "search_result = \\\n",
    "  requests.post(\n",
    "    'https://api.planet.com/data/v1/quick-search',\n",
    "    auth=HTTPBasicAuth(PLANET_API_KEY, ''),\n",
    "    json=search_request)\n",
    "\n",
    "# listing image IDs\n",
    "\n",
    "image_ids_21 = [feature['id'] for feature in search_result.json()['features']]\n",
    "print(image_ids_21)"
   ]
  },
  {
   "cell_type": "markdown",
   "metadata": {},
   "source": [
    "### 2022"
   ]
  },
  {
   "cell_type": "code",
   "execution_count": 290,
   "metadata": {},
   "outputs": [
    {
     "name": "stdout",
     "output_type": "stream",
     "text": [
      "['20220915_113028_21_2439', '20220915_120450_82_2479', '20220915_120448_53_2479', '20220915_121950_04_2403', '20220915_121947_75_2403', '20220912_120800_78_249c', '20220913_113035_92_2463', '20220912_113136_43_242b', '20220912_113134_14_242b', '20220912_113131_85_242b', '20220911_114902_53_2262', '20220910_120352_43_2489', '20220910_120350_15_2489', '20220910_120347_87_2489', '20220909_120644_97_2477', '20220909_120642_68_2477', '20220909_122442_29_2414', '20220909_122440_01_2414', '20220909_122437_73_2414', '20220906_113002_62_242b', '20220905_120700_59_248e', '20220905_120658_29_248e', '20220905_120655_99_248e', '20220905_113536_56_2457', '20220905_113534_27_2457', '20220905_113531_98_2457', '20220902_120748_19_2495', '20220902_121610_53_241c', '20220902_121608_23_241c', '20220901_121257_47_2488', '20220901_121255_18_2488', '20220831_112733_92_242b', '20220831_120825_32_2498', '20220830_113015_23_2449', '20220830_113306_77_2457', '20220830_113304_48_2457', '20220827_122117_71_2403', '20220827_122115_43_2403', '20220827_120357_14_2477', '20220827_120354_86_2477', '20220827_120734_17_249a', '20220827_120731_91_249a', '20220825_120619_81_24a3', '20220825_120617_54_24a3', '20220824_115127_10_2262', '20220821_120428_21_2446', '20220821_120634_68_2489', '20220820_113745_69_2212', '20220814_112903_34_2459', '20220817_113447_41_2465', '20220817_113445_11_2465', '20220817_113442_82_2465', '20220816_113127_19_2464', '20220816_113124_89_2464', '20220816_121844_47_2426', '20220816_121842_21_2426', '20220815_122005_42_227a', '20220815_122003_13_227a', '20220815_115107_96_2262', '20220815_115105_68_2262', '20220813_113226_06_2430', '20220813_113223_77_2430', '20220812_112939_52_2432', '20220812_112937_22_2432', '20220805_122022_64_2254', '20220805_122442_57_2405', '20220805_122440_29_2405', '20220805_113129_88_2449', '20220805_113127_60_2449', '20220805_113125_33_2449', '20220804_122220_12_2402', '20220804_122217_86_2402', '20220802_113117_26_245c', '20220802_113112_70_245c', '20220802_113250_71_241f', '20220802_113248_41_241f']\n"
     ]
    }
   ],
   "source": [
    "# setting the search request\n",
    "\n",
    "search_request = {\n",
    "  \"item_types\": [item_type], \n",
    "  \"filter\": combined_filter_22\n",
    "}\n",
    "\n",
    "# starting the search\n",
    "\n",
    "search_result = \\\n",
    "  requests.post(\n",
    "    'https://api.planet.com/data/v1/quick-search',\n",
    "    auth=HTTPBasicAuth(PLANET_API_KEY, ''),\n",
    "    json=search_request)\n",
    "\n",
    "# listing image IDs\n",
    "\n",
    "image_ids_22 = [feature['id'] for feature in search_result.json()['features']]\n",
    "print(image_ids_22)"
   ]
  },
  {
   "cell_type": "markdown",
   "metadata": {},
   "source": [
    "## Preview the Search before Ordering"
   ]
  },
  {
   "cell_type": "code",
   "execution_count": 292,
   "metadata": {},
   "outputs": [],
   "source": [
    "'https://tiles.planet.com/data/v1/item-types/PSScene/items/20170914_114839_0f12/thumb?api_key=**ReplacewithAPIKeyONLY**'\n",
    "\n",
    "thumbnail_base = r'https://tiles.planet.com/data/v1/item-types/PSScene/items/'\n",
    "API_key_URL = r'/thumb?api_key=**ReplacewithAPIKeyFromGoogleDrive**'\n",
    "thumbnail_search_17 = thumbnail_base + image_ids_17 + API_key_URL\n",
    "thumbnail_search_18 = thumbnail_base + image_ids_18 + API_key_URL\n",
    "thumbnail_search_19 = thumbnail_base + image_ids_19 + API_key_URL\n",
    "thumbnail_search_20 = thumbnail_base + image_ids_20 + API_key_URL\n",
    "thumbnail_search_21 = thumbnail_base + image_ids_21 + API_key_URL\n",
    "thumbnail_search_22 = thumbnail_base + image_ids_22 + API_key_URL\n",
    "\n",
    "# If I had more time/experience I would automate this so the IDs from above would\n",
    "# autopopulate into the URL so I could review the thumbnails to choose the best images\n",
    "\n",
    "# This step is not necessary at the moment but worth developing later\n",
    "\n",
    "# Ref https://developers.planet.com/docs/apis/data/item-previews/"
   ]
  },
  {
   "cell_type": "markdown",
   "metadata": {},
   "source": [
    "## Placing the Order"
   ]
  },
  {
   "cell_type": "code",
   "execution_count": 293,
   "metadata": {},
   "outputs": [],
   "source": [
    "# set content type to json\n",
    "\n",
    "headers = {'content-type': 'application/json'}"
   ]
  },
  {
   "cell_type": "markdown",
   "metadata": {},
   "source": [
    "### 2017"
   ]
  },
  {
   "cell_type": "code",
   "execution_count": 294,
   "metadata": {},
   "outputs": [
    {
     "data": {
      "text/plain": [
       "{'name': 'Iceland_2017', 'products': [{'item_ids': ['*InsertImageIDsFromAbove*'], 'item_type': 'PSScene', 'product_bundle': 'analytic_udm2'}], 'tools': [{'clip': {'aoi': {'type': 'Polygon', 'coordinates': [[[-16.134033865145483, 64.06695237423494], [-16.134033865145483, 64.23815860875357], [-16.590221302725666, 64.23815860875357], [-16.590221302725666, 64.06695237423494], [-16.134033865145483, 64.06695237423494]]]}}}, {'bandmath': {'b1': 'b3', 'b2': 'b2', 'b3': 'b1'}}, {'composite': {}}], 'delivery': {'archive_type': 'zip', 'archive_filename': '{{name}}_{{order_id}}.zip'}}"
      ]
     },
     "execution_count": 294,
     "metadata": {},
     "output_type": "execute_result"
    }
   ],
   "source": [
    "# defining the product\n",
    "\n",
    "product_2017 = [\n",
    "    {\n",
    "      \"item_ids\": image_ids_17,\n",
    "      \"item_type\": 'PSScene' ,\n",
    "      \"product_bundle\": 'analytic_udm2' # chosen because of ref below\n",
    "    }\n",
    "]\n",
    "\n",
    "\n",
    "request_2017 = {  \n",
    "    \"name\": \"Iceland_2017\",\n",
    "    \"products\": product_2017,\n",
    "    \"tools\": [\n",
    "        {\"clip\": \n",
    "             {\"aoi\": geometry}\n",
    "        },\n",
    "        {\"composite\": {}\n",
    "        }\n",
    "    ],\n",
    "    \"delivery\": \n",
    "        {\"archive_type\": \"zip\",\n",
    "         \"archive_filename\": \"{{name}}_{{order_id}}.zip\"}\n",
    "}\n",
    "request_2017\n",
    "\n",
    "\n",
    "# Ref https://developers.planet.com/apis/orders/product-bundles-reference/\n",
    "# Ref https://developers.planet.com/apis/orders/delivery/\n",
    "# Ref https://developers.planet.com/apis/orders/tools/#merge"
   ]
  },
  {
   "cell_type": "code",
   "execution_count": 114,
   "metadata": {},
   "outputs": [],
   "source": [
    "def place_order(request_2017, auth):\n",
    "    response = requests.post(orders_url, data=json.dumps(request_2017), auth=auth, headers=headers)\n",
    "    print(response.json())\n",
    "    order_id = response.json()['id']\n",
    "    print(order_id)\n",
    "    order_url = orders_url + '/' + order_id\n",
    "    return order_url\n",
    "\n",
    "# Ref https://github.com/planetlabs/notebooks"
   ]
  },
  {
   "cell_type": "code",
   "execution_count": 82,
   "metadata": {},
   "outputs": [
    {
     "name": "stdout",
     "output_type": "stream",
     "text": [
      "{'_links': {'_self': 'https://api.planet.com/compute/ops/orders/v2/29f1dc27-c99d-4460-a704-ee49524fd0d2'}, 'created_on': '2022-12-14T00:31:47.441Z', 'delivery': {'archive_filename': '{{name}}_{{order_id}}.zip', 'archive_type': 'zip'}, 'error_hints': [], 'id': '29f1dc27-c99d-4460-a704-ee49524fd0d2', 'last_message': 'Preparing order', 'last_modified': '2022-12-14T00:31:47.441Z', 'name': 'Alaska_2017', 'products': [{'item_ids': ['20170722_201655_1041', '20170722_201654_1041', '20170722_201934_1011', '20170722_201933_1011'], 'item_type': 'PSScene', 'product_bundle': 'analytic_udm2'}], 'state': 'queued', 'tools': [{'clip': {'aoi': {'coordinates': [[[-145.44859629282018, 63.29635255038565], [-145.44859629282018, 63.25045403118733], [-145.37814550162204, 63.25045403118733], [-145.37814550162204, 63.29635255038565], [-145.44859629282018, 63.29635255038565]]], 'type': 'Polygon'}}}, {'bandmath': {'b1': 'b3', 'b2': 'b2', 'b3': 'b1'}}, {'composite': {}}]}\n",
      "29f1dc27-c99d-4460-a704-ee49524fd0d2\n"
     ]
    }
   ],
   "source": [
    "# Placing the order\n",
    "\n",
    "# DO NOT RUN THIS CELL\n",
    "\n",
    "order_url = place_order(request_2017, auth)\n",
    "\n",
    "# I am delivering these files to my Planet account\n",
    "\n",
    "# I attempted to deliver them to a Google Cloud Storage account but unfortunately failed\n",
    "\n",
    "# I will place zip files in my shared Google Drive Account"
   ]
  },
  {
   "cell_type": "markdown",
   "metadata": {},
   "source": [
    "### 2018"
   ]
  },
  {
   "cell_type": "code",
   "execution_count": 116,
   "metadata": {},
   "outputs": [
    {
     "data": {
      "text/plain": [
       "{'name': 'Alaska_2017', 'products': [{'item_ids': ['20170722_201655_1041', '20170722_201654_1041', '20170722_201934_1011', '20170722_201933_1011'], 'item_type': 'PSScene', 'product_bundle': 'analytic_udm2'}], 'tools': [{'clip': {'aoi': {'type': 'Polygon', 'coordinates': [[[-145.44859629282018, 63.29635255038565], [-145.44859629282018, 63.25045403118733], [-145.37814550162204, 63.25045403118733], [-145.37814550162204, 63.29635255038565], [-145.44859629282018, 63.29635255038565]]]}}}, {'bandmath': {'b1': 'b3', 'b2': 'b2', 'b3': 'b1'}}, {'composite': {}}], 'delivery': {'archive_type': 'zip', 'archive_filename': '{{name}}_{{order_id}}.zip'}}"
      ]
     },
     "execution_count": 116,
     "metadata": {},
     "output_type": "execute_result"
    }
   ],
   "source": [
    "product_2018 = [\n",
    "    {\n",
    "      \"item_ids\": image_ids_18,\n",
    "      \"item_type\": 'PSScene' ,\n",
    "      \"product_bundle\": 'analytic_udm2'\n",
    "    }\n",
    "]\n",
    "\n",
    "request_2018 = {  \n",
    "    \"name\": \"Iceland_2018\",\n",
    "    \"products\": product_2018,\n",
    "    \"tools\": [\n",
    "        {\"clip\": \n",
    "             {\"aoi\": geometry}\n",
    "        },\n",
    "        {\"composite\": {}\n",
    "        }\n",
    "    ],\n",
    "    \"delivery\": \n",
    "        {\"archive_type\": \"zip\",\n",
    "         \"archive_filename\": \"{{name}}_{{order_id}}.zip\"}\n",
    "}\n",
    "request_2018"
   ]
  },
  {
   "cell_type": "code",
   "execution_count": 117,
   "metadata": {},
   "outputs": [],
   "source": [
    "def place_order(request_2018, auth):\n",
    "    response = requests.post(orders_url, data=json.dumps(request_2018), auth=auth, headers=headers)\n",
    "    print(response.json())\n",
    "    order_id = response.json()['id']\n",
    "    print(order_id)\n",
    "    order_url = orders_url + '/' + order_id\n",
    "    return order_url"
   ]
  },
  {
   "cell_type": "code",
   "execution_count": 118,
   "metadata": {},
   "outputs": [
    {
     "name": "stdout",
     "output_type": "stream",
     "text": [
      "{'_links': {'_self': 'https://api.planet.com/compute/ops/orders/v2/81310fa6-a38b-4e09-bf03-1a2be174e1d0'}, 'created_on': '2022-12-14T02:41:43.711Z', 'delivery': {'archive_filename': '{{name}}_{{order_id}}.zip', 'archive_type': 'zip'}, 'error_hints': [], 'id': '81310fa6-a38b-4e09-bf03-1a2be174e1d0', 'last_message': 'Preparing order', 'last_modified': '2022-12-14T02:41:43.711Z', 'name': 'Alaska_2018', 'products': [{'item_ids': ['20180731_203403_1033', '20180731_203404_1033'], 'item_type': 'PSScene', 'product_bundle': 'analytic_udm2'}], 'state': 'queued', 'tools': [{'clip': {'aoi': {'coordinates': [[[-145.44859629282018, 63.29635255038565], [-145.44859629282018, 63.25045403118733], [-145.37814550162204, 63.25045403118733], [-145.37814550162204, 63.29635255038565], [-145.44859629282018, 63.29635255038565]]], 'type': 'Polygon'}}}, {'bandmath': {'b1': 'b3', 'b2': 'b2', 'b3': 'b1'}}, {'composite': {}}]}\n",
      "81310fa6-a38b-4e09-bf03-1a2be174e1d0\n"
     ]
    }
   ],
   "source": [
    "# DO NOT RUN THIS CELL\n",
    "\n",
    "order_url = place_order(request_2018, auth)"
   ]
  },
  {
   "cell_type": "markdown",
   "metadata": {},
   "source": [
    "### 2019"
   ]
  },
  {
   "cell_type": "code",
   "execution_count": 119,
   "metadata": {},
   "outputs": [
    {
     "data": {
      "text/plain": [
       "{'name': 'Alaska_2019', 'products': [{'item_ids': ['20190808_203835_1006', '20190808_203834_1006'], 'item_type': 'PSScene', 'product_bundle': 'analytic_udm2'}], 'tools': [{'clip': {'aoi': {'type': 'Polygon', 'coordinates': [[[-145.44859629282018, 63.29635255038565], [-145.44859629282018, 63.25045403118733], [-145.37814550162204, 63.25045403118733], [-145.37814550162204, 63.29635255038565], [-145.44859629282018, 63.29635255038565]]]}}}, {'bandmath': {'b1': 'b3', 'b2': 'b2', 'b3': 'b1'}}, {'composite': {}}], 'delivery': {'archive_type': 'zip', 'archive_filename': '{{name}}_{{order_id}}.zip'}}"
      ]
     },
     "execution_count": 119,
     "metadata": {},
     "output_type": "execute_result"
    }
   ],
   "source": [
    "product_2019 = [\n",
    "    {\n",
    "      \"item_ids\": image_ids_19, \n",
    "      \"item_type\": 'PSScene' ,\n",
    "      \"product_bundle\": 'analytic_udm2'\n",
    "    }\n",
    "]\n",
    "\n",
    "request_2019 = {  \n",
    "    \"name\": \"Iceland_2019\",\n",
    "    \"products\": product_2019,\n",
    "    \"tools\": [\n",
    "        {\"clip\": \n",
    "             {\"aoi\": geometry}\n",
    "        },\n",
    "        {\"composite\": {}\n",
    "        }\n",
    "    ],\n",
    "    \"delivery\": \n",
    "        {\"archive_type\": \"zip\",\n",
    "         \"archive_filename\": \"{{name}}_{{order_id}}.zip\"}\n",
    "}\n",
    "request_2019"
   ]
  },
  {
   "cell_type": "code",
   "execution_count": null,
   "metadata": {},
   "outputs": [],
   "source": [
    "def place_order(request_2019, auth):\n",
    "    response = requests.post(orders_url, data=json.dumps(request_2019), auth=auth, headers=headers)\n",
    "    print(response.json())\n",
    "    order_id = response.json()['id']\n",
    "    print(order_id)\n",
    "    order_url = orders_url + '/' + order_id\n",
    "    return order_url"
   ]
  },
  {
   "cell_type": "code",
   "execution_count": null,
   "metadata": {},
   "outputs": [],
   "source": [
    "# DO NOT RUN THIS CELL\n",
    "\n",
    "order_url = place_order(request_2019, auth)"
   ]
  },
  {
   "cell_type": "markdown",
   "metadata": {},
   "source": [
    "### 2020"
   ]
  },
  {
   "cell_type": "code",
   "execution_count": null,
   "metadata": {},
   "outputs": [],
   "source": [
    "product_2020 = [\n",
    "    {\n",
    "      \"item_ids\": image_ids_20,\n",
    "      \"item_type\": 'PSScene' ,\n",
    "      \"product_bundle\": 'analytic_udm2'\n",
    "    }\n",
    "]\n",
    "\n",
    "request_2020 = {  \n",
    "    \"name\": \"Iceland_2020\",\n",
    "    \"products\": product_2020,\n",
    "    \"tools\": [\n",
    "        {\"clip\": \n",
    "             {\"aoi\": geometry}\n",
    "        },\n",
    "        {\"composite\": {}\n",
    "        }\n",
    "    ],\n",
    "    \"delivery\": \n",
    "        {\"archive_type\": \"zip\",\n",
    "         \"archive_filename\": \"{{name}}_{{order_id}}.zip\"}\n",
    "}\n",
    "request_2020"
   ]
  },
  {
   "cell_type": "code",
   "execution_count": null,
   "metadata": {},
   "outputs": [],
   "source": [
    "def place_order(request_2020, auth):\n",
    "    response = requests.post(orders_url, data=json.dumps(request_2020), auth=auth, headers=headers)\n",
    "    print(response.json())\n",
    "    order_id = response.json()['id']\n",
    "    print(order_id)\n",
    "    order_url = orders_url + '/' + order_id\n",
    "    return order_url"
   ]
  },
  {
   "cell_type": "code",
   "execution_count": null,
   "metadata": {},
   "outputs": [],
   "source": [
    "# DO NOT RUN THIS CELL\n",
    "\n",
    "order_url = place_order(request_2020, auth)"
   ]
  },
  {
   "cell_type": "markdown",
   "metadata": {},
   "source": [
    "### 2021"
   ]
  },
  {
   "cell_type": "code",
   "execution_count": null,
   "metadata": {},
   "outputs": [],
   "source": [
    "product_2021 = [\n",
    "    {\n",
    "      \"item_ids\": image_ids_21,\n",
    "      \"item_type\": 'PSScene' ,\n",
    "      \"product_bundle\": 'analytic_udm2'\n",
    "    }\n",
    "]\n",
    "\n",
    "request_2021 = {  \n",
    "    \"name\": \"Iceland_2021\",\n",
    "    \"products\": product_2021,\n",
    "    \"tools\": [\n",
    "        {\"clip\": \n",
    "             {\"aoi\": geometry}\n",
    "        },\n",
    "        {\"composite\": {}\n",
    "        }\n",
    "    ],\n",
    "    \"delivery\": \n",
    "        {\"archive_type\": \"zip\",\n",
    "         \"archive_filename\": \"{{name}}_{{order_id}}.zip\"}\n",
    "}\n",
    "request_2021"
   ]
  },
  {
   "cell_type": "code",
   "execution_count": null,
   "metadata": {},
   "outputs": [],
   "source": [
    "def place_order(request_2021, auth):\n",
    "    response = requests.post(orders_url, data=json.dumps(request_2021), auth=auth, headers=headers)\n",
    "    print(response.json())\n",
    "    order_id = response.json()['id']\n",
    "    print(order_id)\n",
    "    order_url = orders_url + '/' + order_id\n",
    "    return order_url"
   ]
  },
  {
   "cell_type": "code",
   "execution_count": null,
   "metadata": {},
   "outputs": [],
   "source": [
    "# DO NOT RUN THIS CELL\n",
    "\n",
    "order_url = place_order(request_2021, auth)"
   ]
  },
  {
   "cell_type": "markdown",
   "metadata": {},
   "source": [
    "### 2022"
   ]
  },
  {
   "cell_type": "code",
   "execution_count": null,
   "metadata": {},
   "outputs": [],
   "source": [
    "product_2022 = [\n",
    "    {\n",
    "      \"item_ids\": image_ids_22,\n",
    "      \"item_type\": 'PSScene' ,\n",
    "      \"product_bundle\": 'analytic_udm2'\n",
    "    }\n",
    "]\n",
    "\n",
    "request_2022 = {  \n",
    "    \"name\": \"Iceland_2022\",\n",
    "    \"products\": product_2022,\n",
    "    \"tools\": [\n",
    "        {\"clip\": \n",
    "             {\"aoi\": geometry}\n",
    "        },\n",
    "        {\"composite\": {}\n",
    "        }\n",
    "    ],\n",
    "    \"delivery\": \n",
    "        {\"archive_type\": \"zip\",\n",
    "         \"archive_filename\": \"{{name}}_{{order_id}}.zip\"}\n",
    "}\n",
    "request_2022"
   ]
  },
  {
   "cell_type": "code",
   "execution_count": null,
   "metadata": {},
   "outputs": [],
   "source": [
    "def place_order(request_2022, auth):\n",
    "    response = requests.post(orders_url, data=json.dumps(request_2022), auth=auth, headers=headers)\n",
    "    print(response.json())\n",
    "    order_id = response.json()['id']\n",
    "    print(order_id)\n",
    "    order_url = orders_url + '/' + order_id\n",
    "    return order_url"
   ]
  },
  {
   "cell_type": "code",
   "execution_count": null,
   "metadata": {},
   "outputs": [],
   "source": [
    "# DO NOT RUN THIS CELL\n",
    "\n",
    "order_url = place_order(request_2022, auth)"
   ]
  }
 ],
 "metadata": {
  "kernelspec": {
   "display_name": "ArcGISPro",
   "language": "Python",
   "name": "python3"
  },
  "language_info": {
   "file_extension": ".py",
   "name": "python",
   "version": "3"
  }
 },
 "nbformat": 4,
 "nbformat_minor": 2
}
